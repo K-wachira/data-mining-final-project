{
  "cells": [
    {
      "cell_type": "code",
      "execution_count": null,
      "metadata": {
        "id": "PO2m9-fiyuAF"
      },
      "outputs": [],
      "source": [
        "import pandas as pd"
      ]
    },
    {
      "cell_type": "markdown",
      "metadata": {
        "id": "BSf6UKGkyuAK"
      },
      "source": [
        "# Collect, load and Merge Applicants Data"
      ]
    },
    {
      "cell_type": "markdown",
      "source": [
        "In this section, we collect data from applicants, this data is collected by use of online forms like google form and survey monkey apply\n",
        "\n",
        "The data sets collected span over several months, dubbed intakes, and this section covers the merging of the intakes into a single dataset with uniform columns"
      ],
      "metadata": {
        "id": "dNnop_yZzg6n"
      }
    },
    {
      "cell_type": "code",
      "execution_count": null,
      "metadata": {
        "id": "rXfqckbZyuAN"
      },
      "outputs": [],
      "source": [
        "cohort_21 = \"/home/init/Documents/work/Computer Science/CAPSTONE/data sets/Cohort 21 Data sheet.csv\"\n",
        "cohort_22 = \"/home/init/Documents/work/Computer Science/CAPSTONE/data sets/Cohort 22 Data sheet.csv\"\n",
        "cohort_23 = \"/home/init/Documents/work/Computer Science/CAPSTONE/data sets/Cohort 23 Data Sheet.csv\"\n",
        "cohort_24a = \"/home/init/Documents/work/Computer Science/CAPSTONE/data sets/Cohort 24 Data Sheet 1.csv\"\n",
        "cohort_24b = \"/home/init/Documents/work/Computer Science/CAPSTONE/data sets/Cohort 24 Data Sheet  2.csv\""
      ]
    },
    {
      "cell_type": "code",
      "execution_count": null,
      "metadata": {
        "id": "eet7s3pTyuAO",
        "colab": {
          "base_uri": "https://localhost:8080/",
          "height": 383
        },
        "outputId": "6d2c9636-a2f0-4e34-d9e1-42aab00a24d8"
      },
      "outputs": [
        {
          "output_type": "error",
          "ename": "FileNotFoundError",
          "evalue": "ignored",
          "traceback": [
            "\u001b[0;31m---------------------------------------------------------------------------\u001b[0m",
            "\u001b[0;31mFileNotFoundError\u001b[0m                         Traceback (most recent call last)",
            "\u001b[0;32m<ipython-input-3-edb91e9d3e5b>\u001b[0m in \u001b[0;36m<module>\u001b[0;34m()\u001b[0m\n\u001b[0;32m----> 1\u001b[0;31m \u001b[0mcohort_21_df\u001b[0m \u001b[0;34m=\u001b[0m \u001b[0mpd\u001b[0m\u001b[0;34m.\u001b[0m\u001b[0mread_csv\u001b[0m\u001b[0;34m(\u001b[0m\u001b[0mcohort_21\u001b[0m\u001b[0;34m)\u001b[0m\u001b[0;34m\u001b[0m\u001b[0;34m\u001b[0m\u001b[0m\n\u001b[0m\u001b[1;32m      2\u001b[0m \u001b[0mcohort_22_df\u001b[0m \u001b[0;34m=\u001b[0m \u001b[0mpd\u001b[0m\u001b[0;34m.\u001b[0m\u001b[0mread_csv\u001b[0m\u001b[0;34m(\u001b[0m\u001b[0mcohort_22\u001b[0m\u001b[0;34m)\u001b[0m\u001b[0;34m\u001b[0m\u001b[0;34m\u001b[0m\u001b[0m\n\u001b[1;32m      3\u001b[0m \u001b[0mcohort_23_df\u001b[0m \u001b[0;34m=\u001b[0m \u001b[0mpd\u001b[0m\u001b[0;34m.\u001b[0m\u001b[0mread_csv\u001b[0m\u001b[0;34m(\u001b[0m\u001b[0mcohort_23\u001b[0m\u001b[0;34m)\u001b[0m\u001b[0;34m\u001b[0m\u001b[0;34m\u001b[0m\u001b[0m\n\u001b[1;32m      4\u001b[0m \u001b[0mcohort_24a_df\u001b[0m \u001b[0;34m=\u001b[0m \u001b[0mpd\u001b[0m\u001b[0;34m.\u001b[0m\u001b[0mread_csv\u001b[0m\u001b[0;34m(\u001b[0m\u001b[0mcohort_24a\u001b[0m\u001b[0;34m)\u001b[0m\u001b[0;34m\u001b[0m\u001b[0;34m\u001b[0m\u001b[0m\n\u001b[1;32m      5\u001b[0m \u001b[0mcohort_24a_df\u001b[0m \u001b[0;34m=\u001b[0m \u001b[0mcohort_24a_df\u001b[0m\u001b[0;34m.\u001b[0m\u001b[0miloc\u001b[0m\u001b[0;34m[\u001b[0m\u001b[0;36m1\u001b[0m\u001b[0;34m:\u001b[0m \u001b[0;34m,\u001b[0m \u001b[0;34m:\u001b[0m\u001b[0;34m]\u001b[0m \u001b[0;31m# because cohort 24a data sheet has an extra row at the begining that we do not use for\u001b[0m\u001b[0;34m\u001b[0m\u001b[0;34m\u001b[0m\u001b[0m\n",
            "\u001b[0;32m/usr/local/lib/python3.7/dist-packages/pandas/util/_decorators.py\u001b[0m in \u001b[0;36mwrapper\u001b[0;34m(*args, **kwargs)\u001b[0m\n\u001b[1;32m    309\u001b[0m                     \u001b[0mstacklevel\u001b[0m\u001b[0;34m=\u001b[0m\u001b[0mstacklevel\u001b[0m\u001b[0;34m,\u001b[0m\u001b[0;34m\u001b[0m\u001b[0;34m\u001b[0m\u001b[0m\n\u001b[1;32m    310\u001b[0m                 )\n\u001b[0;32m--> 311\u001b[0;31m             \u001b[0;32mreturn\u001b[0m \u001b[0mfunc\u001b[0m\u001b[0;34m(\u001b[0m\u001b[0;34m*\u001b[0m\u001b[0margs\u001b[0m\u001b[0;34m,\u001b[0m \u001b[0;34m**\u001b[0m\u001b[0mkwargs\u001b[0m\u001b[0;34m)\u001b[0m\u001b[0;34m\u001b[0m\u001b[0;34m\u001b[0m\u001b[0m\n\u001b[0m\u001b[1;32m    312\u001b[0m \u001b[0;34m\u001b[0m\u001b[0m\n\u001b[1;32m    313\u001b[0m         \u001b[0;32mreturn\u001b[0m \u001b[0mwrapper\u001b[0m\u001b[0;34m\u001b[0m\u001b[0;34m\u001b[0m\u001b[0m\n",
            "\u001b[0;32m/usr/local/lib/python3.7/dist-packages/pandas/io/parsers/readers.py\u001b[0m in \u001b[0;36mread_csv\u001b[0;34m(filepath_or_buffer, sep, delimiter, header, names, index_col, usecols, squeeze, prefix, mangle_dupe_cols, dtype, engine, converters, true_values, false_values, skipinitialspace, skiprows, skipfooter, nrows, na_values, keep_default_na, na_filter, verbose, skip_blank_lines, parse_dates, infer_datetime_format, keep_date_col, date_parser, dayfirst, cache_dates, iterator, chunksize, compression, thousands, decimal, lineterminator, quotechar, quoting, doublequote, escapechar, comment, encoding, encoding_errors, dialect, error_bad_lines, warn_bad_lines, on_bad_lines, delim_whitespace, low_memory, memory_map, float_precision, storage_options)\u001b[0m\n\u001b[1;32m    584\u001b[0m     \u001b[0mkwds\u001b[0m\u001b[0;34m.\u001b[0m\u001b[0mupdate\u001b[0m\u001b[0;34m(\u001b[0m\u001b[0mkwds_defaults\u001b[0m\u001b[0;34m)\u001b[0m\u001b[0;34m\u001b[0m\u001b[0;34m\u001b[0m\u001b[0m\n\u001b[1;32m    585\u001b[0m \u001b[0;34m\u001b[0m\u001b[0m\n\u001b[0;32m--> 586\u001b[0;31m     \u001b[0;32mreturn\u001b[0m \u001b[0m_read\u001b[0m\u001b[0;34m(\u001b[0m\u001b[0mfilepath_or_buffer\u001b[0m\u001b[0;34m,\u001b[0m \u001b[0mkwds\u001b[0m\u001b[0;34m)\u001b[0m\u001b[0;34m\u001b[0m\u001b[0;34m\u001b[0m\u001b[0m\n\u001b[0m\u001b[1;32m    587\u001b[0m \u001b[0;34m\u001b[0m\u001b[0m\n\u001b[1;32m    588\u001b[0m \u001b[0;34m\u001b[0m\u001b[0m\n",
            "\u001b[0;32m/usr/local/lib/python3.7/dist-packages/pandas/io/parsers/readers.py\u001b[0m in \u001b[0;36m_read\u001b[0;34m(filepath_or_buffer, kwds)\u001b[0m\n\u001b[1;32m    480\u001b[0m \u001b[0;34m\u001b[0m\u001b[0m\n\u001b[1;32m    481\u001b[0m     \u001b[0;31m# Create the parser.\u001b[0m\u001b[0;34m\u001b[0m\u001b[0;34m\u001b[0m\u001b[0;34m\u001b[0m\u001b[0m\n\u001b[0;32m--> 482\u001b[0;31m     \u001b[0mparser\u001b[0m \u001b[0;34m=\u001b[0m \u001b[0mTextFileReader\u001b[0m\u001b[0;34m(\u001b[0m\u001b[0mfilepath_or_buffer\u001b[0m\u001b[0;34m,\u001b[0m \u001b[0;34m**\u001b[0m\u001b[0mkwds\u001b[0m\u001b[0;34m)\u001b[0m\u001b[0;34m\u001b[0m\u001b[0;34m\u001b[0m\u001b[0m\n\u001b[0m\u001b[1;32m    483\u001b[0m \u001b[0;34m\u001b[0m\u001b[0m\n\u001b[1;32m    484\u001b[0m     \u001b[0;32mif\u001b[0m \u001b[0mchunksize\u001b[0m \u001b[0;32mor\u001b[0m \u001b[0miterator\u001b[0m\u001b[0;34m:\u001b[0m\u001b[0;34m\u001b[0m\u001b[0;34m\u001b[0m\u001b[0m\n",
            "\u001b[0;32m/usr/local/lib/python3.7/dist-packages/pandas/io/parsers/readers.py\u001b[0m in \u001b[0;36m__init__\u001b[0;34m(self, f, engine, **kwds)\u001b[0m\n\u001b[1;32m    809\u001b[0m             \u001b[0mself\u001b[0m\u001b[0;34m.\u001b[0m\u001b[0moptions\u001b[0m\u001b[0;34m[\u001b[0m\u001b[0;34m\"has_index_names\"\u001b[0m\u001b[0;34m]\u001b[0m \u001b[0;34m=\u001b[0m \u001b[0mkwds\u001b[0m\u001b[0;34m[\u001b[0m\u001b[0;34m\"has_index_names\"\u001b[0m\u001b[0;34m]\u001b[0m\u001b[0;34m\u001b[0m\u001b[0;34m\u001b[0m\u001b[0m\n\u001b[1;32m    810\u001b[0m \u001b[0;34m\u001b[0m\u001b[0m\n\u001b[0;32m--> 811\u001b[0;31m         \u001b[0mself\u001b[0m\u001b[0;34m.\u001b[0m\u001b[0m_engine\u001b[0m \u001b[0;34m=\u001b[0m \u001b[0mself\u001b[0m\u001b[0;34m.\u001b[0m\u001b[0m_make_engine\u001b[0m\u001b[0;34m(\u001b[0m\u001b[0mself\u001b[0m\u001b[0;34m.\u001b[0m\u001b[0mengine\u001b[0m\u001b[0;34m)\u001b[0m\u001b[0;34m\u001b[0m\u001b[0;34m\u001b[0m\u001b[0m\n\u001b[0m\u001b[1;32m    812\u001b[0m \u001b[0;34m\u001b[0m\u001b[0m\n\u001b[1;32m    813\u001b[0m     \u001b[0;32mdef\u001b[0m \u001b[0mclose\u001b[0m\u001b[0;34m(\u001b[0m\u001b[0mself\u001b[0m\u001b[0;34m)\u001b[0m\u001b[0;34m:\u001b[0m\u001b[0;34m\u001b[0m\u001b[0;34m\u001b[0m\u001b[0m\n",
            "\u001b[0;32m/usr/local/lib/python3.7/dist-packages/pandas/io/parsers/readers.py\u001b[0m in \u001b[0;36m_make_engine\u001b[0;34m(self, engine)\u001b[0m\n\u001b[1;32m   1038\u001b[0m             )\n\u001b[1;32m   1039\u001b[0m         \u001b[0;31m# error: Too many arguments for \"ParserBase\"\u001b[0m\u001b[0;34m\u001b[0m\u001b[0;34m\u001b[0m\u001b[0;34m\u001b[0m\u001b[0m\n\u001b[0;32m-> 1040\u001b[0;31m         \u001b[0;32mreturn\u001b[0m \u001b[0mmapping\u001b[0m\u001b[0;34m[\u001b[0m\u001b[0mengine\u001b[0m\u001b[0;34m]\u001b[0m\u001b[0;34m(\u001b[0m\u001b[0mself\u001b[0m\u001b[0;34m.\u001b[0m\u001b[0mf\u001b[0m\u001b[0;34m,\u001b[0m \u001b[0;34m**\u001b[0m\u001b[0mself\u001b[0m\u001b[0;34m.\u001b[0m\u001b[0moptions\u001b[0m\u001b[0;34m)\u001b[0m  \u001b[0;31m# type: ignore[call-arg]\u001b[0m\u001b[0;34m\u001b[0m\u001b[0;34m\u001b[0m\u001b[0m\n\u001b[0m\u001b[1;32m   1041\u001b[0m \u001b[0;34m\u001b[0m\u001b[0m\n\u001b[1;32m   1042\u001b[0m     \u001b[0;32mdef\u001b[0m \u001b[0m_failover_to_python\u001b[0m\u001b[0;34m(\u001b[0m\u001b[0mself\u001b[0m\u001b[0;34m)\u001b[0m\u001b[0;34m:\u001b[0m\u001b[0;34m\u001b[0m\u001b[0;34m\u001b[0m\u001b[0m\n",
            "\u001b[0;32m/usr/local/lib/python3.7/dist-packages/pandas/io/parsers/c_parser_wrapper.py\u001b[0m in \u001b[0;36m__init__\u001b[0;34m(self, src, **kwds)\u001b[0m\n\u001b[1;32m     49\u001b[0m \u001b[0;34m\u001b[0m\u001b[0m\n\u001b[1;32m     50\u001b[0m         \u001b[0;31m# open handles\u001b[0m\u001b[0;34m\u001b[0m\u001b[0;34m\u001b[0m\u001b[0;34m\u001b[0m\u001b[0m\n\u001b[0;32m---> 51\u001b[0;31m         \u001b[0mself\u001b[0m\u001b[0;34m.\u001b[0m\u001b[0m_open_handles\u001b[0m\u001b[0;34m(\u001b[0m\u001b[0msrc\u001b[0m\u001b[0;34m,\u001b[0m \u001b[0mkwds\u001b[0m\u001b[0;34m)\u001b[0m\u001b[0;34m\u001b[0m\u001b[0;34m\u001b[0m\u001b[0m\n\u001b[0m\u001b[1;32m     52\u001b[0m         \u001b[0;32massert\u001b[0m \u001b[0mself\u001b[0m\u001b[0;34m.\u001b[0m\u001b[0mhandles\u001b[0m \u001b[0;32mis\u001b[0m \u001b[0;32mnot\u001b[0m \u001b[0;32mNone\u001b[0m\u001b[0;34m\u001b[0m\u001b[0;34m\u001b[0m\u001b[0m\n\u001b[1;32m     53\u001b[0m \u001b[0;34m\u001b[0m\u001b[0m\n",
            "\u001b[0;32m/usr/local/lib/python3.7/dist-packages/pandas/io/parsers/base_parser.py\u001b[0m in \u001b[0;36m_open_handles\u001b[0;34m(self, src, kwds)\u001b[0m\n\u001b[1;32m    227\u001b[0m             \u001b[0mmemory_map\u001b[0m\u001b[0;34m=\u001b[0m\u001b[0mkwds\u001b[0m\u001b[0;34m.\u001b[0m\u001b[0mget\u001b[0m\u001b[0;34m(\u001b[0m\u001b[0;34m\"memory_map\"\u001b[0m\u001b[0;34m,\u001b[0m \u001b[0;32mFalse\u001b[0m\u001b[0;34m)\u001b[0m\u001b[0;34m,\u001b[0m\u001b[0;34m\u001b[0m\u001b[0;34m\u001b[0m\u001b[0m\n\u001b[1;32m    228\u001b[0m             \u001b[0mstorage_options\u001b[0m\u001b[0;34m=\u001b[0m\u001b[0mkwds\u001b[0m\u001b[0;34m.\u001b[0m\u001b[0mget\u001b[0m\u001b[0;34m(\u001b[0m\u001b[0;34m\"storage_options\"\u001b[0m\u001b[0;34m,\u001b[0m \u001b[0;32mNone\u001b[0m\u001b[0;34m)\u001b[0m\u001b[0;34m,\u001b[0m\u001b[0;34m\u001b[0m\u001b[0;34m\u001b[0m\u001b[0m\n\u001b[0;32m--> 229\u001b[0;31m             \u001b[0merrors\u001b[0m\u001b[0;34m=\u001b[0m\u001b[0mkwds\u001b[0m\u001b[0;34m.\u001b[0m\u001b[0mget\u001b[0m\u001b[0;34m(\u001b[0m\u001b[0;34m\"encoding_errors\"\u001b[0m\u001b[0;34m,\u001b[0m \u001b[0;34m\"strict\"\u001b[0m\u001b[0;34m)\u001b[0m\u001b[0;34m,\u001b[0m\u001b[0;34m\u001b[0m\u001b[0;34m\u001b[0m\u001b[0m\n\u001b[0m\u001b[1;32m    230\u001b[0m         )\n\u001b[1;32m    231\u001b[0m \u001b[0;34m\u001b[0m\u001b[0m\n",
            "\u001b[0;32m/usr/local/lib/python3.7/dist-packages/pandas/io/common.py\u001b[0m in \u001b[0;36mget_handle\u001b[0;34m(path_or_buf, mode, encoding, compression, memory_map, is_text, errors, storage_options)\u001b[0m\n\u001b[1;32m    705\u001b[0m                 \u001b[0mencoding\u001b[0m\u001b[0;34m=\u001b[0m\u001b[0mioargs\u001b[0m\u001b[0;34m.\u001b[0m\u001b[0mencoding\u001b[0m\u001b[0;34m,\u001b[0m\u001b[0;34m\u001b[0m\u001b[0;34m\u001b[0m\u001b[0m\n\u001b[1;32m    706\u001b[0m                 \u001b[0merrors\u001b[0m\u001b[0;34m=\u001b[0m\u001b[0merrors\u001b[0m\u001b[0;34m,\u001b[0m\u001b[0;34m\u001b[0m\u001b[0;34m\u001b[0m\u001b[0m\n\u001b[0;32m--> 707\u001b[0;31m                 \u001b[0mnewline\u001b[0m\u001b[0;34m=\u001b[0m\u001b[0;34m\"\"\u001b[0m\u001b[0;34m,\u001b[0m\u001b[0;34m\u001b[0m\u001b[0;34m\u001b[0m\u001b[0m\n\u001b[0m\u001b[1;32m    708\u001b[0m             )\n\u001b[1;32m    709\u001b[0m         \u001b[0;32melse\u001b[0m\u001b[0;34m:\u001b[0m\u001b[0;34m\u001b[0m\u001b[0;34m\u001b[0m\u001b[0m\n",
            "\u001b[0;31mFileNotFoundError\u001b[0m: [Errno 2] No such file or directory: '/home/init/Documents/work/Computer Science/CAPSTONE/data sets/Cohort 21 Data sheet.csv'"
          ]
        }
      ],
      "source": [
        "cohort_21_df = pd.read_csv(cohort_21)\n",
        "cohort_22_df = pd.read_csv(cohort_22)\n",
        "cohort_23_df = pd.read_csv(cohort_23)\n",
        "cohort_24a_df = pd.read_csv(cohort_24a)\n",
        "cohort_24a_df = cohort_24a_df.iloc[1: , :] # because cohort 24a data sheet has an extra row at the begining that we do not use for\n",
        "cohort_24b_df = pd.read_csv(cohort_24b)"
      ]
    },
    {
      "cell_type": "code",
      "execution_count": null,
      "metadata": {
        "id": "4l2hbU_pyuAQ"
      },
      "outputs": [],
      "source": [
        "#cohort_24a_df.head()"
      ]
    },
    {
      "cell_type": "code",
      "execution_count": null,
      "metadata": {
        "id": "Gjj5qhLxyuAQ"
      },
      "outputs": [],
      "source": [
        "columns = [\"Email Address\", \"Gender\", \"How did you find out about the Access Program?\", \"Where do you currently live? (Kindly name the county)\", \"Age\", \"How would you classify your neighborhood?\",\n",
        " \"Are you married or in a domestic partnership, or single?\", \"What is your highest level of education?\", \"Do you have plans to join a university within the next 6 months?\", \"Have you used a computer before?\",\n",
        " \"Have you ever been a Moringa School student?\", \"Is your mother still alive?\",\"Is your father still alive?\", \"How many siblings do you have?\", \"Do you have a guardian? (Someone who is responsible for you)\",\n",
        " \"Do you have any work, internship, and/or volunteer experience? (This could be in any field)\",\"Do you have any experience in tech? (This could be work, education, volunteering, extracurricular activities in school, personal projects, etc)\",\n",
        " \"Do you have any source of income? (As the applicant)\", \"Do you support anyone financially? \",\"How many people do your guardians support financially? \",\"Do you or your guardians own the house you currently live in?\",\n",
        " \"Did you receive financial support to pay for your university fees?\"]\n",
        "\n"
      ]
    },
    {
      "cell_type": "code",
      "execution_count": null,
      "metadata": {
        "id": "fUoa1-vmyuAR"
      },
      "outputs": [],
      "source": [
        "columnsb = [\"Email Address\", \"Gender\", \"How did you find out about the Access Program?\", \"Where do you currently live? (Kindly name the county)\", \"Age\", \"How would you classify your neighborhood?\", \"Are you married or in a domestic partnership, or single?\", \"Highest level of education\", \"Do you have plans to join a university within the next 6 months?\", \"Have you used a computer before?\",\n",
        " \"Have you ever been a Moringa School student?\", \"Is your mother still alive?\",\"Is your father still alive?\", \"How many siblings do you have?\", \"Do you have a guardian? (Someone who is responsible for you)\", \"Do you have any work, internship, and/or volunteer experience? (This could be in any field)\",\"Do you have any experience in tech? (This could be work, education, volunteering, extracurricular activities in school, personal projects, etc)\",\n",
        " \"Do you have any source of income? (As the applicant)\", \"Do you support anyone financially? \",\"How many people do your guardians support financially? \",\"Do you or your guardians own the house you currently live in?\", \"Did you receive financial support to pay for your university fees?\"]"
      ]
    },
    {
      "cell_type": "code",
      "execution_count": null,
      "metadata": {
        "id": "SqNzH26QyuAS"
      },
      "outputs": [],
      "source": [
        "for col in columnsb:\n",
        "    if col not in cohort_24a_df.columns.tolist():\n",
        "        print(col)"
      ]
    },
    {
      "cell_type": "code",
      "execution_count": null,
      "metadata": {
        "id": "7Dj4VpIryuAT"
      },
      "outputs": [],
      "source": [
        "cohort_24b_df = cohort_24b_df[ [\"Email Address\", \"Gender\", \"How did you find out about the Access Program?\", \"Where do you currently live? (Kindly name the county)\", \"Age\", \"How would you classify your neighborhood?\",\n",
        " \"Are you married or in a domestic partnership, or single?\", \"What is your highest level of education?\", \"Do you have plans to join a university within the next 6 months?\", \"Have you used a computer before?\",\n",
        " \"Have you ever been a Moringa School student?\", \"Is your mother still alive?\",\"Is your father still alive?\", \"How many siblings do you have?\", \"Do you have a guardian? (Someone who is responsible for you)\",\n",
        " \"Do you have any work, internship, and/or volunteer experience? (This could be in any field)\",\"Do you have any experience in tech? (This could be work, education, volunteering, extracurricular activities in school, personal projects, etc)\",\n",
        " \"Do you have any source of income? (As the applicant)\", \"Do you support anyone financially? \",\"How many people do your guardians support financially? \",\"Do you or your guardians own the house you currently live in?\",\n",
        " \"Did you receive financial support to pay for your university fees?\"]].copy( )"
      ]
    },
    {
      "cell_type": "code",
      "execution_count": null,
      "metadata": {
        "id": "qaqlEAAbyuAV"
      },
      "outputs": [],
      "source": [
        "\n",
        "cohort_24a_df = cohort_24a_df[ [\"Email Address\", \"Gender\", \"How did you find out about the Access Program?\", \"Where do you currently live? (Kindly name the county)\", \"Age\", \"How would you classify your neighborhood?\", \"Are you married or in a domestic partnership, or single?\", \"Highest level of education\", \"Do you have plans to join a university within the next 6 months?\", \"Have you used a computer before?\",\n",
        " \"Have you ever been a Moringa School student?\", \"Is your mother still alive?\",\"Is your father still alive?\", \"How many siblings do you have?\", \"Do you have a guardian? (Someone who is responsible for you)\", \"Do you have any work, internship, and/or volunteer experience? (This could be in any field)\",\"Do you have any experience in tech? (This could be work, education, volunteering, extracurricular activities in school, personal projects, etc)\",\n",
        " \"Do you have any source of income? (As the applicant)\", \"Do you support anyone financially? \",\"How many people do your guardians support financially? \",\"Do you or your guardians own the house you currently live in?\", \"Did you receive financial support to pay for your university fees?\"]].copy( )"
      ]
    },
    {
      "cell_type": "code",
      "execution_count": null,
      "metadata": {
        "id": "iBVwBcMzyuAV"
      },
      "outputs": [],
      "source": [
        "cohort_23_df = cohort_23_df[ [\"Email Address\", \"Gender\", \"How did you find out about the Access Program?\", \"Where do you currently live? (Kindly name the county)\", \"Age\", \"How would you classify your neighborhood?\",\n",
        " \"Are you married or in a domestic partnership, or single?\", \"Highest level of education\", \"Do you have plans to join a university within the next 6 months?\", \"Have you used a computer before?\",\n",
        " \"Have you ever been a Moringa School student?\", \"Is your mother still alive?\",\"Is your father still alive?\", \"How many siblings do you have?\", \"Do you have a guardian? (Someone who is responsible for you)\",\n",
        " \"Do you have any work, internship, and/or volunteer experience? (This could be in any field)\",\"Do you have any experience in tech? (This could be work, education, volunteering, extracurricular activities in school, personal projects, etc)\",\n",
        " \"Do you have any source of income? (As the applicant)\", \"Do you support anyone financially? \",\"How many people do your guardians support financially? \",\"Do you or your guardians own the house you currently live in?\",\n",
        " \"Did you receive financial support to pay for your university fees?\"]].copy( )"
      ]
    },
    {
      "cell_type": "code",
      "execution_count": null,
      "metadata": {
        "id": "41k-lP9ayuAW"
      },
      "outputs": [],
      "source": [
        "cohort_22_df = cohort_22_df[ [\"Email Address\", \"Gender\", \"How did you find out about the Access Program?\", \"Where do you currently live? (Kindly name the county)\", \"Age\", \"How would you classify your neighborhood?\",\n",
        " \"Are you married or in a domestic partnership, or single?\", \"Highest level of education\", \"Do you have plans to join a university within the next 6 months?\", \"Have you used a computer before?\",\n",
        " \"Have you ever been a Moringa School student?\", \"Is your mother still alive?\",\"Is your father still alive?\", \"How many siblings do you have?\", \"Do you have a guardian? (Someone who is responsible for you)\",\n",
        " \"Do you have any work, internship, and/or volunteer experience? (This could be in any field)\",\"Do you have any experience in tech? (This could be work, education, volunteering, extracurricular activities in school, personal projects, etc)\",\n",
        " \"Do you have any source of income? (As the applicant)\", \"Do you support anyone financially? \",\"How many people do your guardians support financially? \",\"Do you or your guardians own the house you currently live in?\",\n",
        " \"Did you receive financial support to pay for your university fees?\"]].copy( )"
      ]
    },
    {
      "cell_type": "code",
      "execution_count": null,
      "metadata": {
        "id": "Q-HjNgQOyuAW"
      },
      "outputs": [],
      "source": [
        "cohort_21_df = cohort_21_df[[\"Email Address\", \"Gender\", \"How did you find out about the Access Program?\", \"Where do you currently live? (Kindly name the county)\", \"Age\", \"How would you classify your neighborhood?\",\n",
        " \"Are you married or in a domestic partnership, or single?\", \"Highest level of education\", \"Have you applied to join a university within the last 6 months?\", \"Have you used a computer before?\",\n",
        " \"Have you ever been a Moringa School student?\", \"Is your mother still alive?\",\"Is your father still alive?\", \"How many siblings do you have?\", \"Do you have a guardian? (Someone who is responsible for you)\",\n",
        " \"Do you have any work, internship, and/or volunteer experience? (This could be in any field)\",\"Do you have any experience in tech? (This could be work, education, volunteering, extracurricular activities in school, personal projects, etc)\",\n",
        " \"Do you have any source of income? (As the applicant)\", \"Do you support anyone financially? \",\"How many people do your guardians support financially? \",\"Do you or your guardians own the house you currently live in?\",\n",
        " \"Did you receive financial support to pay for your university fees?\"]].copy()"
      ]
    },
    {
      "cell_type": "markdown",
      "metadata": {
        "id": "afQi5sygyuAX"
      },
      "source": [
        "# Data  Cleaning"
      ]
    },
    {
      "cell_type": "markdown",
      "source": [
        "In this section, we merge the five dataframes loaded up in the previous section, "
      ],
      "metadata": {
        "id": "-H80CE5k0v0f"
      }
    },
    {
      "cell_type": "code",
      "execution_count": null,
      "metadata": {
        "id": "M6Apv6_NyuAX"
      },
      "outputs": [],
      "source": [
        "columns =cohort_21_df.columns.tolist() + cohort_22_df.columns.tolist() + cohort_23_df.columns.tolist() + cohort_24a_df.columns.tolist() + cohort_24b_df.columns.tolist()"
      ]
    },
    {
      "cell_type": "code",
      "execution_count": null,
      "metadata": {
        "id": "jf_XoX_byuAX"
      },
      "outputs": [],
      "source": [
        "len(columns)"
      ]
    },
    {
      "cell_type": "code",
      "execution_count": null,
      "metadata": {
        "id": "i7jpyCfXyuAZ"
      },
      "outputs": [],
      "source": [
        "from collections import Counter\n",
        "column_dict = Counter(columns)\n",
        "for k, v in column_dict.items():\n",
        "    if v != 5:\n",
        "        print(k, v)"
      ]
    },
    {
      "cell_type": "markdown",
      "source": [
        "We also make sure all columns in the different data sets have the same name if they contain same data "
      ],
      "metadata": {
        "id": "VJfxlbzh1AvW"
      }
    },
    {
      "cell_type": "code",
      "execution_count": null,
      "metadata": {
        "id": "-aqHytvTyuAZ"
      },
      "outputs": [],
      "source": [
        "cohort_24b_df.rename(columns={\"What is your highest level of education?\" : \"Highest level of education\" } ,inplace=True)\n",
        "cohort_21_df.rename(columns={\"Have you applied to join a university within the last 6 months?\" : \"Do you have plans to join a university within the next 6 months?\" } ,inplace=True)"
      ]
    },
    {
      "cell_type": "code",
      "execution_count": null,
      "metadata": {
        "id": "K4U14mLUyuAZ"
      },
      "outputs": [],
      "source": [
        "print(cohort_21_df.shape)\n",
        "print(cohort_22_df.shape)\n",
        "print(cohort_23_df.shape)\n",
        "print(cohort_24a_df.shape)\n",
        "print(cohort_24b_df.shape)"
      ]
    },
    {
      "cell_type": "code",
      "execution_count": null,
      "metadata": {
        "id": "he_xyLiayuAa"
      },
      "outputs": [],
      "source": [
        "frames = [cohort_21_df, cohort_22_df, cohort_23_df,cohort_24a_df,cohort_24b_df ]\n",
        "applicants_df = pd.concat(frames)"
      ]
    },
    {
      "cell_type": "code",
      "execution_count": null,
      "metadata": {
        "id": "gqpiVLYAyuAa"
      },
      "outputs": [],
      "source": [
        "applicants_df.shape"
      ]
    },
    {
      "cell_type": "markdown",
      "source": [
        "Combined Dataset of applicants"
      ],
      "metadata": {
        "id": "nuOHQB4A1N_V"
      }
    },
    {
      "cell_type": "code",
      "execution_count": null,
      "metadata": {
        "id": "BEG2XItsyuAa"
      },
      "outputs": [],
      "source": [
        "applicants_df.head(5)"
      ]
    },
    {
      "cell_type": "code",
      "execution_count": null,
      "metadata": {
        "id": "8QUPA19oyuAb"
      },
      "outputs": [],
      "source": [
        "columns_rename = {\n",
        "    \"How did you find out about the Access Program?\": \"source\",\n",
        "    \"Where do you currently live? (Kindly name the county)\": \"location\",\n",
        "    \"How would you classify your neighborhood?\": \"neighborhood\",\n",
        "    \"Are you married or in a domestic partnership, or single?\": \"marital_status\",\n",
        "    \"Highest level of education\": \"education_level\",\n",
        "    \"Do you have plans to join a university within the next 6 months?\": \"joining_university\",\n",
        "    \"Have you used a computer before?\": \"used_computer\",\n",
        "    \"Have you ever been a Moringa School student?\": \"prev_student\",\n",
        "    \"Is your mother still alive?\": \"mother_alive\",\n",
        "    \"Is your father still alive?\": \"father_alive\",\n",
        "    \"How many siblings do you have?\": \"no_of_siblings\",\n",
        "    \"Do you have a guardian? (Someone who is responsible for you)\": \"has_guardian\",\n",
        "    \"Do you have any work, internship, and/or volunteer experience? (This could be in any field)\": \"work_experience\",\n",
        "    \"Do you have any experience in tech? (This could be work, education, volunteering, extracurricular activities in school, personal projects, etc)\": \"tech_experience\",\n",
        "    \"Do you have any source of income? (As the applicant)\": \"have_source_of_income\",\n",
        "    \"Do you support anyone financially?\": \"has_dependants\",\n",
        "    \"How many people do your guardians support financially? \": \"guardian_dependants\",\n",
        "    \"Do you or your guardians own the house you currently live in?\": \"rent_house\",\n",
        "     \"Did you receive financial support to pay for your university fees?\": \"got_scholarship\",\n",
        "}"
      ]
    },
    {
      "cell_type": "markdown",
      "source": [
        "Rename columns to shorter_names for easy data handling"
      ],
      "metadata": {
        "id": "zJW_LuUA1TdW"
      }
    },
    {
      "cell_type": "code",
      "execution_count": null,
      "metadata": {
        "id": "7s3GwFVmyuAc"
      },
      "outputs": [],
      "source": [
        "applicants_df = renameColumns(columns_rename, applicants_df)"
      ]
    },
    {
      "cell_type": "code",
      "execution_count": null,
      "metadata": {
        "id": "YWWG3qPxyuAb"
      },
      "outputs": [],
      "source": [
        "def renameColumns( column_names, df):\n",
        "    for k, v in column_names.items():\n",
        "        df.rename(columns={k:v} ,inplace=True)\n",
        "    return df"
      ]
    },
    {
      "cell_type": "code",
      "execution_count": null,
      "metadata": {
        "id": "U4VgQ_vxyuAc"
      },
      "outputs": [],
      "source": [
        "applicants_df"
      ]
    },
    {
      "cell_type": "markdown",
      "metadata": {
        "id": "lJttfzFMyuAc"
      },
      "source": [
        "## Drop empty rows"
      ]
    },
    {
      "cell_type": "markdown",
      "source": [
        "Dropping rows which have nan, values in the dataframe"
      ],
      "metadata": {
        "id": "L2KIEuPG1dip"
      }
    },
    {
      "cell_type": "code",
      "execution_count": null,
      "metadata": {
        "id": "fk-iekZJyuAd"
      },
      "outputs": [],
      "source": [
        "applicants_df= applicants_df.dropna(subset = ['Email Address', \"Gender\", \"education_level\", \"tech_experience\"])"
      ]
    },
    {
      "cell_type": "markdown",
      "source": [
        "check if there is a row with no valid email "
      ],
      "metadata": {
        "id": "MKliRT5z1pYc"
      }
    },
    {
      "cell_type": "code",
      "execution_count": null,
      "metadata": {
        "id": "ptkM2Z7WyuAd"
      },
      "outputs": [],
      "source": [
        "for i in applicants_df['Email Address'].unique().tolist():\n",
        "    if \"@\" not in str(i) or '.' not in str(i):\n",
        "        print(i)"
      ]
    },
    {
      "cell_type": "markdown",
      "metadata": {
        "id": "B5v8eok7yuAe"
      },
      "source": [
        "## Normalizing and Standardizing columns"
      ]
    },
    {
      "cell_type": "markdown",
      "source": [
        "applicants come from several sources, and what we care about is if they come from the organizations partners or not and this function helps define that"
      ],
      "metadata": {
        "id": "nXen_xdS12fk"
      }
    },
    {
      "cell_type": "code",
      "execution_count": null,
      "metadata": {
        "id": "-TRyzW8DyuAe"
      },
      "outputs": [],
      "source": [
        "# student souce can either be partner or non partner\n",
        "# so this function will work on making souce column to either be parner or non partner\n",
        "none_partner = [\"university\", \"Whatsapp\", \"Moringa\", \"friend\", \"mentor\", \"student\",\"LinkedIn\" ]\n",
        "def standardSource(source):\n",
        "    source = str(source)\n",
        "    for  i in none_partner:\n",
        "        if i in source or i.lower() in source:\n",
        "            return \"None Partner\"\n",
        "    return \"Partner\""
      ]
    },
    {
      "cell_type": "code",
      "execution_count": null,
      "metadata": {
        "id": "qh3K8evvyuAe"
      },
      "outputs": [],
      "source": [
        "applicants_df['source'] = applicants_df.apply(lambda x: standardSource(x['source']), axis=1)"
      ]
    },
    {
      "cell_type": "code",
      "execution_count": null,
      "metadata": {
        "id": "IF7_e3jwyuAf"
      },
      "outputs": [],
      "source": [
        "applicants_df"
      ]
    },
    {
      "cell_type": "code",
      "execution_count": null,
      "metadata": {
        "id": "9415zUAVyuAf"
      },
      "outputs": [],
      "source": [
        "print(applicants_df['source'].unique())\n",
        "print(Counter(applicants_df['source']))"
      ]
    },
    {
      "cell_type": "code",
      "execution_count": null,
      "metadata": {
        "id": "IVYzHXwgyuAf"
      },
      "outputs": [],
      "source": [
        "print(applicants_df['Gender'].unique())\n",
        "print(Counter(applicants_df['Gender']))"
      ]
    },
    {
      "cell_type": "markdown",
      "source": [
        "Drop applicants data which does not match with the rest of the data , ie. columns are shifted"
      ],
      "metadata": {
        "id": "5ATxd1Fl2L8h"
      }
    },
    {
      "cell_type": "code",
      "execution_count": null,
      "metadata": {
        "id": "eOJlijgvyuAg"
      },
      "outputs": [],
      "source": [
        "applicants_df.drop(applicants_df[applicants_df['Gender'] == \"Nairobi\"].index, inplace = True)\n",
        "indx = applicants_df.loc[applicants_df['Gender'] == \"Nairobi\"]\n"
      ]
    },
    {
      "cell_type": "code",
      "execution_count": null,
      "metadata": {
        "id": "1O8zjBEayuAg"
      },
      "outputs": [],
      "source": [
        "applicants_df.columns.tolist()"
      ]
    },
    {
      "cell_type": "code",
      "execution_count": null,
      "metadata": {
        "id": "h_Zw0si3yuAg"
      },
      "outputs": [],
      "source": [
        "# check which columns need to be normalized\n",
        "for col in applicants_df.columns.tolist():\n",
        "    if col not in [\"Email Address\",'location' ]:\n",
        "        print(col, applicants_df[col].unique())"
      ]
    },
    {
      "cell_type": "markdown",
      "source": [
        "Normalize columns to either contain ints or strings eg where data is two, its changed to int(2) "
      ],
      "metadata": {
        "id": "LGtLMmOm2ka4"
      }
    },
    {
      "cell_type": "code",
      "execution_count": null,
      "metadata": {
        "id": "VdI_LX22yuAg"
      },
      "outputs": [],
      "source": [
        "def convert_dependants_to_int(dictionary, value):\n",
        "    value = (str(value)).strip().replace('.',\"\").lower()\n",
        "    if  value in dictionary:\n",
        "        return dictionary[value]\n",
        "    else:\n",
        "        return 0\n"
      ]
    },
    {
      "cell_type": "code",
      "execution_count": null,
      "metadata": {
        "id": "dbsRgzW2yuAh"
      },
      "outputs": [],
      "source": [
        "#change number of dependats and siblings to integers \n",
        "clean_number_of_dependants = {'no': 0, 'none': 0, 'nan': 0, 'non': 0, 'nill': 0, 'n/a': 0, 'no one': 0, 'not applicable': 0, 'i have no guardians': 0, \"i don't know\": 1, 'only me': 1, '2 children': 2, '3 people': 3, 'three people': 3, '5 people': 5, '6 people': 6, '7 people': 7, '8 people': 8, '10 or more': 10, '10 people': 10, 'one': 1, 'two': 2, 'three': 3, 'four': 4, 'five': 5, 'six': 6, 'seven': 7, 'eight': 8, 'nine': 9, 'ten': 10, '0': 0, '1': 1, '2': 2, '3': 3, '4': 4, '5': 5, '6': 6, '7': 7, '8': 8, '9': 9, '10': 10, '12': 10}\n"
      ]
    },
    {
      "cell_type": "code",
      "execution_count": null,
      "metadata": {
        "id": "UlLQvChhyuAh"
      },
      "outputs": [],
      "source": [
        "applicants_df['guardian_dependants'] = applicants_df.apply(lambda x: convert_dependants_to_int(clean_number_of_dependants, x['guardian_dependants']), axis=1)\n",
        "applicants_df['no_of_siblings'] = applicants_df.apply(lambda x: convert_dependants_to_int(clean_number_of_dependants, x['no_of_siblings']), axis=1)"
      ]
    },
    {
      "cell_type": "code",
      "execution_count": null,
      "metadata": {
        "id": "YsirKlogyuAh"
      },
      "outputs": [],
      "source": [
        "def convert_age_to_int(age):\n",
        "    return int(age)"
      ]
    },
    {
      "cell_type": "code",
      "execution_count": null,
      "metadata": {
        "id": "XRKCPWabyuAh"
      },
      "outputs": [],
      "source": [
        "applicants_df['Age'] = applicants_df.apply(lambda x: convert_age_to_int(x['Age']), axis=1)"
      ]
    },
    {
      "cell_type": "code",
      "execution_count": null,
      "metadata": {
        "id": "A0rrzm5JyuAh"
      },
      "outputs": [],
      "source": [
        "def convert_col_to_yesno(case):\n",
        "    return \"Yes\" if \"yes\" in case.lower() else \"No\""
      ]
    },
    {
      "cell_type": "code",
      "execution_count": null,
      "metadata": {
        "id": "jbSHhXeLyuAi",
        "outputId": "d24333c9-d895-4d95-bdc9-9619df427084",
        "colab": {
          "base_uri": "https://localhost:8080/",
          "height": 238
        }
      },
      "outputs": [
        {
          "output_type": "error",
          "ename": "NameError",
          "evalue": "ignored",
          "traceback": [
            "\u001b[0;31m---------------------------------------------------------------------------\u001b[0m",
            "\u001b[0;31mNameError\u001b[0m                                 Traceback (most recent call last)",
            "\u001b[0;32m<ipython-input-8-eefd400b61b7>\u001b[0m in \u001b[0;36m<module>\u001b[0;34m()\u001b[0m\n\u001b[0;32m----> 1\u001b[0;31m \u001b[0mapplicants_df\u001b[0m\u001b[0;34m[\u001b[0m\u001b[0;34m'have_source_of_income'\u001b[0m\u001b[0;34m]\u001b[0m \u001b[0;34m=\u001b[0m \u001b[0mapplicants_df\u001b[0m\u001b[0;34m.\u001b[0m\u001b[0mapply\u001b[0m\u001b[0;34m(\u001b[0m\u001b[0;32mlambda\u001b[0m \u001b[0mx\u001b[0m\u001b[0;34m:\u001b[0m \u001b[0mconvert_col_to_yesno\u001b[0m\u001b[0;34m(\u001b[0m\u001b[0mx\u001b[0m\u001b[0;34m[\u001b[0m\u001b[0;34m'have_source_of_income'\u001b[0m\u001b[0;34m]\u001b[0m\u001b[0;34m)\u001b[0m\u001b[0;34m,\u001b[0m \u001b[0maxis\u001b[0m\u001b[0;34m=\u001b[0m\u001b[0;36m1\u001b[0m\u001b[0;34m)\u001b[0m\u001b[0;34m\u001b[0m\u001b[0;34m\u001b[0m\u001b[0m\n\u001b[0m\u001b[1;32m      2\u001b[0m \u001b[0mapplicants_df\u001b[0m\u001b[0;34m[\u001b[0m\u001b[0;34m'got_scholarship'\u001b[0m\u001b[0;34m]\u001b[0m \u001b[0;34m=\u001b[0m \u001b[0mapplicants_df\u001b[0m\u001b[0;34m.\u001b[0m\u001b[0mapply\u001b[0m\u001b[0;34m(\u001b[0m\u001b[0;32mlambda\u001b[0m \u001b[0mx\u001b[0m\u001b[0;34m:\u001b[0m \u001b[0mconvert_col_to_yesno\u001b[0m\u001b[0;34m(\u001b[0m\u001b[0mx\u001b[0m\u001b[0;34m[\u001b[0m\u001b[0;34m'got_scholarship'\u001b[0m\u001b[0;34m]\u001b[0m\u001b[0;34m)\u001b[0m\u001b[0;34m,\u001b[0m \u001b[0maxis\u001b[0m\u001b[0;34m=\u001b[0m\u001b[0;36m1\u001b[0m\u001b[0;34m)\u001b[0m\u001b[0;34m\u001b[0m\u001b[0;34m\u001b[0m\u001b[0m\n\u001b[1;32m      3\u001b[0m \u001b[0mapplicants_df\u001b[0m\u001b[0;34m[\u001b[0m\u001b[0;34m'prev_student'\u001b[0m\u001b[0;34m]\u001b[0m \u001b[0;34m=\u001b[0m \u001b[0mapplicants_df\u001b[0m\u001b[0;34m.\u001b[0m\u001b[0mapply\u001b[0m\u001b[0;34m(\u001b[0m\u001b[0;32mlambda\u001b[0m \u001b[0mx\u001b[0m\u001b[0;34m:\u001b[0m \u001b[0mconvert_col_to_yesno\u001b[0m\u001b[0;34m(\u001b[0m\u001b[0mx\u001b[0m\u001b[0;34m[\u001b[0m\u001b[0;34m'prev_student'\u001b[0m\u001b[0;34m]\u001b[0m\u001b[0;34m)\u001b[0m\u001b[0;34m,\u001b[0m \u001b[0maxis\u001b[0m\u001b[0;34m=\u001b[0m\u001b[0;36m1\u001b[0m\u001b[0;34m)\u001b[0m\u001b[0;34m\u001b[0m\u001b[0;34m\u001b[0m\u001b[0m\n\u001b[1;32m      4\u001b[0m \u001b[0mapplicants_df\u001b[0m\u001b[0;34m[\u001b[0m\u001b[0;34m'mother_alive'\u001b[0m\u001b[0;34m]\u001b[0m \u001b[0;34m=\u001b[0m \u001b[0mapplicants_df\u001b[0m\u001b[0;34m.\u001b[0m\u001b[0mapply\u001b[0m\u001b[0;34m(\u001b[0m\u001b[0;32mlambda\u001b[0m \u001b[0mx\u001b[0m\u001b[0;34m:\u001b[0m \u001b[0mconvert_col_to_yesno\u001b[0m\u001b[0;34m(\u001b[0m\u001b[0mx\u001b[0m\u001b[0;34m[\u001b[0m\u001b[0;34m'mother_alive'\u001b[0m\u001b[0;34m]\u001b[0m\u001b[0;34m)\u001b[0m\u001b[0;34m,\u001b[0m \u001b[0maxis\u001b[0m\u001b[0;34m=\u001b[0m\u001b[0;36m1\u001b[0m\u001b[0;34m)\u001b[0m\u001b[0;34m\u001b[0m\u001b[0;34m\u001b[0m\u001b[0m\n\u001b[1;32m      5\u001b[0m \u001b[0mapplicants_df\u001b[0m\u001b[0;34m[\u001b[0m\u001b[0;34m'father_alive'\u001b[0m\u001b[0;34m]\u001b[0m \u001b[0;34m=\u001b[0m \u001b[0mapplicants_df\u001b[0m\u001b[0;34m.\u001b[0m\u001b[0mapply\u001b[0m\u001b[0;34m(\u001b[0m\u001b[0;32mlambda\u001b[0m \u001b[0mx\u001b[0m\u001b[0;34m:\u001b[0m \u001b[0mconvert_col_to_yesno\u001b[0m\u001b[0;34m(\u001b[0m\u001b[0mx\u001b[0m\u001b[0;34m[\u001b[0m\u001b[0;34m'father_alive'\u001b[0m\u001b[0;34m]\u001b[0m\u001b[0;34m)\u001b[0m\u001b[0;34m,\u001b[0m \u001b[0maxis\u001b[0m\u001b[0;34m=\u001b[0m\u001b[0;36m1\u001b[0m\u001b[0;34m)\u001b[0m\u001b[0;34m\u001b[0m\u001b[0;34m\u001b[0m\u001b[0m\n",
            "\u001b[0;31mNameError\u001b[0m: name 'applicants_df' is not defined"
          ]
        }
      ],
      "source": [
        "applicants_df['have_source_of_income'] = applicants_df.apply(lambda x: convert_col_to_yesno(x['have_source_of_income']), axis=1)\n",
        "applicants_df['got_scholarship'] = applicants_df.apply(lambda x: convert_col_to_yesno(x['got_scholarship']), axis=1)\n",
        "applicants_df['prev_student'] = applicants_df.apply(lambda x: convert_col_to_yesno(x['prev_student']), axis=1)\n",
        "applicants_df['mother_alive'] = applicants_df.apply(lambda x: convert_col_to_yesno(x['mother_alive']), axis=1)\n",
        "applicants_df['father_alive'] = applicants_df.apply(lambda x: convert_col_to_yesno(x['father_alive']), axis=1)\n"
      ]
    },
    {
      "cell_type": "markdown",
      "metadata": {
        "id": "9dUXk4doyuAi"
      },
      "source": [
        "### Load Admited Students Data"
      ]
    },
    {
      "cell_type": "markdown",
      "source": [
        "Load admitted students so as to know which applicants actually made it to class and this will enable us to enrich out data (label it)"
      ],
      "metadata": {
        "id": "uUQS_7Hf22As"
      }
    },
    {
      "cell_type": "code",
      "execution_count": null,
      "metadata": {
        "id": "6mG0GyV5yuAi"
      },
      "outputs": [],
      "source": [
        "students_data  = \"/home/init/Documents/work/Computer Science/CAPSTONE/code/Access Program Master Data Sheet - Students.csv\""
      ]
    },
    {
      "cell_type": "code",
      "execution_count": null,
      "metadata": {
        "id": "0F_pnQSIyuAi"
      },
      "outputs": [],
      "source": [
        "students_df = pd.read_csv(students_data)"
      ]
    },
    {
      "cell_type": "code",
      "execution_count": null,
      "metadata": {
        "id": "1fTtDrmcyuAi"
      },
      "outputs": [],
      "source": [
        "students_df= students_df.dropna(subset = [\"Email\", \"Status\"])"
      ]
    },
    {
      "cell_type": "code",
      "execution_count": null,
      "metadata": {
        "id": "3yhMYS0zyuAi"
      },
      "outputs": [],
      "source": [
        "students_df['Email'] = students_df.apply(lambda x: x['Email'].strip(), axis=1)"
      ]
    },
    {
      "cell_type": "code",
      "execution_count": null,
      "metadata": {
        "id": "v9vcusnNyuAj",
        "outputId": "d01d4a50-94b8-49b9-c361-0793cde0321e"
      },
      "outputs": [
        {
          "data": {
            "text/html": [
              "<div>\n",
              "<style scoped>\n",
              "    .dataframe tbody tr th:only-of-type {\n",
              "        vertical-align: middle;\n",
              "    }\n",
              "\n",
              "    .dataframe tbody tr th {\n",
              "        vertical-align: top;\n",
              "    }\n",
              "\n",
              "    .dataframe thead th {\n",
              "        text-align: right;\n",
              "    }\n",
              "</style>\n",
              "<table border=\"1\" class=\"dataframe\">\n",
              "  <thead>\n",
              "    <tr style=\"text-align: right;\">\n",
              "      <th></th>\n",
              "      <th>Year</th>\n",
              "      <th>Quarter</th>\n",
              "      <th>MCF_Year</th>\n",
              "      <th>MCF_Quarter</th>\n",
              "      <th>Name</th>\n",
              "      <th>Email</th>\n",
              "      <th>Phone Number</th>\n",
              "      <th>Status</th>\n",
              "      <th>Current Class</th>\n",
              "      <th>Size of Scholarship</th>\n",
              "      <th>...</th>\n",
              "      <th>First</th>\n",
              "      <th>End</th>\n",
              "      <th>Col L</th>\n",
              "      <th>First.1</th>\n",
              "      <th>End.1</th>\n",
              "      <th>Col P</th>\n",
              "      <th>First.2</th>\n",
              "      <th>End.2</th>\n",
              "      <th>Col X</th>\n",
              "      <th>Unnamed: 98</th>\n",
              "    </tr>\n",
              "  </thead>\n",
              "  <tbody>\n",
              "    <tr>\n",
              "      <th>0</th>\n",
              "      <td>2020</td>\n",
              "      <td>Q_1</td>\n",
              "      <td>Y1</td>\n",
              "      <td>Q3</td>\n",
              "      <td>Billy Ochieng Ayiera</td>\n",
              "      <td>ayierabilly1@gmail.com</td>\n",
              "      <td>NaN</td>\n",
              "      <td>Graduated</td>\n",
              "      <td>Graduated</td>\n",
              "      <td>Full access scholarship</td>\n",
              "      <td>...</td>\n",
              "      <td>MPF</td>\n",
              "      <td>_25</td>\n",
              "      <td>MPFT_25</td>\n",
              "      <td>M</td>\n",
              "      <td>_25</td>\n",
              "      <td>MC_25</td>\n",
              "      <td>M</td>\n",
              "      <td>_25</td>\n",
              "      <td>MC_25</td>\n",
              "      <td>True</td>\n",
              "    </tr>\n",
              "    <tr>\n",
              "      <th>1</th>\n",
              "      <td>2020</td>\n",
              "      <td>Q_1</td>\n",
              "      <td>Y1</td>\n",
              "      <td>Q3</td>\n",
              "      <td>Beryl Negesa Otieno</td>\n",
              "      <td>berylnegesa@gmail.com</td>\n",
              "      <td>NaN</td>\n",
              "      <td>Graduated</td>\n",
              "      <td>Graduated</td>\n",
              "      <td>Full access scholarship</td>\n",
              "      <td>...</td>\n",
              "      <td>MPF</td>\n",
              "      <td>_25</td>\n",
              "      <td>MPFT_25</td>\n",
              "      <td>M</td>\n",
              "      <td>_25</td>\n",
              "      <td>MC_25</td>\n",
              "      <td>M</td>\n",
              "      <td>_25</td>\n",
              "      <td>MC_25</td>\n",
              "      <td>True</td>\n",
              "    </tr>\n",
              "    <tr>\n",
              "      <th>2</th>\n",
              "      <td>2020</td>\n",
              "      <td>Q_1</td>\n",
              "      <td>Y1</td>\n",
              "      <td>Q3</td>\n",
              "      <td>Rachel Akinyi Owuor</td>\n",
              "      <td>owuorrachel@gmail.com</td>\n",
              "      <td>NaN</td>\n",
              "      <td>Dropped</td>\n",
              "      <td>NaN</td>\n",
              "      <td>Full access scholarship</td>\n",
              "      <td>...</td>\n",
              "      <td>MPF</td>\n",
              "      <td>_27</td>\n",
              "      <td>MPFT_27</td>\n",
              "      <td>M</td>\n",
              "      <td>_27</td>\n",
              "      <td>MC_27</td>\n",
              "      <td>NaN</td>\n",
              "      <td>NaN</td>\n",
              "      <td>NaN</td>\n",
              "      <td>True</td>\n",
              "    </tr>\n",
              "    <tr>\n",
              "      <th>3</th>\n",
              "      <td>2020</td>\n",
              "      <td>Q_1</td>\n",
              "      <td>Y1</td>\n",
              "      <td>Q3</td>\n",
              "      <td>Antonio Munene Maina</td>\n",
              "      <td>antoniommaina@yahoo.com</td>\n",
              "      <td>NaN</td>\n",
              "      <td>Graduated</td>\n",
              "      <td>Graduated</td>\n",
              "      <td>Full access scholarship</td>\n",
              "      <td>...</td>\n",
              "      <td>MPF</td>\n",
              "      <td>_25</td>\n",
              "      <td>MPFT_25</td>\n",
              "      <td>M</td>\n",
              "      <td>_25</td>\n",
              "      <td>MC_25</td>\n",
              "      <td>M</td>\n",
              "      <td>_25</td>\n",
              "      <td>MC_25</td>\n",
              "      <td>True</td>\n",
              "    </tr>\n",
              "    <tr>\n",
              "      <th>4</th>\n",
              "      <td>2020</td>\n",
              "      <td>Q_1</td>\n",
              "      <td>Y1</td>\n",
              "      <td>Q3</td>\n",
              "      <td>Eugene Iregi</td>\n",
              "      <td>eugeneregi2019@gmail.com</td>\n",
              "      <td>NaN</td>\n",
              "      <td>Graduated</td>\n",
              "      <td>Graduated</td>\n",
              "      <td>Full access scholarship</td>\n",
              "      <td>...</td>\n",
              "      <td>MPF</td>\n",
              "      <td>_26</td>\n",
              "      <td>MPFT_26</td>\n",
              "      <td>M</td>\n",
              "      <td>_26</td>\n",
              "      <td>MC_26</td>\n",
              "      <td>M</td>\n",
              "      <td>_26</td>\n",
              "      <td>MC_26</td>\n",
              "      <td>True</td>\n",
              "    </tr>\n",
              "  </tbody>\n",
              "</table>\n",
              "<p>5 rows × 99 columns</p>\n",
              "</div>"
            ],
            "text/plain": [
              "   Year Quarter MCF_Year MCF_Quarter                  Name  \\\n",
              "0  2020     Q_1       Y1          Q3  Billy Ochieng Ayiera   \n",
              "1  2020     Q_1       Y1          Q3   Beryl Negesa Otieno   \n",
              "2  2020     Q_1       Y1          Q3   Rachel Akinyi Owuor   \n",
              "3  2020     Q_1       Y1          Q3  Antonio Munene Maina   \n",
              "4  2020     Q_1       Y1          Q3          Eugene Iregi   \n",
              "\n",
              "                      Email Phone Number     Status Current Class  \\\n",
              "0    ayierabilly1@gmail.com          NaN  Graduated     Graduated   \n",
              "1     berylnegesa@gmail.com          NaN  Graduated     Graduated   \n",
              "2     owuorrachel@gmail.com          NaN    Dropped           NaN   \n",
              "3   antoniommaina@yahoo.com          NaN  Graduated     Graduated   \n",
              "4  eugeneregi2019@gmail.com          NaN  Graduated     Graduated   \n",
              "\n",
              "       Size of Scholarship  ... First  End    Col L First.1 End.1  Col P  \\\n",
              "0  Full access scholarship  ...   MPF  _25  MPFT_25       M   _25  MC_25   \n",
              "1  Full access scholarship  ...   MPF  _25  MPFT_25       M   _25  MC_25   \n",
              "2  Full access scholarship  ...   MPF  _27  MPFT_27       M   _27  MC_27   \n",
              "3  Full access scholarship  ...   MPF  _25  MPFT_25       M   _25  MC_25   \n",
              "4  Full access scholarship  ...   MPF  _26  MPFT_26       M   _26  MC_26   \n",
              "\n",
              "  First.2 End.2  Col X Unnamed: 98  \n",
              "0       M   _25  MC_25        True  \n",
              "1       M   _25  MC_25        True  \n",
              "2     NaN   NaN    NaN        True  \n",
              "3       M   _25  MC_25        True  \n",
              "4       M   _26  MC_26        True  \n",
              "\n",
              "[5 rows x 99 columns]"
            ]
          },
          "execution_count": 512,
          "metadata": {},
          "output_type": "execute_result"
        }
      ],
      "source": [
        "students_df.head()"
      ]
    },
    {
      "cell_type": "markdown",
      "metadata": {
        "id": "g-_rtL7LyuAj"
      },
      "source": [
        "Get status of which students graduated and which students dropped"
      ]
    },
    {
      "cell_type": "code",
      "execution_count": null,
      "metadata": {
        "id": "wotCNQh0yuAj"
      },
      "outputs": [],
      "source": [
        "new_students_df = students_df[[\"Email\", \"Status\"]].copy()"
      ]
    },
    {
      "cell_type": "code",
      "execution_count": null,
      "metadata": {
        "id": "EG8YJFgKyuAj",
        "outputId": "58faa054-de1e-48af-d6b0-fa776407914f"
      },
      "outputs": [
        {
          "data": {
            "text/html": [
              "<div>\n",
              "<style scoped>\n",
              "    .dataframe tbody tr th:only-of-type {\n",
              "        vertical-align: middle;\n",
              "    }\n",
              "\n",
              "    .dataframe tbody tr th {\n",
              "        vertical-align: top;\n",
              "    }\n",
              "\n",
              "    .dataframe thead th {\n",
              "        text-align: right;\n",
              "    }\n",
              "</style>\n",
              "<table border=\"1\" class=\"dataframe\">\n",
              "  <thead>\n",
              "    <tr style=\"text-align: right;\">\n",
              "      <th></th>\n",
              "      <th>Email</th>\n",
              "      <th>Status</th>\n",
              "    </tr>\n",
              "  </thead>\n",
              "  <tbody>\n",
              "    <tr>\n",
              "      <th>0</th>\n",
              "      <td>ayierabilly1@gmail.com</td>\n",
              "      <td>Graduated</td>\n",
              "    </tr>\n",
              "    <tr>\n",
              "      <th>1</th>\n",
              "      <td>berylnegesa@gmail.com</td>\n",
              "      <td>Graduated</td>\n",
              "    </tr>\n",
              "    <tr>\n",
              "      <th>2</th>\n",
              "      <td>owuorrachel@gmail.com</td>\n",
              "      <td>Dropped</td>\n",
              "    </tr>\n",
              "    <tr>\n",
              "      <th>3</th>\n",
              "      <td>antoniommaina@yahoo.com</td>\n",
              "      <td>Graduated</td>\n",
              "    </tr>\n",
              "    <tr>\n",
              "      <th>4</th>\n",
              "      <td>eugeneregi2019@gmail.com</td>\n",
              "      <td>Graduated</td>\n",
              "    </tr>\n",
              "    <tr>\n",
              "      <th>...</th>\n",
              "      <td>...</td>\n",
              "      <td>...</td>\n",
              "    </tr>\n",
              "    <tr>\n",
              "      <th>1067</th>\n",
              "      <td>manuelmkaris@gmail.com</td>\n",
              "      <td>Active</td>\n",
              "    </tr>\n",
              "    <tr>\n",
              "      <th>1068</th>\n",
              "      <td>robinadoro@gmail.com</td>\n",
              "      <td>Active</td>\n",
              "    </tr>\n",
              "    <tr>\n",
              "      <th>1069</th>\n",
              "      <td>rgitonga07@gmail.com</td>\n",
              "      <td>Active</td>\n",
              "    </tr>\n",
              "    <tr>\n",
              "      <th>1070</th>\n",
              "      <td>otienojoe14@gmail.com</td>\n",
              "      <td>Active</td>\n",
              "    </tr>\n",
              "    <tr>\n",
              "      <th>1071</th>\n",
              "      <td>cin.kemu@gmail.com</td>\n",
              "      <td>Active</td>\n",
              "    </tr>\n",
              "  </tbody>\n",
              "</table>\n",
              "<p>1071 rows × 2 columns</p>\n",
              "</div>"
            ],
            "text/plain": [
              "                         Email     Status\n",
              "0       ayierabilly1@gmail.com  Graduated\n",
              "1        berylnegesa@gmail.com  Graduated\n",
              "2        owuorrachel@gmail.com    Dropped\n",
              "3      antoniommaina@yahoo.com  Graduated\n",
              "4     eugeneregi2019@gmail.com  Graduated\n",
              "...                        ...        ...\n",
              "1067    manuelmkaris@gmail.com     Active\n",
              "1068      robinadoro@gmail.com     Active\n",
              "1069      rgitonga07@gmail.com     Active\n",
              "1070     otienojoe14@gmail.com     Active\n",
              "1071        cin.kemu@gmail.com     Active\n",
              "\n",
              "[1071 rows x 2 columns]"
            ]
          },
          "execution_count": 514,
          "metadata": {},
          "output_type": "execute_result"
        }
      ],
      "source": [
        "new_students_df "
      ]
    },
    {
      "cell_type": "markdown",
      "metadata": {
        "id": "Qa6Kzx4XyuAj"
      },
      "source": [
        "# Merge applicants and admited student dataframes into one "
      ]
    },
    {
      "cell_type": "code",
      "execution_count": null,
      "metadata": {
        "id": "TrVTz45DyuAk",
        "outputId": "f81aee0c-5904-4004-a89e-36ba7841eb25"
      },
      "outputs": [
        {
          "name": "stderr",
          "output_type": "stream",
          "text": [
            "/tmp/ipykernel_503896/287369598.py:1: SettingWithCopyWarning: \n",
            "A value is trying to be set on a copy of a slice from a DataFrame.\n",
            "Try using .loc[row_indexer,col_indexer] = value instead\n",
            "\n",
            "See the caveats in the documentation: https://pandas.pydata.org/pandas-docs/stable/user_guide/indexing.html#returning-a-view-versus-a-copy\n",
            "  applicants_df['Email Address'] = applicants_df.apply(lambda x:  x['Email Address'].strip(), axis=1)\n"
          ]
        }
      ],
      "source": [
        "applicants_df['Email Address'] = applicants_df.apply(lambda x:  x['Email Address'].strip(), axis=1)"
      ]
    },
    {
      "cell_type": "code",
      "execution_count": null,
      "metadata": {
        "id": "YQo03EQuyuAk"
      },
      "outputs": [],
      "source": [
        "intakes = ['MPP_21', 'MPP_22', 'MPP_23', 'MPP_24']"
      ]
    },
    {
      "cell_type": "code",
      "execution_count": null,
      "metadata": {
        "id": "_XN9jzKDyuAk"
      },
      "outputs": [],
      "source": [
        "student_email = students_df[students_df[\"Pre-Prep Class\"].isin(intakes)][\"Email\"].tolist()\n",
        "admited_student_emails = [ email.strip().lower() for email in student_email]\n",
        "admited_student_emails = set(admited_student_emails)"
      ]
    },
    {
      "cell_type": "code",
      "execution_count": null,
      "metadata": {
        "id": "WGSA3igzyuAk"
      },
      "outputs": [],
      "source": [
        "def getAdmitted(email):\n",
        "    if email in admited_student_emails: return \"Admitted\"\n",
        "    return \"Rejected\""
      ]
    },
    {
      "cell_type": "code",
      "execution_count": null,
      "metadata": {
        "id": "ehuhm9UjyuAk"
      },
      "outputs": [],
      "source": [
        "applicants_df[\"admissions_decision\"] = applicants_df.apply(lambda x: getAdmitted(x['Email Address']), axis=1)"
      ]
    },
    {
      "cell_type": "code",
      "execution_count": null,
      "metadata": {
        "id": "WPEn5pMnyuAl"
      },
      "outputs": [],
      "source": [
        "dict_i = pd.Series(new_students_df.Status.values,index=new_students_df.Email).to_dict()\n",
        "def getstatus(email):\n",
        "    if email in dict_i: \n",
        "        return dict_i[email]\n",
        "    return \"Rejected\""
      ]
    },
    {
      "cell_type": "code",
      "execution_count": null,
      "metadata": {
        "id": "nALWdK0OyuAl"
      },
      "outputs": [],
      "source": [
        "applicants_df[\"final_status\"] = applicants_df.apply(lambda x: getstatus(x['Email Address']), axis=1)"
      ]
    },
    {
      "cell_type": "code",
      "execution_count": null,
      "metadata": {
        "id": "VHTrh5siyuAl",
        "outputId": "9690a772-c2b4-49a3-ebdb-28723a6d25f3"
      },
      "outputs": [
        {
          "data": {
            "text/html": [
              "<div>\n",
              "<style scoped>\n",
              "    .dataframe tbody tr th:only-of-type {\n",
              "        vertical-align: middle;\n",
              "    }\n",
              "\n",
              "    .dataframe tbody tr th {\n",
              "        vertical-align: top;\n",
              "    }\n",
              "\n",
              "    .dataframe thead th {\n",
              "        text-align: right;\n",
              "    }\n",
              "</style>\n",
              "<table border=\"1\" class=\"dataframe\">\n",
              "  <thead>\n",
              "    <tr style=\"text-align: right;\">\n",
              "      <th></th>\n",
              "      <th>Email Address</th>\n",
              "      <th>Gender</th>\n",
              "      <th>source</th>\n",
              "      <th>location</th>\n",
              "      <th>Age</th>\n",
              "      <th>neighborhood</th>\n",
              "      <th>marital_status</th>\n",
              "      <th>education_level</th>\n",
              "      <th>joining_university</th>\n",
              "      <th>used_computer</th>\n",
              "      <th>...</th>\n",
              "      <th>has_guardian</th>\n",
              "      <th>work_experience</th>\n",
              "      <th>tech_experience</th>\n",
              "      <th>have_source_of_income</th>\n",
              "      <th>Do you support anyone financially?</th>\n",
              "      <th>guardian_dependants</th>\n",
              "      <th>rent_house</th>\n",
              "      <th>got_scholarship</th>\n",
              "      <th>admissions_decision</th>\n",
              "      <th>final_status</th>\n",
              "    </tr>\n",
              "  </thead>\n",
              "  <tbody>\n",
              "    <tr>\n",
              "      <th>0</th>\n",
              "      <td>muriithinancynjeri@gmail.com</td>\n",
              "      <td>Female</td>\n",
              "      <td>None Partner</td>\n",
              "      <td>Embu</td>\n",
              "      <td>22</td>\n",
              "      <td>Village</td>\n",
              "      <td>Single</td>\n",
              "      <td>High school</td>\n",
              "      <td>No</td>\n",
              "      <td>Yes</td>\n",
              "      <td>...</td>\n",
              "      <td>No</td>\n",
              "      <td>Yes</td>\n",
              "      <td>Yes</td>\n",
              "      <td>Yes</td>\n",
              "      <td>Yes</td>\n",
              "      <td>3</td>\n",
              "      <td>Yes</td>\n",
              "      <td>Yes</td>\n",
              "      <td>Admitted</td>\n",
              "      <td>Dropped</td>\n",
              "    </tr>\n",
              "    <tr>\n",
              "      <th>1</th>\n",
              "      <td>sarahnjoroge755@gmail.com</td>\n",
              "      <td>Female</td>\n",
              "      <td>None Partner</td>\n",
              "      <td>Kiambu</td>\n",
              "      <td>22</td>\n",
              "      <td>Village</td>\n",
              "      <td>Single</td>\n",
              "      <td>Diploma certificate</td>\n",
              "      <td>No</td>\n",
              "      <td>Yes</td>\n",
              "      <td>...</td>\n",
              "      <td>Yes</td>\n",
              "      <td>Yes</td>\n",
              "      <td>No</td>\n",
              "      <td>No</td>\n",
              "      <td>No</td>\n",
              "      <td>3</td>\n",
              "      <td>Yes</td>\n",
              "      <td>Yes</td>\n",
              "      <td>Rejected</td>\n",
              "      <td>Rejected</td>\n",
              "    </tr>\n",
              "    <tr>\n",
              "      <th>2</th>\n",
              "      <td>johnwarren4426@gmail.com</td>\n",
              "      <td>Male</td>\n",
              "      <td>Partner</td>\n",
              "      <td>Nairobi</td>\n",
              "      <td>21</td>\n",
              "      <td>Village</td>\n",
              "      <td>Single</td>\n",
              "      <td>Diploma certificate</td>\n",
              "      <td>No</td>\n",
              "      <td>Yes</td>\n",
              "      <td>...</td>\n",
              "      <td>No</td>\n",
              "      <td>Yes</td>\n",
              "      <td>Yes</td>\n",
              "      <td>No</td>\n",
              "      <td>No</td>\n",
              "      <td>2</td>\n",
              "      <td>No</td>\n",
              "      <td>Yes</td>\n",
              "      <td>Rejected</td>\n",
              "      <td>Rejected</td>\n",
              "    </tr>\n",
              "    <tr>\n",
              "      <th>3</th>\n",
              "      <td>kipronoesau28@gmail.com</td>\n",
              "      <td>Female</td>\n",
              "      <td>None Partner</td>\n",
              "      <td>Nairobi</td>\n",
              "      <td>24</td>\n",
              "      <td>Estate</td>\n",
              "      <td>Single</td>\n",
              "      <td>University- bachelor's degree</td>\n",
              "      <td>No</td>\n",
              "      <td>Yes</td>\n",
              "      <td>...</td>\n",
              "      <td>No</td>\n",
              "      <td>No</td>\n",
              "      <td>Yes</td>\n",
              "      <td>No</td>\n",
              "      <td>No</td>\n",
              "      <td>2</td>\n",
              "      <td>No</td>\n",
              "      <td>Yes</td>\n",
              "      <td>Admitted</td>\n",
              "      <td>Rejected</td>\n",
              "    </tr>\n",
              "    <tr>\n",
              "      <th>4</th>\n",
              "      <td>kipronolangatdenis@gmail.com</td>\n",
              "      <td>Male</td>\n",
              "      <td>None Partner</td>\n",
              "      <td>Kajiado</td>\n",
              "      <td>23</td>\n",
              "      <td>Slum</td>\n",
              "      <td>Single</td>\n",
              "      <td>University- bachelor's degree</td>\n",
              "      <td>No</td>\n",
              "      <td>Yes</td>\n",
              "      <td>...</td>\n",
              "      <td>No</td>\n",
              "      <td>No</td>\n",
              "      <td>Yes</td>\n",
              "      <td>No</td>\n",
              "      <td>No</td>\n",
              "      <td>4</td>\n",
              "      <td>Yes</td>\n",
              "      <td>Yes</td>\n",
              "      <td>Rejected</td>\n",
              "      <td>Rejected</td>\n",
              "    </tr>\n",
              "    <tr>\n",
              "      <th>...</th>\n",
              "      <td>...</td>\n",
              "      <td>...</td>\n",
              "      <td>...</td>\n",
              "      <td>...</td>\n",
              "      <td>...</td>\n",
              "      <td>...</td>\n",
              "      <td>...</td>\n",
              "      <td>...</td>\n",
              "      <td>...</td>\n",
              "      <td>...</td>\n",
              "      <td>...</td>\n",
              "      <td>...</td>\n",
              "      <td>...</td>\n",
              "      <td>...</td>\n",
              "      <td>...</td>\n",
              "      <td>...</td>\n",
              "      <td>...</td>\n",
              "      <td>...</td>\n",
              "      <td>...</td>\n",
              "      <td>...</td>\n",
              "      <td>...</td>\n",
              "    </tr>\n",
              "    <tr>\n",
              "      <th>740</th>\n",
              "      <td>kerubovane200@gmail.com</td>\n",
              "      <td>Female</td>\n",
              "      <td>None Partner</td>\n",
              "      <td>Nairobi</td>\n",
              "      <td>18</td>\n",
              "      <td>Slum</td>\n",
              "      <td>Single</td>\n",
              "      <td>High school</td>\n",
              "      <td>No</td>\n",
              "      <td>Yes</td>\n",
              "      <td>...</td>\n",
              "      <td>Yes</td>\n",
              "      <td>No</td>\n",
              "      <td>No</td>\n",
              "      <td>No</td>\n",
              "      <td>No</td>\n",
              "      <td>3</td>\n",
              "      <td>No</td>\n",
              "      <td>No</td>\n",
              "      <td>Rejected</td>\n",
              "      <td>Rejected</td>\n",
              "    </tr>\n",
              "    <tr>\n",
              "      <th>741</th>\n",
              "      <td>patricktom269@gmail.com</td>\n",
              "      <td>Male</td>\n",
              "      <td>None Partner</td>\n",
              "      <td>Nairobi</td>\n",
              "      <td>32</td>\n",
              "      <td>Slum</td>\n",
              "      <td>Single</td>\n",
              "      <td>High school</td>\n",
              "      <td>No</td>\n",
              "      <td>Yes</td>\n",
              "      <td>...</td>\n",
              "      <td>No</td>\n",
              "      <td>No</td>\n",
              "      <td>No</td>\n",
              "      <td>Yes</td>\n",
              "      <td>No</td>\n",
              "      <td>4</td>\n",
              "      <td>No</td>\n",
              "      <td>No</td>\n",
              "      <td>Rejected</td>\n",
              "      <td>Rejected</td>\n",
              "    </tr>\n",
              "    <tr>\n",
              "      <th>742</th>\n",
              "      <td>rashfordadamic269@gmail.com</td>\n",
              "      <td>Male</td>\n",
              "      <td>None Partner</td>\n",
              "      <td>Nairobi</td>\n",
              "      <td>24</td>\n",
              "      <td>Village</td>\n",
              "      <td>Single</td>\n",
              "      <td>High school</td>\n",
              "      <td>No</td>\n",
              "      <td>Yes</td>\n",
              "      <td>...</td>\n",
              "      <td>No</td>\n",
              "      <td>No</td>\n",
              "      <td>Yes</td>\n",
              "      <td>Yes</td>\n",
              "      <td>Yes</td>\n",
              "      <td>3</td>\n",
              "      <td>Yes</td>\n",
              "      <td>No</td>\n",
              "      <td>Rejected</td>\n",
              "      <td>Rejected</td>\n",
              "    </tr>\n",
              "    <tr>\n",
              "      <th>743</th>\n",
              "      <td>vincentmwitik@gmail.com</td>\n",
              "      <td>Male</td>\n",
              "      <td>None Partner</td>\n",
              "      <td>Nairobi</td>\n",
              "      <td>20</td>\n",
              "      <td>Slum</td>\n",
              "      <td>Single</td>\n",
              "      <td>High school</td>\n",
              "      <td>No</td>\n",
              "      <td>No</td>\n",
              "      <td>...</td>\n",
              "      <td>Yes</td>\n",
              "      <td>No</td>\n",
              "      <td>No</td>\n",
              "      <td>No</td>\n",
              "      <td>No</td>\n",
              "      <td>0</td>\n",
              "      <td>No</td>\n",
              "      <td>No</td>\n",
              "      <td>Rejected</td>\n",
              "      <td>Rejected</td>\n",
              "    </tr>\n",
              "    <tr>\n",
              "      <th>744</th>\n",
              "      <td>lazarousmutuamuthami187@gmail.com</td>\n",
              "      <td>Male</td>\n",
              "      <td>None Partner</td>\n",
              "      <td>Nairobi</td>\n",
              "      <td>26</td>\n",
              "      <td>Village</td>\n",
              "      <td>Single</td>\n",
              "      <td>High school</td>\n",
              "      <td>No</td>\n",
              "      <td>No</td>\n",
              "      <td>...</td>\n",
              "      <td>Yes</td>\n",
              "      <td>No</td>\n",
              "      <td>No</td>\n",
              "      <td>Yes</td>\n",
              "      <td>No</td>\n",
              "      <td>1</td>\n",
              "      <td>No</td>\n",
              "      <td>No</td>\n",
              "      <td>Rejected</td>\n",
              "      <td>Rejected</td>\n",
              "    </tr>\n",
              "  </tbody>\n",
              "</table>\n",
              "<p>1873 rows × 24 columns</p>\n",
              "</div>"
            ],
            "text/plain": [
              "                         Email Address  Gender        source location  Age  \\\n",
              "0         muriithinancynjeri@gmail.com  Female  None Partner     Embu   22   \n",
              "1            sarahnjoroge755@gmail.com  Female  None Partner   Kiambu   22   \n",
              "2             johnwarren4426@gmail.com    Male       Partner  Nairobi   21   \n",
              "3              kipronoesau28@gmail.com  Female  None Partner  Nairobi   24   \n",
              "4         kipronolangatdenis@gmail.com    Male  None Partner  Kajiado   23   \n",
              "..                                 ...     ...           ...      ...  ...   \n",
              "740            kerubovane200@gmail.com  Female  None Partner  Nairobi   18   \n",
              "741            patricktom269@gmail.com    Male  None Partner  Nairobi   32   \n",
              "742        rashfordadamic269@gmail.com    Male  None Partner  Nairobi   24   \n",
              "743            vincentmwitik@gmail.com    Male  None Partner  Nairobi   20   \n",
              "744  lazarousmutuamuthami187@gmail.com    Male  None Partner  Nairobi   26   \n",
              "\n",
              "    neighborhood marital_status                education_level  \\\n",
              "0        Village         Single                    High school   \n",
              "1        Village         Single            Diploma certificate   \n",
              "2        Village         Single            Diploma certificate   \n",
              "3         Estate         Single  University- bachelor's degree   \n",
              "4           Slum         Single  University- bachelor's degree   \n",
              "..           ...            ...                            ...   \n",
              "740         Slum         Single                    High school   \n",
              "741         Slum         Single                    High school   \n",
              "742      Village         Single                    High school   \n",
              "743         Slum         Single                    High school   \n",
              "744      Village         Single                    High school   \n",
              "\n",
              "    joining_university used_computer  ... has_guardian work_experience  \\\n",
              "0                   No           Yes  ...           No             Yes   \n",
              "1                   No           Yes  ...          Yes             Yes   \n",
              "2                   No           Yes  ...           No             Yes   \n",
              "3                   No           Yes  ...           No              No   \n",
              "4                   No           Yes  ...           No              No   \n",
              "..                 ...           ...  ...          ...             ...   \n",
              "740                 No           Yes  ...          Yes              No   \n",
              "741                 No           Yes  ...           No              No   \n",
              "742                 No           Yes  ...           No              No   \n",
              "743                 No            No  ...          Yes              No   \n",
              "744                 No            No  ...          Yes              No   \n",
              "\n",
              "    tech_experience  have_source_of_income  \\\n",
              "0               Yes                    Yes   \n",
              "1                No                     No   \n",
              "2               Yes                     No   \n",
              "3               Yes                     No   \n",
              "4               Yes                     No   \n",
              "..              ...                    ...   \n",
              "740              No                     No   \n",
              "741              No                    Yes   \n",
              "742             Yes                    Yes   \n",
              "743              No                     No   \n",
              "744              No                    Yes   \n",
              "\n",
              "    Do you support anyone financially?  guardian_dependants rent_house  \\\n",
              "0                                   Yes                   3        Yes   \n",
              "1                                    No                   3        Yes   \n",
              "2                                    No                   2         No   \n",
              "3                                    No                   2         No   \n",
              "4                                    No                   4        Yes   \n",
              "..                                  ...                 ...        ...   \n",
              "740                                  No                   3         No   \n",
              "741                                  No                   4         No   \n",
              "742                                 Yes                   3        Yes   \n",
              "743                                  No                   0         No   \n",
              "744                                  No                   1         No   \n",
              "\n",
              "    got_scholarship admissions_decision  final_status  \n",
              "0               Yes            Admitted       Dropped  \n",
              "1               Yes            Rejected      Rejected  \n",
              "2               Yes            Rejected      Rejected  \n",
              "3               Yes            Admitted      Rejected  \n",
              "4               Yes            Rejected      Rejected  \n",
              "..              ...                 ...           ...  \n",
              "740              No            Rejected      Rejected  \n",
              "741              No            Rejected      Rejected  \n",
              "742              No            Rejected      Rejected  \n",
              "743              No            Rejected      Rejected  \n",
              "744              No            Rejected      Rejected  \n",
              "\n",
              "[1873 rows x 24 columns]"
            ]
          },
          "execution_count": 522,
          "metadata": {},
          "output_type": "execute_result"
        }
      ],
      "source": [
        "applicants_df"
      ]
    },
    {
      "cell_type": "code",
      "execution_count": null,
      "metadata": {
        "id": "0h7B9uUQyuAl"
      },
      "outputs": [],
      "source": [
        "def standadizeEducationandStatus(string_):\n",
        "    string_ = string_.split('-')[0].strip()\n",
        "    string_ = string_.split('and')[0].strip()\n",
        "    return string_"
      ]
    },
    {
      "cell_type": "code",
      "execution_count": null,
      "metadata": {
        "id": "dZsO-PRYyuAm",
        "outputId": "c513e753-3c4c-4d18-d2d2-2289e0f8ff61"
      },
      "outputs": [
        {
          "name": "stderr",
          "output_type": "stream",
          "text": [
            "/tmp/ipykernel_503896/1644882821.py:1: SettingWithCopyWarning: \n",
            "A value is trying to be set on a copy of a slice from a DataFrame.\n",
            "Try using .loc[row_indexer,col_indexer] = value instead\n",
            "\n",
            "See the caveats in the documentation: https://pandas.pydata.org/pandas-docs/stable/user_guide/indexing.html#returning-a-view-versus-a-copy\n",
            "  applicants_df[\"education_level\"] = applicants_df.apply(lambda x: standadizeEducationandStatus(x['education_level']), axis=1)\n",
            "/tmp/ipykernel_503896/1644882821.py:2: SettingWithCopyWarning: \n",
            "A value is trying to be set on a copy of a slice from a DataFrame.\n",
            "Try using .loc[row_indexer,col_indexer] = value instead\n",
            "\n",
            "See the caveats in the documentation: https://pandas.pydata.org/pandas-docs/stable/user_guide/indexing.html#returning-a-view-versus-a-copy\n",
            "  applicants_df[\"final_status\"] = applicants_df.apply(lambda x: standadizeEducationandStatus(x['final_status']), axis=1)\n"
          ]
        }
      ],
      "source": [
        "applicants_df[\"education_level\"] = applicants_df.apply(lambda x: standadizeEducationandStatus(x['education_level']), axis=1)\n",
        "applicants_df[\"final_status\"] = applicants_df.apply(lambda x: standadizeEducationandStatus(x['final_status']), axis=1)"
      ]
    },
    {
      "cell_type": "code",
      "execution_count": null,
      "metadata": {
        "id": "tv_vFY8oyuAm",
        "outputId": "f8abafa2-94d6-407f-b5fb-19de8aef4b5c"
      },
      "outputs": [
        {
          "name": "stderr",
          "output_type": "stream",
          "text": [
            "/home/init/anaconda3/lib/python3.9/site-packages/pandas/core/frame.py:5039: SettingWithCopyWarning: \n",
            "A value is trying to be set on a copy of a slice from a DataFrame\n",
            "\n",
            "See the caveats in the documentation: https://pandas.pydata.org/pandas-docs/stable/user_guide/indexing.html#returning-a-view-versus-a-copy\n",
            "  return super().rename(\n"
          ]
        },
        {
          "data": {
            "text/plain": [
              "['Email Address',\n",
              " 'Gender',\n",
              " 'source',\n",
              " 'location',\n",
              " 'Age',\n",
              " 'neighborhood',\n",
              " 'marital_status',\n",
              " 'education_level',\n",
              " 'joining_university',\n",
              " 'used_computer',\n",
              " 'prev_student',\n",
              " 'mother_alive',\n",
              " 'father_alive',\n",
              " 'no_of_siblings',\n",
              " 'has_guardian',\n",
              " 'work_experience',\n",
              " 'tech_experience',\n",
              " 'have_source_of_income',\n",
              " 'own_dependants',\n",
              " 'guardian_dependants',\n",
              " 'rent_house',\n",
              " 'got_scholarship',\n",
              " 'admissions_decision',\n",
              " 'final_status']"
            ]
          },
          "execution_count": 525,
          "metadata": {},
          "output_type": "execute_result"
        }
      ],
      "source": [
        "applicants_df.rename(columns = {'Do you support anyone financially? ':'own_dependants'}, inplace = True)\n",
        "applicants_df.columns.tolist()"
      ]
    },
    {
      "cell_type": "code",
      "execution_count": null,
      "metadata": {
        "id": "XFA_ED6ZyuAm",
        "outputId": "ef182d59-deb2-405d-853b-54a003592fa8"
      },
      "outputs": [
        {
          "name": "stderr",
          "output_type": "stream",
          "text": [
            "/home/init/anaconda3/lib/python3.9/site-packages/pandas/core/frame.py:4906: SettingWithCopyWarning: \n",
            "A value is trying to be set on a copy of a slice from a DataFrame\n",
            "\n",
            "See the caveats in the documentation: https://pandas.pydata.org/pandas-docs/stable/user_guide/indexing.html#returning-a-view-versus-a-copy\n",
            "  return super().drop(\n"
          ]
        }
      ],
      "source": [
        "# Srop Email address since we are not going to use it anymore\n",
        "applicants_df.drop([\"Email Address\"], axis=1, inplace=True)"
      ]
    },
    {
      "cell_type": "markdown",
      "metadata": {
        "id": "2BA_jdTVyuAn"
      },
      "source": [
        "# Data Exprolation and features extraction"
      ]
    },
    {
      "cell_type": "code",
      "execution_count": null,
      "metadata": {
        "id": "YzQd4zVJyuAn"
      },
      "outputs": [],
      "source": [
        "import sklearn\n",
        "import matplotlib.pyplot as plt\n",
        "import seaborn as sns"
      ]
    },
    {
      "cell_type": "code",
      "execution_count": null,
      "metadata": {
        "id": "G3Dz7qrdyuAn",
        "outputId": "2e2284c1-74cf-42a1-ee94-164bf151069f"
      },
      "outputs": [
        {
          "data": {
            "text/html": [
              "<div>\n",
              "<style scoped>\n",
              "    .dataframe tbody tr th:only-of-type {\n",
              "        vertical-align: middle;\n",
              "    }\n",
              "\n",
              "    .dataframe tbody tr th {\n",
              "        vertical-align: top;\n",
              "    }\n",
              "\n",
              "    .dataframe thead th {\n",
              "        text-align: right;\n",
              "    }\n",
              "</style>\n",
              "<table border=\"1\" class=\"dataframe\">\n",
              "  <thead>\n",
              "    <tr style=\"text-align: right;\">\n",
              "      <th>admissions_decision</th>\n",
              "      <th>Admitted</th>\n",
              "      <th>Rejected</th>\n",
              "    </tr>\n",
              "    <tr>\n",
              "      <th>Gender</th>\n",
              "      <th></th>\n",
              "      <th></th>\n",
              "    </tr>\n",
              "  </thead>\n",
              "  <tbody>\n",
              "    <tr>\n",
              "      <th>Female</th>\n",
              "      <td>117</td>\n",
              "      <td>476</td>\n",
              "    </tr>\n",
              "    <tr>\n",
              "      <th>Male</th>\n",
              "      <td>198</td>\n",
              "      <td>1082</td>\n",
              "    </tr>\n",
              "  </tbody>\n",
              "</table>\n",
              "</div>"
            ],
            "text/plain": [
              "admissions_decision  Admitted  Rejected\n",
              "Gender                                 \n",
              "Female                    117       476\n",
              "Male                      198      1082"
            ]
          },
          "execution_count": 528,
          "metadata": {},
          "output_type": "execute_result"
        }
      ],
      "source": [
        "pd.crosstab( applicants_df[\"Gender\"], applicants_df[\"admissions_decision\"])"
      ]
    },
    {
      "cell_type": "markdown",
      "source": [
        "in the tab above, we can see how many female were admitted and rejected compared to the Males"
      ],
      "metadata": {
        "id": "uOwUyA9d3T2J"
      }
    },
    {
      "cell_type": "code",
      "execution_count": null,
      "metadata": {
        "id": "QCbeAUiiyuAn",
        "outputId": "aea2436f-4d38-42c2-af58-d2b4bdfadfad"
      },
      "outputs": [
        {
          "data": {
            "text/html": [
              "<div>\n",
              "<style scoped>\n",
              "    .dataframe tbody tr th:only-of-type {\n",
              "        vertical-align: middle;\n",
              "    }\n",
              "\n",
              "    .dataframe tbody tr th {\n",
              "        vertical-align: top;\n",
              "    }\n",
              "\n",
              "    .dataframe thead th {\n",
              "        text-align: right;\n",
              "    }\n",
              "</style>\n",
              "<table border=\"1\" class=\"dataframe\">\n",
              "  <thead>\n",
              "    <tr style=\"text-align: right;\">\n",
              "      <th>admissions_decision</th>\n",
              "      <th>Admitted</th>\n",
              "      <th>Rejected</th>\n",
              "    </tr>\n",
              "    <tr>\n",
              "      <th>neighborhood</th>\n",
              "      <th></th>\n",
              "      <th></th>\n",
              "    </tr>\n",
              "  </thead>\n",
              "  <tbody>\n",
              "    <tr>\n",
              "      <th>Court</th>\n",
              "      <td>19</td>\n",
              "      <td>60</td>\n",
              "    </tr>\n",
              "    <tr>\n",
              "      <th>Estate</th>\n",
              "      <td>57</td>\n",
              "      <td>361</td>\n",
              "    </tr>\n",
              "    <tr>\n",
              "      <th>Slum</th>\n",
              "      <td>97</td>\n",
              "      <td>533</td>\n",
              "    </tr>\n",
              "    <tr>\n",
              "      <th>Village</th>\n",
              "      <td>142</td>\n",
              "      <td>604</td>\n",
              "    </tr>\n",
              "  </tbody>\n",
              "</table>\n",
              "</div>"
            ],
            "text/plain": [
              "admissions_decision  Admitted  Rejected\n",
              "neighborhood                           \n",
              "Court                      19        60\n",
              "Estate                     57       361\n",
              "Slum                       97       533\n",
              "Village                   142       604"
            ]
          },
          "execution_count": 529,
          "metadata": {},
          "output_type": "execute_result"
        }
      ],
      "source": [
        "pd.crosstab( applicants_df[\"neighborhood\"], applicants_df[\"admissions_decision\"])"
      ]
    },
    {
      "cell_type": "markdown",
      "source": [
        "The data above shows applicants from slums and villages are more likely to be admitted via scholarship than those from estate and court"
      ],
      "metadata": {
        "id": "dgWOcN213dI2"
      }
    },
    {
      "cell_type": "code",
      "execution_count": null,
      "metadata": {
        "id": "ka7lAcu9yuAn",
        "outputId": "66adfece-2205-415f-fdcc-8cbbd054686c"
      },
      "outputs": [
        {
          "data": {
            "text/html": [
              "<div>\n",
              "<style scoped>\n",
              "    .dataframe tbody tr th:only-of-type {\n",
              "        vertical-align: middle;\n",
              "    }\n",
              "\n",
              "    .dataframe tbody tr th {\n",
              "        vertical-align: top;\n",
              "    }\n",
              "\n",
              "    .dataframe thead th {\n",
              "        text-align: right;\n",
              "    }\n",
              "</style>\n",
              "<table border=\"1\" class=\"dataframe\">\n",
              "  <thead>\n",
              "    <tr style=\"text-align: right;\">\n",
              "      <th>admissions_decision</th>\n",
              "      <th>Admitted</th>\n",
              "      <th>Rejected</th>\n",
              "    </tr>\n",
              "    <tr>\n",
              "      <th>source</th>\n",
              "      <th></th>\n",
              "      <th></th>\n",
              "    </tr>\n",
              "  </thead>\n",
              "  <tbody>\n",
              "    <tr>\n",
              "      <th>None Partner</th>\n",
              "      <td>295</td>\n",
              "      <td>1345</td>\n",
              "    </tr>\n",
              "    <tr>\n",
              "      <th>Partner</th>\n",
              "      <td>20</td>\n",
              "      <td>213</td>\n",
              "    </tr>\n",
              "  </tbody>\n",
              "</table>\n",
              "</div>"
            ],
            "text/plain": [
              "admissions_decision  Admitted  Rejected\n",
              "source                                 \n",
              "None Partner              295      1345\n",
              "Partner                    20       213"
            ]
          },
          "execution_count": 530,
          "metadata": {},
          "output_type": "execute_result"
        }
      ],
      "source": [
        "pd.crosstab( applicants_df[\"source\"], applicants_df[\"admissions_decision\"])"
      ]
    },
    {
      "cell_type": "code",
      "execution_count": null,
      "metadata": {
        "id": "h-L8qqStyuAo",
        "outputId": "4688a4b7-6458-4280-e1f8-6452705e01c5"
      },
      "outputs": [
        {
          "data": {
            "text/html": [
              "<div>\n",
              "<style scoped>\n",
              "    .dataframe tbody tr th:only-of-type {\n",
              "        vertical-align: middle;\n",
              "    }\n",
              "\n",
              "    .dataframe tbody tr th {\n",
              "        vertical-align: top;\n",
              "    }\n",
              "\n",
              "    .dataframe thead th {\n",
              "        text-align: right;\n",
              "    }\n",
              "</style>\n",
              "<table border=\"1\" class=\"dataframe\">\n",
              "  <thead>\n",
              "    <tr style=\"text-align: right;\">\n",
              "      <th>admissions_decision</th>\n",
              "      <th>Admitted</th>\n",
              "      <th>Rejected</th>\n",
              "    </tr>\n",
              "    <tr>\n",
              "      <th>education_level</th>\n",
              "      <th></th>\n",
              "      <th></th>\n",
              "    </tr>\n",
              "  </thead>\n",
              "  <tbody>\n",
              "    <tr>\n",
              "      <th>Diploma certificate</th>\n",
              "      <td>37</td>\n",
              "      <td>206</td>\n",
              "    </tr>\n",
              "    <tr>\n",
              "      <th>High school</th>\n",
              "      <td>178</td>\n",
              "      <td>860</td>\n",
              "    </tr>\n",
              "    <tr>\n",
              "      <th>Masters Degree</th>\n",
              "      <td>0</td>\n",
              "      <td>1</td>\n",
              "    </tr>\n",
              "    <tr>\n",
              "      <th>Primary school</th>\n",
              "      <td>0</td>\n",
              "      <td>8</td>\n",
              "    </tr>\n",
              "    <tr>\n",
              "      <th>University</th>\n",
              "      <td>100</td>\n",
              "      <td>483</td>\n",
              "    </tr>\n",
              "  </tbody>\n",
              "</table>\n",
              "</div>"
            ],
            "text/plain": [
              "admissions_decision  Admitted  Rejected\n",
              "education_level                        \n",
              "Diploma certificate        37       206\n",
              "High school               178       860\n",
              "Masters Degree              0         1\n",
              "Primary school              0         8\n",
              "University                100       483"
            ]
          },
          "execution_count": 531,
          "metadata": {},
          "output_type": "execute_result"
        }
      ],
      "source": [
        "pd.crosstab( applicants_df[\"education_level\"], applicants_df[\"admissions_decision\"])"
      ]
    },
    {
      "cell_type": "code",
      "execution_count": null,
      "metadata": {
        "id": "JsiYEALdyuAo",
        "outputId": "4420048b-743b-4b5c-ec2a-505d1a76cfca"
      },
      "outputs": [
        {
          "data": {
            "text/html": [
              "<div>\n",
              "<style scoped>\n",
              "    .dataframe tbody tr th:only-of-type {\n",
              "        vertical-align: middle;\n",
              "    }\n",
              "\n",
              "    .dataframe tbody tr th {\n",
              "        vertical-align: top;\n",
              "    }\n",
              "\n",
              "    .dataframe thead th {\n",
              "        text-align: right;\n",
              "    }\n",
              "</style>\n",
              "<table border=\"1\" class=\"dataframe\">\n",
              "  <thead>\n",
              "    <tr style=\"text-align: right;\">\n",
              "      <th>admissions_decision</th>\n",
              "      <th>Admitted</th>\n",
              "      <th>Rejected</th>\n",
              "    </tr>\n",
              "    <tr>\n",
              "      <th>tech_experience</th>\n",
              "      <th></th>\n",
              "      <th></th>\n",
              "    </tr>\n",
              "  </thead>\n",
              "  <tbody>\n",
              "    <tr>\n",
              "      <th>No</th>\n",
              "      <td>67</td>\n",
              "      <td>406</td>\n",
              "    </tr>\n",
              "    <tr>\n",
              "      <th>Yes</th>\n",
              "      <td>248</td>\n",
              "      <td>1152</td>\n",
              "    </tr>\n",
              "  </tbody>\n",
              "</table>\n",
              "</div>"
            ],
            "text/plain": [
              "admissions_decision  Admitted  Rejected\n",
              "tech_experience                        \n",
              "No                         67       406\n",
              "Yes                       248      1152"
            ]
          },
          "execution_count": 532,
          "metadata": {},
          "output_type": "execute_result"
        }
      ],
      "source": [
        "pd.crosstab( applicants_df[\"tech_experience\"], applicants_df[\"admissions_decision\"])"
      ]
    },
    {
      "cell_type": "code",
      "execution_count": null,
      "metadata": {
        "id": "KxDcfHoMyuAo",
        "outputId": "18f14f9c-7e34-4304-c81d-515c33595e96"
      },
      "outputs": [
        {
          "data": {
            "text/html": [
              "<div>\n",
              "<style scoped>\n",
              "    .dataframe tbody tr th:only-of-type {\n",
              "        vertical-align: middle;\n",
              "    }\n",
              "\n",
              "    .dataframe tbody tr th {\n",
              "        vertical-align: top;\n",
              "    }\n",
              "\n",
              "    .dataframe thead th {\n",
              "        text-align: right;\n",
              "    }\n",
              "</style>\n",
              "<table border=\"1\" class=\"dataframe\">\n",
              "  <thead>\n",
              "    <tr style=\"text-align: right;\">\n",
              "      <th>admissions_decision</th>\n",
              "      <th>Admitted</th>\n",
              "      <th>Rejected</th>\n",
              "    </tr>\n",
              "    <tr>\n",
              "      <th>used_computer</th>\n",
              "      <th></th>\n",
              "      <th></th>\n",
              "    </tr>\n",
              "  </thead>\n",
              "  <tbody>\n",
              "    <tr>\n",
              "      <th>No</th>\n",
              "      <td>0</td>\n",
              "      <td>41</td>\n",
              "    </tr>\n",
              "    <tr>\n",
              "      <th>Yes</th>\n",
              "      <td>315</td>\n",
              "      <td>1517</td>\n",
              "    </tr>\n",
              "  </tbody>\n",
              "</table>\n",
              "</div>"
            ],
            "text/plain": [
              "admissions_decision  Admitted  Rejected\n",
              "used_computer                          \n",
              "No                          0        41\n",
              "Yes                       315      1517"
            ]
          },
          "execution_count": 533,
          "metadata": {},
          "output_type": "execute_result"
        }
      ],
      "source": [
        "pd.crosstab( applicants_df[\"used_computer\"], applicants_df[\"admissions_decision\"])"
      ]
    },
    {
      "cell_type": "markdown",
      "metadata": {
        "id": "p7a8eGCMyuAo"
      },
      "source": [
        "# One Hot Data Encoding and label encoding"
      ]
    },
    {
      "cell_type": "markdown",
      "source": [
        "# exprole the data to know which columns are suitable for onehotencoding (Where 'order' applies) or label encoding (where order does not apply)"
      ],
      "metadata": {
        "id": "kHT3QSGp3r2r"
      }
    },
    {
      "cell_type": "code",
      "execution_count": null,
      "metadata": {
        "id": "s8akISJyyuAo",
        "outputId": "912d7ba3-32ee-49d1-85f2-52163ccbe141"
      },
      "outputs": [
        {
          "name": "stdout",
          "output_type": "stream",
          "text": [
            "Gender ['Female' 'Male']\n",
            "source ['None Partner' 'Partner']\n",
            "Age [22 21 24 23 20 27 30 32 26 25 28 19 18 40 33 29 31 17 35 36 34 42]\n",
            "neighborhood ['Village' 'Estate' 'Slum' 'Court']\n",
            "marital_status ['Single' 'Married or in a domestic partnership']\n",
            "education_level ['High school' 'Diploma certificate' 'University' 'Primary school'\n",
            " 'Masters Degree']\n",
            "joining_university ['No' 'Yes']\n",
            "used_computer ['Yes' 'No']\n",
            "prev_student ['No' 'Yes']\n",
            "mother_alive ['Yes' 'No']\n",
            "father_alive ['Yes' 'No']\n",
            "no_of_siblings [ 2  1  3  6  9  8  5  7  0  4 10]\n",
            "has_guardian ['No' 'Yes']\n",
            "work_experience ['Yes' 'No']\n",
            "tech_experience ['Yes' 'No']\n",
            "have_source_of_income ['Yes' 'No']\n",
            "own_dependants ['Yes' 'No']\n",
            "guardian_dependants [ 3  2  4  6  5  0  1 10  9  8  7]\n",
            "rent_house ['Yes' 'No']\n",
            "got_scholarship ['Yes' 'No']\n",
            "admissions_decision ['Admitted' 'Rejected']\n",
            "final_status ['Dropped' 'Rejected' 'Active']\n"
          ]
        }
      ],
      "source": [
        "applicants_df.columns.tolist()\n",
        "for col in applicants_df.columns.tolist():\n",
        "    if col not in [\"Email Address\",'location' ]:\n",
        "        print(col, applicants_df[col].unique())"
      ]
    },
    {
      "cell_type": "code",
      "source": [
        "applicants_df.to_csv(\"/content/drive/MyDrive/Colab Notebooks/Data Mining/summative/Cleaned_applicants_data.csv\", index=False)"
      ],
      "metadata": {
        "id": "P4ecXDdN7LX7"
      },
      "execution_count": null,
      "outputs": []
    },
    {
      "cell_type": "code",
      "execution_count": null,
      "metadata": {
        "id": "uOd4QgvoyuAp"
      },
      "outputs": [],
      "source": [
        "import numpy as np\n",
        "from sklearn.preprocessing import OneHotEncoder\n",
        "from sklearn import preprocessing"
      ]
    },
    {
      "cell_type": "markdown",
      "metadata": {
        "id": "Mjsi4_kGyuAp"
      },
      "source": [
        "### Column Encoding"
      ]
    },
    {
      "cell_type": "code",
      "execution_count": null,
      "metadata": {
        "id": "orhccsUoyuAp"
      },
      "outputs": [],
      "source": [
        "columns_to_one_hot_encode = [\"neighborhood\",\"education_level\",\"final_status\"] # this are columns with more than one two unique values "
      ]
    },
    {
      "cell_type": "code",
      "execution_count": null,
      "metadata": {
        "id": "fmUlLYdhyuAp"
      },
      "outputs": [],
      "source": [
        "# this are columns with more less than or two unique values \n",
        "columns_to_label_encode = ['source',\"Gender\", \"marital_status\", \"joining_university\", \n",
        "                           \"used_computer\", \"prev_student\", \"has_guardian\", \"work_experience\",\n",
        "                           \"tech_experience\", \"have_source_of_income\", \"own_dependants\", \"rent_house\", \"got_scholarship\",  \n",
        "                           \"mother_alive\", \"father_alive\",   \"admissions_decision\"]"
      ]
    },
    {
      "cell_type": "code",
      "execution_count": null,
      "metadata": {
        "id": "tOJGEpXVyuAp"
      },
      "outputs": [],
      "source": [
        "encoded_data = applicants_df\n",
        "for col in columns_to_one_hot_encode:\n",
        "    col_ohe = pd.get_dummies(applicants_df[col], prefix=col)\n",
        "    encoded_data = pd.concat((encoded_data, col_ohe), axis=1).drop(col, axis=1)"
      ]
    },
    {
      "cell_type": "code",
      "execution_count": null,
      "metadata": {
        "id": "RmkBEdNXyuAp",
        "outputId": "b6336524-6af7-48b1-9382-04c23fbd1dab"
      },
      "outputs": [
        {
          "data": {
            "text/html": [
              "<div>\n",
              "<style scoped>\n",
              "    .dataframe tbody tr th:only-of-type {\n",
              "        vertical-align: middle;\n",
              "    }\n",
              "\n",
              "    .dataframe tbody tr th {\n",
              "        vertical-align: top;\n",
              "    }\n",
              "\n",
              "    .dataframe thead th {\n",
              "        text-align: right;\n",
              "    }\n",
              "</style>\n",
              "<table border=\"1\" class=\"dataframe\">\n",
              "  <thead>\n",
              "    <tr style=\"text-align: right;\">\n",
              "      <th></th>\n",
              "      <th>Gender</th>\n",
              "      <th>source</th>\n",
              "      <th>location</th>\n",
              "      <th>Age</th>\n",
              "      <th>marital_status</th>\n",
              "      <th>joining_university</th>\n",
              "      <th>used_computer</th>\n",
              "      <th>prev_student</th>\n",
              "      <th>mother_alive</th>\n",
              "      <th>father_alive</th>\n",
              "      <th>...</th>\n",
              "      <th>neighborhood_Slum</th>\n",
              "      <th>neighborhood_Village</th>\n",
              "      <th>education_level_Diploma certificate</th>\n",
              "      <th>education_level_High school</th>\n",
              "      <th>education_level_Masters Degree</th>\n",
              "      <th>education_level_Primary school</th>\n",
              "      <th>education_level_University</th>\n",
              "      <th>final_status_Active</th>\n",
              "      <th>final_status_Dropped</th>\n",
              "      <th>final_status_Rejected</th>\n",
              "    </tr>\n",
              "  </thead>\n",
              "  <tbody>\n",
              "    <tr>\n",
              "      <th>0</th>\n",
              "      <td>Female</td>\n",
              "      <td>None Partner</td>\n",
              "      <td>Embu</td>\n",
              "      <td>22</td>\n",
              "      <td>Single</td>\n",
              "      <td>No</td>\n",
              "      <td>Yes</td>\n",
              "      <td>No</td>\n",
              "      <td>Yes</td>\n",
              "      <td>Yes</td>\n",
              "      <td>...</td>\n",
              "      <td>0</td>\n",
              "      <td>1</td>\n",
              "      <td>0</td>\n",
              "      <td>1</td>\n",
              "      <td>0</td>\n",
              "      <td>0</td>\n",
              "      <td>0</td>\n",
              "      <td>0</td>\n",
              "      <td>1</td>\n",
              "      <td>0</td>\n",
              "    </tr>\n",
              "    <tr>\n",
              "      <th>1</th>\n",
              "      <td>Female</td>\n",
              "      <td>None Partner</td>\n",
              "      <td>Kiambu</td>\n",
              "      <td>22</td>\n",
              "      <td>Single</td>\n",
              "      <td>No</td>\n",
              "      <td>Yes</td>\n",
              "      <td>No</td>\n",
              "      <td>No</td>\n",
              "      <td>Yes</td>\n",
              "      <td>...</td>\n",
              "      <td>0</td>\n",
              "      <td>1</td>\n",
              "      <td>1</td>\n",
              "      <td>0</td>\n",
              "      <td>0</td>\n",
              "      <td>0</td>\n",
              "      <td>0</td>\n",
              "      <td>0</td>\n",
              "      <td>0</td>\n",
              "      <td>1</td>\n",
              "    </tr>\n",
              "    <tr>\n",
              "      <th>2</th>\n",
              "      <td>Male</td>\n",
              "      <td>Partner</td>\n",
              "      <td>Nairobi</td>\n",
              "      <td>21</td>\n",
              "      <td>Single</td>\n",
              "      <td>No</td>\n",
              "      <td>Yes</td>\n",
              "      <td>No</td>\n",
              "      <td>Yes</td>\n",
              "      <td>Yes</td>\n",
              "      <td>...</td>\n",
              "      <td>0</td>\n",
              "      <td>1</td>\n",
              "      <td>1</td>\n",
              "      <td>0</td>\n",
              "      <td>0</td>\n",
              "      <td>0</td>\n",
              "      <td>0</td>\n",
              "      <td>0</td>\n",
              "      <td>0</td>\n",
              "      <td>1</td>\n",
              "    </tr>\n",
              "    <tr>\n",
              "      <th>3</th>\n",
              "      <td>Female</td>\n",
              "      <td>None Partner</td>\n",
              "      <td>Nairobi</td>\n",
              "      <td>24</td>\n",
              "      <td>Single</td>\n",
              "      <td>No</td>\n",
              "      <td>Yes</td>\n",
              "      <td>No</td>\n",
              "      <td>Yes</td>\n",
              "      <td>Yes</td>\n",
              "      <td>...</td>\n",
              "      <td>0</td>\n",
              "      <td>0</td>\n",
              "      <td>0</td>\n",
              "      <td>0</td>\n",
              "      <td>0</td>\n",
              "      <td>0</td>\n",
              "      <td>1</td>\n",
              "      <td>0</td>\n",
              "      <td>0</td>\n",
              "      <td>1</td>\n",
              "    </tr>\n",
              "    <tr>\n",
              "      <th>4</th>\n",
              "      <td>Male</td>\n",
              "      <td>None Partner</td>\n",
              "      <td>Kajiado</td>\n",
              "      <td>23</td>\n",
              "      <td>Single</td>\n",
              "      <td>No</td>\n",
              "      <td>Yes</td>\n",
              "      <td>No</td>\n",
              "      <td>Yes</td>\n",
              "      <td>No</td>\n",
              "      <td>...</td>\n",
              "      <td>1</td>\n",
              "      <td>0</td>\n",
              "      <td>0</td>\n",
              "      <td>0</td>\n",
              "      <td>0</td>\n",
              "      <td>0</td>\n",
              "      <td>1</td>\n",
              "      <td>0</td>\n",
              "      <td>0</td>\n",
              "      <td>1</td>\n",
              "    </tr>\n",
              "    <tr>\n",
              "      <th>...</th>\n",
              "      <td>...</td>\n",
              "      <td>...</td>\n",
              "      <td>...</td>\n",
              "      <td>...</td>\n",
              "      <td>...</td>\n",
              "      <td>...</td>\n",
              "      <td>...</td>\n",
              "      <td>...</td>\n",
              "      <td>...</td>\n",
              "      <td>...</td>\n",
              "      <td>...</td>\n",
              "      <td>...</td>\n",
              "      <td>...</td>\n",
              "      <td>...</td>\n",
              "      <td>...</td>\n",
              "      <td>...</td>\n",
              "      <td>...</td>\n",
              "      <td>...</td>\n",
              "      <td>...</td>\n",
              "      <td>...</td>\n",
              "      <td>...</td>\n",
              "    </tr>\n",
              "    <tr>\n",
              "      <th>740</th>\n",
              "      <td>Female</td>\n",
              "      <td>None Partner</td>\n",
              "      <td>Nairobi</td>\n",
              "      <td>18</td>\n",
              "      <td>Single</td>\n",
              "      <td>No</td>\n",
              "      <td>Yes</td>\n",
              "      <td>No</td>\n",
              "      <td>Yes</td>\n",
              "      <td>Yes</td>\n",
              "      <td>...</td>\n",
              "      <td>1</td>\n",
              "      <td>0</td>\n",
              "      <td>0</td>\n",
              "      <td>1</td>\n",
              "      <td>0</td>\n",
              "      <td>0</td>\n",
              "      <td>0</td>\n",
              "      <td>0</td>\n",
              "      <td>0</td>\n",
              "      <td>1</td>\n",
              "    </tr>\n",
              "    <tr>\n",
              "      <th>741</th>\n",
              "      <td>Male</td>\n",
              "      <td>None Partner</td>\n",
              "      <td>Nairobi</td>\n",
              "      <td>32</td>\n",
              "      <td>Single</td>\n",
              "      <td>No</td>\n",
              "      <td>Yes</td>\n",
              "      <td>No</td>\n",
              "      <td>No</td>\n",
              "      <td>No</td>\n",
              "      <td>...</td>\n",
              "      <td>1</td>\n",
              "      <td>0</td>\n",
              "      <td>0</td>\n",
              "      <td>1</td>\n",
              "      <td>0</td>\n",
              "      <td>0</td>\n",
              "      <td>0</td>\n",
              "      <td>0</td>\n",
              "      <td>0</td>\n",
              "      <td>1</td>\n",
              "    </tr>\n",
              "    <tr>\n",
              "      <th>742</th>\n",
              "      <td>Male</td>\n",
              "      <td>None Partner</td>\n",
              "      <td>Nairobi</td>\n",
              "      <td>24</td>\n",
              "      <td>Single</td>\n",
              "      <td>No</td>\n",
              "      <td>Yes</td>\n",
              "      <td>No</td>\n",
              "      <td>Yes</td>\n",
              "      <td>Yes</td>\n",
              "      <td>...</td>\n",
              "      <td>0</td>\n",
              "      <td>1</td>\n",
              "      <td>0</td>\n",
              "      <td>1</td>\n",
              "      <td>0</td>\n",
              "      <td>0</td>\n",
              "      <td>0</td>\n",
              "      <td>0</td>\n",
              "      <td>0</td>\n",
              "      <td>1</td>\n",
              "    </tr>\n",
              "    <tr>\n",
              "      <th>743</th>\n",
              "      <td>Male</td>\n",
              "      <td>None Partner</td>\n",
              "      <td>Nairobi</td>\n",
              "      <td>20</td>\n",
              "      <td>Single</td>\n",
              "      <td>No</td>\n",
              "      <td>No</td>\n",
              "      <td>Yes</td>\n",
              "      <td>Yes</td>\n",
              "      <td>Yes</td>\n",
              "      <td>...</td>\n",
              "      <td>1</td>\n",
              "      <td>0</td>\n",
              "      <td>0</td>\n",
              "      <td>1</td>\n",
              "      <td>0</td>\n",
              "      <td>0</td>\n",
              "      <td>0</td>\n",
              "      <td>0</td>\n",
              "      <td>0</td>\n",
              "      <td>1</td>\n",
              "    </tr>\n",
              "    <tr>\n",
              "      <th>744</th>\n",
              "      <td>Male</td>\n",
              "      <td>None Partner</td>\n",
              "      <td>Nairobi</td>\n",
              "      <td>26</td>\n",
              "      <td>Single</td>\n",
              "      <td>No</td>\n",
              "      <td>No</td>\n",
              "      <td>No</td>\n",
              "      <td>Yes</td>\n",
              "      <td>Yes</td>\n",
              "      <td>...</td>\n",
              "      <td>0</td>\n",
              "      <td>1</td>\n",
              "      <td>0</td>\n",
              "      <td>1</td>\n",
              "      <td>0</td>\n",
              "      <td>0</td>\n",
              "      <td>0</td>\n",
              "      <td>0</td>\n",
              "      <td>0</td>\n",
              "      <td>1</td>\n",
              "    </tr>\n",
              "  </tbody>\n",
              "</table>\n",
              "<p>1873 rows × 32 columns</p>\n",
              "</div>"
            ],
            "text/plain": [
              "     Gender        source location  Age marital_status joining_university  \\\n",
              "0    Female  None Partner     Embu   22         Single                 No   \n",
              "1    Female  None Partner   Kiambu   22         Single                 No   \n",
              "2      Male       Partner  Nairobi   21         Single                 No   \n",
              "3    Female  None Partner  Nairobi   24         Single                 No   \n",
              "4      Male  None Partner  Kajiado   23         Single                 No   \n",
              "..      ...           ...      ...  ...            ...                ...   \n",
              "740  Female  None Partner  Nairobi   18         Single                 No   \n",
              "741    Male  None Partner  Nairobi   32         Single                 No   \n",
              "742    Male  None Partner  Nairobi   24         Single                 No   \n",
              "743    Male  None Partner  Nairobi   20         Single                 No   \n",
              "744    Male  None Partner  Nairobi   26         Single                 No   \n",
              "\n",
              "    used_computer prev_student mother_alive father_alive  ...  \\\n",
              "0             Yes           No          Yes          Yes  ...   \n",
              "1             Yes           No           No          Yes  ...   \n",
              "2             Yes           No          Yes          Yes  ...   \n",
              "3             Yes           No          Yes          Yes  ...   \n",
              "4             Yes           No          Yes           No  ...   \n",
              "..            ...          ...          ...          ...  ...   \n",
              "740           Yes           No          Yes          Yes  ...   \n",
              "741           Yes           No           No           No  ...   \n",
              "742           Yes           No          Yes          Yes  ...   \n",
              "743            No          Yes          Yes          Yes  ...   \n",
              "744            No           No          Yes          Yes  ...   \n",
              "\n",
              "     neighborhood_Slum neighborhood_Village  \\\n",
              "0                    0                    1   \n",
              "1                    0                    1   \n",
              "2                    0                    1   \n",
              "3                    0                    0   \n",
              "4                    1                    0   \n",
              "..                 ...                  ...   \n",
              "740                  1                    0   \n",
              "741                  1                    0   \n",
              "742                  0                    1   \n",
              "743                  1                    0   \n",
              "744                  0                    1   \n",
              "\n",
              "    education_level_Diploma certificate education_level_High school  \\\n",
              "0                                     0                           1   \n",
              "1                                     1                           0   \n",
              "2                                     1                           0   \n",
              "3                                     0                           0   \n",
              "4                                     0                           0   \n",
              "..                                  ...                         ...   \n",
              "740                                   0                           1   \n",
              "741                                   0                           1   \n",
              "742                                   0                           1   \n",
              "743                                   0                           1   \n",
              "744                                   0                           1   \n",
              "\n",
              "    education_level_Masters Degree education_level_Primary school  \\\n",
              "0                                0                              0   \n",
              "1                                0                              0   \n",
              "2                                0                              0   \n",
              "3                                0                              0   \n",
              "4                                0                              0   \n",
              "..                             ...                            ...   \n",
              "740                              0                              0   \n",
              "741                              0                              0   \n",
              "742                              0                              0   \n",
              "743                              0                              0   \n",
              "744                              0                              0   \n",
              "\n",
              "     education_level_University final_status_Active final_status_Dropped  \\\n",
              "0                             0                   0                    1   \n",
              "1                             0                   0                    0   \n",
              "2                             0                   0                    0   \n",
              "3                             1                   0                    0   \n",
              "4                             1                   0                    0   \n",
              "..                          ...                 ...                  ...   \n",
              "740                           0                   0                    0   \n",
              "741                           0                   0                    0   \n",
              "742                           0                   0                    0   \n",
              "743                           0                   0                    0   \n",
              "744                           0                   0                    0   \n",
              "\n",
              "    final_status_Rejected  \n",
              "0                       0  \n",
              "1                       1  \n",
              "2                       1  \n",
              "3                       1  \n",
              "4                       1  \n",
              "..                    ...  \n",
              "740                     1  \n",
              "741                     1  \n",
              "742                     1  \n",
              "743                     1  \n",
              "744                     1  \n",
              "\n",
              "[1873 rows x 32 columns]"
            ]
          },
          "execution_count": 539,
          "metadata": {},
          "output_type": "execute_result"
        }
      ],
      "source": [
        "encoded_data # just the one hot encoding"
      ]
    },
    {
      "cell_type": "code",
      "execution_count": null,
      "metadata": {
        "id": "ZD8aVQefyuAq"
      },
      "outputs": [],
      "source": [
        "label_encoding = preprocessing.LabelEncoder()\n",
        "for col in columns_to_label_encode:\n",
        "    encoded_data[col] = label_encoding.fit_transform(encoded_data[col].astype(str))"
      ]
    },
    {
      "cell_type": "code",
      "execution_count": null,
      "metadata": {
        "id": "UezqvIaLyuAq",
        "outputId": "66012bf3-d5f3-46f3-8aa7-9a13af95a409"
      },
      "outputs": [
        {
          "data": {
            "text/html": [
              "<div>\n",
              "<style scoped>\n",
              "    .dataframe tbody tr th:only-of-type {\n",
              "        vertical-align: middle;\n",
              "    }\n",
              "\n",
              "    .dataframe tbody tr th {\n",
              "        vertical-align: top;\n",
              "    }\n",
              "\n",
              "    .dataframe thead th {\n",
              "        text-align: right;\n",
              "    }\n",
              "</style>\n",
              "<table border=\"1\" class=\"dataframe\">\n",
              "  <thead>\n",
              "    <tr style=\"text-align: right;\">\n",
              "      <th></th>\n",
              "      <th>Gender</th>\n",
              "      <th>source</th>\n",
              "      <th>location</th>\n",
              "      <th>Age</th>\n",
              "      <th>marital_status</th>\n",
              "      <th>joining_university</th>\n",
              "      <th>used_computer</th>\n",
              "      <th>prev_student</th>\n",
              "      <th>mother_alive</th>\n",
              "      <th>father_alive</th>\n",
              "      <th>...</th>\n",
              "      <th>neighborhood_Slum</th>\n",
              "      <th>neighborhood_Village</th>\n",
              "      <th>education_level_Diploma certificate</th>\n",
              "      <th>education_level_High school</th>\n",
              "      <th>education_level_Masters Degree</th>\n",
              "      <th>education_level_Primary school</th>\n",
              "      <th>education_level_University</th>\n",
              "      <th>final_status_Active</th>\n",
              "      <th>final_status_Dropped</th>\n",
              "      <th>final_status_Rejected</th>\n",
              "    </tr>\n",
              "  </thead>\n",
              "  <tbody>\n",
              "    <tr>\n",
              "      <th>0</th>\n",
              "      <td>0</td>\n",
              "      <td>0</td>\n",
              "      <td>Embu</td>\n",
              "      <td>22</td>\n",
              "      <td>1</td>\n",
              "      <td>0</td>\n",
              "      <td>1</td>\n",
              "      <td>0</td>\n",
              "      <td>1</td>\n",
              "      <td>1</td>\n",
              "      <td>...</td>\n",
              "      <td>0</td>\n",
              "      <td>1</td>\n",
              "      <td>0</td>\n",
              "      <td>1</td>\n",
              "      <td>0</td>\n",
              "      <td>0</td>\n",
              "      <td>0</td>\n",
              "      <td>0</td>\n",
              "      <td>1</td>\n",
              "      <td>0</td>\n",
              "    </tr>\n",
              "    <tr>\n",
              "      <th>1</th>\n",
              "      <td>0</td>\n",
              "      <td>0</td>\n",
              "      <td>Kiambu</td>\n",
              "      <td>22</td>\n",
              "      <td>1</td>\n",
              "      <td>0</td>\n",
              "      <td>1</td>\n",
              "      <td>0</td>\n",
              "      <td>0</td>\n",
              "      <td>1</td>\n",
              "      <td>...</td>\n",
              "      <td>0</td>\n",
              "      <td>1</td>\n",
              "      <td>1</td>\n",
              "      <td>0</td>\n",
              "      <td>0</td>\n",
              "      <td>0</td>\n",
              "      <td>0</td>\n",
              "      <td>0</td>\n",
              "      <td>0</td>\n",
              "      <td>1</td>\n",
              "    </tr>\n",
              "    <tr>\n",
              "      <th>2</th>\n",
              "      <td>1</td>\n",
              "      <td>1</td>\n",
              "      <td>Nairobi</td>\n",
              "      <td>21</td>\n",
              "      <td>1</td>\n",
              "      <td>0</td>\n",
              "      <td>1</td>\n",
              "      <td>0</td>\n",
              "      <td>1</td>\n",
              "      <td>1</td>\n",
              "      <td>...</td>\n",
              "      <td>0</td>\n",
              "      <td>1</td>\n",
              "      <td>1</td>\n",
              "      <td>0</td>\n",
              "      <td>0</td>\n",
              "      <td>0</td>\n",
              "      <td>0</td>\n",
              "      <td>0</td>\n",
              "      <td>0</td>\n",
              "      <td>1</td>\n",
              "    </tr>\n",
              "    <tr>\n",
              "      <th>3</th>\n",
              "      <td>0</td>\n",
              "      <td>0</td>\n",
              "      <td>Nairobi</td>\n",
              "      <td>24</td>\n",
              "      <td>1</td>\n",
              "      <td>0</td>\n",
              "      <td>1</td>\n",
              "      <td>0</td>\n",
              "      <td>1</td>\n",
              "      <td>1</td>\n",
              "      <td>...</td>\n",
              "      <td>0</td>\n",
              "      <td>0</td>\n",
              "      <td>0</td>\n",
              "      <td>0</td>\n",
              "      <td>0</td>\n",
              "      <td>0</td>\n",
              "      <td>1</td>\n",
              "      <td>0</td>\n",
              "      <td>0</td>\n",
              "      <td>1</td>\n",
              "    </tr>\n",
              "    <tr>\n",
              "      <th>4</th>\n",
              "      <td>1</td>\n",
              "      <td>0</td>\n",
              "      <td>Kajiado</td>\n",
              "      <td>23</td>\n",
              "      <td>1</td>\n",
              "      <td>0</td>\n",
              "      <td>1</td>\n",
              "      <td>0</td>\n",
              "      <td>1</td>\n",
              "      <td>0</td>\n",
              "      <td>...</td>\n",
              "      <td>1</td>\n",
              "      <td>0</td>\n",
              "      <td>0</td>\n",
              "      <td>0</td>\n",
              "      <td>0</td>\n",
              "      <td>0</td>\n",
              "      <td>1</td>\n",
              "      <td>0</td>\n",
              "      <td>0</td>\n",
              "      <td>1</td>\n",
              "    </tr>\n",
              "    <tr>\n",
              "      <th>...</th>\n",
              "      <td>...</td>\n",
              "      <td>...</td>\n",
              "      <td>...</td>\n",
              "      <td>...</td>\n",
              "      <td>...</td>\n",
              "      <td>...</td>\n",
              "      <td>...</td>\n",
              "      <td>...</td>\n",
              "      <td>...</td>\n",
              "      <td>...</td>\n",
              "      <td>...</td>\n",
              "      <td>...</td>\n",
              "      <td>...</td>\n",
              "      <td>...</td>\n",
              "      <td>...</td>\n",
              "      <td>...</td>\n",
              "      <td>...</td>\n",
              "      <td>...</td>\n",
              "      <td>...</td>\n",
              "      <td>...</td>\n",
              "      <td>...</td>\n",
              "    </tr>\n",
              "    <tr>\n",
              "      <th>740</th>\n",
              "      <td>0</td>\n",
              "      <td>0</td>\n",
              "      <td>Nairobi</td>\n",
              "      <td>18</td>\n",
              "      <td>1</td>\n",
              "      <td>0</td>\n",
              "      <td>1</td>\n",
              "      <td>0</td>\n",
              "      <td>1</td>\n",
              "      <td>1</td>\n",
              "      <td>...</td>\n",
              "      <td>1</td>\n",
              "      <td>0</td>\n",
              "      <td>0</td>\n",
              "      <td>1</td>\n",
              "      <td>0</td>\n",
              "      <td>0</td>\n",
              "      <td>0</td>\n",
              "      <td>0</td>\n",
              "      <td>0</td>\n",
              "      <td>1</td>\n",
              "    </tr>\n",
              "    <tr>\n",
              "      <th>741</th>\n",
              "      <td>1</td>\n",
              "      <td>0</td>\n",
              "      <td>Nairobi</td>\n",
              "      <td>32</td>\n",
              "      <td>1</td>\n",
              "      <td>0</td>\n",
              "      <td>1</td>\n",
              "      <td>0</td>\n",
              "      <td>0</td>\n",
              "      <td>0</td>\n",
              "      <td>...</td>\n",
              "      <td>1</td>\n",
              "      <td>0</td>\n",
              "      <td>0</td>\n",
              "      <td>1</td>\n",
              "      <td>0</td>\n",
              "      <td>0</td>\n",
              "      <td>0</td>\n",
              "      <td>0</td>\n",
              "      <td>0</td>\n",
              "      <td>1</td>\n",
              "    </tr>\n",
              "    <tr>\n",
              "      <th>742</th>\n",
              "      <td>1</td>\n",
              "      <td>0</td>\n",
              "      <td>Nairobi</td>\n",
              "      <td>24</td>\n",
              "      <td>1</td>\n",
              "      <td>0</td>\n",
              "      <td>1</td>\n",
              "      <td>0</td>\n",
              "      <td>1</td>\n",
              "      <td>1</td>\n",
              "      <td>...</td>\n",
              "      <td>0</td>\n",
              "      <td>1</td>\n",
              "      <td>0</td>\n",
              "      <td>1</td>\n",
              "      <td>0</td>\n",
              "      <td>0</td>\n",
              "      <td>0</td>\n",
              "      <td>0</td>\n",
              "      <td>0</td>\n",
              "      <td>1</td>\n",
              "    </tr>\n",
              "    <tr>\n",
              "      <th>743</th>\n",
              "      <td>1</td>\n",
              "      <td>0</td>\n",
              "      <td>Nairobi</td>\n",
              "      <td>20</td>\n",
              "      <td>1</td>\n",
              "      <td>0</td>\n",
              "      <td>0</td>\n",
              "      <td>1</td>\n",
              "      <td>1</td>\n",
              "      <td>1</td>\n",
              "      <td>...</td>\n",
              "      <td>1</td>\n",
              "      <td>0</td>\n",
              "      <td>0</td>\n",
              "      <td>1</td>\n",
              "      <td>0</td>\n",
              "      <td>0</td>\n",
              "      <td>0</td>\n",
              "      <td>0</td>\n",
              "      <td>0</td>\n",
              "      <td>1</td>\n",
              "    </tr>\n",
              "    <tr>\n",
              "      <th>744</th>\n",
              "      <td>1</td>\n",
              "      <td>0</td>\n",
              "      <td>Nairobi</td>\n",
              "      <td>26</td>\n",
              "      <td>1</td>\n",
              "      <td>0</td>\n",
              "      <td>0</td>\n",
              "      <td>0</td>\n",
              "      <td>1</td>\n",
              "      <td>1</td>\n",
              "      <td>...</td>\n",
              "      <td>0</td>\n",
              "      <td>1</td>\n",
              "      <td>0</td>\n",
              "      <td>1</td>\n",
              "      <td>0</td>\n",
              "      <td>0</td>\n",
              "      <td>0</td>\n",
              "      <td>0</td>\n",
              "      <td>0</td>\n",
              "      <td>1</td>\n",
              "    </tr>\n",
              "  </tbody>\n",
              "</table>\n",
              "<p>1873 rows × 32 columns</p>\n",
              "</div>"
            ],
            "text/plain": [
              "     Gender  source location  Age  marital_status  joining_university  \\\n",
              "0         0       0     Embu   22               1                   0   \n",
              "1         0       0   Kiambu   22               1                   0   \n",
              "2         1       1  Nairobi   21               1                   0   \n",
              "3         0       0  Nairobi   24               1                   0   \n",
              "4         1       0  Kajiado   23               1                   0   \n",
              "..      ...     ...      ...  ...             ...                 ...   \n",
              "740       0       0  Nairobi   18               1                   0   \n",
              "741       1       0  Nairobi   32               1                   0   \n",
              "742       1       0  Nairobi   24               1                   0   \n",
              "743       1       0  Nairobi   20               1                   0   \n",
              "744       1       0  Nairobi   26               1                   0   \n",
              "\n",
              "     used_computer  prev_student  mother_alive  father_alive  ...  \\\n",
              "0                1             0             1             1  ...   \n",
              "1                1             0             0             1  ...   \n",
              "2                1             0             1             1  ...   \n",
              "3                1             0             1             1  ...   \n",
              "4                1             0             1             0  ...   \n",
              "..             ...           ...           ...           ...  ...   \n",
              "740              1             0             1             1  ...   \n",
              "741              1             0             0             0  ...   \n",
              "742              1             0             1             1  ...   \n",
              "743              0             1             1             1  ...   \n",
              "744              0             0             1             1  ...   \n",
              "\n",
              "     neighborhood_Slum  neighborhood_Village  \\\n",
              "0                    0                     1   \n",
              "1                    0                     1   \n",
              "2                    0                     1   \n",
              "3                    0                     0   \n",
              "4                    1                     0   \n",
              "..                 ...                   ...   \n",
              "740                  1                     0   \n",
              "741                  1                     0   \n",
              "742                  0                     1   \n",
              "743                  1                     0   \n",
              "744                  0                     1   \n",
              "\n",
              "     education_level_Diploma certificate  education_level_High school  \\\n",
              "0                                      0                            1   \n",
              "1                                      1                            0   \n",
              "2                                      1                            0   \n",
              "3                                      0                            0   \n",
              "4                                      0                            0   \n",
              "..                                   ...                          ...   \n",
              "740                                    0                            1   \n",
              "741                                    0                            1   \n",
              "742                                    0                            1   \n",
              "743                                    0                            1   \n",
              "744                                    0                            1   \n",
              "\n",
              "     education_level_Masters Degree  education_level_Primary school  \\\n",
              "0                                 0                               0   \n",
              "1                                 0                               0   \n",
              "2                                 0                               0   \n",
              "3                                 0                               0   \n",
              "4                                 0                               0   \n",
              "..                              ...                             ...   \n",
              "740                               0                               0   \n",
              "741                               0                               0   \n",
              "742                               0                               0   \n",
              "743                               0                               0   \n",
              "744                               0                               0   \n",
              "\n",
              "     education_level_University  final_status_Active  final_status_Dropped  \\\n",
              "0                             0                    0                     1   \n",
              "1                             0                    0                     0   \n",
              "2                             0                    0                     0   \n",
              "3                             1                    0                     0   \n",
              "4                             1                    0                     0   \n",
              "..                          ...                  ...                   ...   \n",
              "740                           0                    0                     0   \n",
              "741                           0                    0                     0   \n",
              "742                           0                    0                     0   \n",
              "743                           0                    0                     0   \n",
              "744                           0                    0                     0   \n",
              "\n",
              "     final_status_Rejected  \n",
              "0                        0  \n",
              "1                        1  \n",
              "2                        1  \n",
              "3                        1  \n",
              "4                        1  \n",
              "..                     ...  \n",
              "740                      1  \n",
              "741                      1  \n",
              "742                      1  \n",
              "743                      1  \n",
              "744                      1  \n",
              "\n",
              "[1873 rows x 32 columns]"
            ]
          },
          "execution_count": 541,
          "metadata": {},
          "output_type": "execute_result"
        }
      ],
      "source": [
        "encoded_data #both one hot encoding and label encoding"
      ]
    },
    {
      "cell_type": "code",
      "execution_count": null,
      "metadata": {
        "id": "aXymiwzHyuAq",
        "outputId": "6b25d44f-36f6-4994-ac90-8cc6aa303151"
      },
      "outputs": [
        {
          "data": {
            "text/plain": [
              "32"
            ]
          },
          "execution_count": 542,
          "metadata": {},
          "output_type": "execute_result"
        }
      ],
      "source": [
        "len(encoded_data.columns.tolist())"
      ]
    },
    {
      "cell_type": "markdown",
      "metadata": {
        "id": "vnN-LX1FyuAq"
      },
      "source": [
        "##  Correlation Analysis and Feature Selection"
      ]
    },
    {
      "cell_type": "code",
      "execution_count": null,
      "metadata": {
        "id": "WJqJrN9DyuAq",
        "outputId": "7f3d988e-b32f-4511-e8ba-088c3e711f72"
      },
      "outputs": [
        {
          "data": {
            "text/html": [
              "<div>\n",
              "<style scoped>\n",
              "    .dataframe tbody tr th:only-of-type {\n",
              "        vertical-align: middle;\n",
              "    }\n",
              "\n",
              "    .dataframe tbody tr th {\n",
              "        vertical-align: top;\n",
              "    }\n",
              "\n",
              "    .dataframe thead th {\n",
              "        text-align: right;\n",
              "    }\n",
              "</style>\n",
              "<table border=\"1\" class=\"dataframe\">\n",
              "  <thead>\n",
              "    <tr style=\"text-align: right;\">\n",
              "      <th></th>\n",
              "      <th>Gender</th>\n",
              "      <th>source</th>\n",
              "      <th>Age</th>\n",
              "      <th>marital_status</th>\n",
              "      <th>joining_university</th>\n",
              "      <th>used_computer</th>\n",
              "      <th>prev_student</th>\n",
              "      <th>mother_alive</th>\n",
              "      <th>father_alive</th>\n",
              "      <th>no_of_siblings</th>\n",
              "      <th>...</th>\n",
              "      <th>neighborhood_Slum</th>\n",
              "      <th>neighborhood_Village</th>\n",
              "      <th>education_level_Diploma certificate</th>\n",
              "      <th>education_level_High school</th>\n",
              "      <th>education_level_Masters Degree</th>\n",
              "      <th>education_level_Primary school</th>\n",
              "      <th>education_level_University</th>\n",
              "      <th>final_status_Active</th>\n",
              "      <th>final_status_Dropped</th>\n",
              "      <th>final_status_Rejected</th>\n",
              "    </tr>\n",
              "  </thead>\n",
              "  <tbody>\n",
              "    <tr>\n",
              "      <th>Gender</th>\n",
              "      <td>1.000000</td>\n",
              "      <td>-0.014715</td>\n",
              "      <td>0.100343</td>\n",
              "      <td>-0.012717</td>\n",
              "      <td>-0.036976</td>\n",
              "      <td>0.031528</td>\n",
              "      <td>-0.004816</td>\n",
              "      <td>-0.050662</td>\n",
              "      <td>-0.000562</td>\n",
              "      <td>0.078034</td>\n",
              "      <td>...</td>\n",
              "      <td>0.044849</td>\n",
              "      <td>-0.065211</td>\n",
              "      <td>-0.030966</td>\n",
              "      <td>0.066125</td>\n",
              "      <td>-0.033957</td>\n",
              "      <td>0.009378</td>\n",
              "      <td>-0.048141</td>\n",
              "      <td>-0.044978</td>\n",
              "      <td>-0.020853</td>\n",
              "      <td>0.049893</td>\n",
              "    </tr>\n",
              "    <tr>\n",
              "      <th>source</th>\n",
              "      <td>-0.014715</td>\n",
              "      <td>1.000000</td>\n",
              "      <td>-0.110164</td>\n",
              "      <td>0.029309</td>\n",
              "      <td>0.050801</td>\n",
              "      <td>-0.032057</td>\n",
              "      <td>-0.025886</td>\n",
              "      <td>-0.011439</td>\n",
              "      <td>-0.034134</td>\n",
              "      <td>-0.017324</td>\n",
              "      <td>...</td>\n",
              "      <td>0.217863</td>\n",
              "      <td>-0.115003</td>\n",
              "      <td>0.027784</td>\n",
              "      <td>0.116753</td>\n",
              "      <td>-0.008712</td>\n",
              "      <td>0.000119</td>\n",
              "      <td>-0.145083</td>\n",
              "      <td>-0.077705</td>\n",
              "      <td>-0.001550</td>\n",
              "      <td>0.075659</td>\n",
              "    </tr>\n",
              "    <tr>\n",
              "      <th>Age</th>\n",
              "      <td>0.100343</td>\n",
              "      <td>-0.110164</td>\n",
              "      <td>1.000000</td>\n",
              "      <td>-0.382055</td>\n",
              "      <td>-0.137398</td>\n",
              "      <td>0.086644</td>\n",
              "      <td>0.041702</td>\n",
              "      <td>-0.074426</td>\n",
              "      <td>-0.060571</td>\n",
              "      <td>0.119672</td>\n",
              "      <td>...</td>\n",
              "      <td>-0.067690</td>\n",
              "      <td>-0.031293</td>\n",
              "      <td>0.114603</td>\n",
              "      <td>-0.379980</td>\n",
              "      <td>-0.023839</td>\n",
              "      <td>0.009635</td>\n",
              "      <td>0.324581</td>\n",
              "      <td>0.033905</td>\n",
              "      <td>-0.016153</td>\n",
              "      <td>-0.027868</td>\n",
              "    </tr>\n",
              "    <tr>\n",
              "      <th>marital_status</th>\n",
              "      <td>-0.012717</td>\n",
              "      <td>0.029309</td>\n",
              "      <td>-0.382055</td>\n",
              "      <td>1.000000</td>\n",
              "      <td>0.011867</td>\n",
              "      <td>-0.005059</td>\n",
              "      <td>-0.002325</td>\n",
              "      <td>0.042276</td>\n",
              "      <td>0.004041</td>\n",
              "      <td>-0.053944</td>\n",
              "      <td>...</td>\n",
              "      <td>0.032542</td>\n",
              "      <td>0.038793</td>\n",
              "      <td>-0.070469</td>\n",
              "      <td>0.110378</td>\n",
              "      <td>0.005661</td>\n",
              "      <td>-0.019390</td>\n",
              "      <td>-0.064905</td>\n",
              "      <td>0.003702</td>\n",
              "      <td>0.008353</td>\n",
              "      <td>-0.006135</td>\n",
              "    </tr>\n",
              "    <tr>\n",
              "      <th>joining_university</th>\n",
              "      <td>-0.036976</td>\n",
              "      <td>0.050801</td>\n",
              "      <td>-0.137398</td>\n",
              "      <td>0.011867</td>\n",
              "      <td>1.000000</td>\n",
              "      <td>-0.103397</td>\n",
              "      <td>-0.004372</td>\n",
              "      <td>0.005343</td>\n",
              "      <td>0.043298</td>\n",
              "      <td>-0.003966</td>\n",
              "      <td>...</td>\n",
              "      <td>0.002721</td>\n",
              "      <td>-0.023168</td>\n",
              "      <td>0.026752</td>\n",
              "      <td>0.065784</td>\n",
              "      <td>-0.006286</td>\n",
              "      <td>0.046844</td>\n",
              "      <td>-0.096320</td>\n",
              "      <td>-0.093904</td>\n",
              "      <td>-0.031633</td>\n",
              "      <td>0.100528</td>\n",
              "    </tr>\n",
              "    <tr>\n",
              "      <th>used_computer</th>\n",
              "      <td>0.031528</td>\n",
              "      <td>-0.032057</td>\n",
              "      <td>0.086644</td>\n",
              "      <td>-0.005059</td>\n",
              "      <td>-0.103397</td>\n",
              "      <td>1.000000</td>\n",
              "      <td>-0.007700</td>\n",
              "      <td>0.003361</td>\n",
              "      <td>-0.001730</td>\n",
              "      <td>-0.041949</td>\n",
              "      <td>...</td>\n",
              "      <td>-0.055676</td>\n",
              "      <td>0.009913</td>\n",
              "      <td>0.046903</td>\n",
              "      <td>-0.097472</td>\n",
              "      <td>0.003458</td>\n",
              "      <td>0.009798</td>\n",
              "      <td>0.069048</td>\n",
              "      <td>0.064422</td>\n",
              "      <td>0.017400</td>\n",
              "      <td>-0.067652</td>\n",
              "    </tr>\n",
              "    <tr>\n",
              "      <th>prev_student</th>\n",
              "      <td>-0.004816</td>\n",
              "      <td>-0.025886</td>\n",
              "      <td>0.041702</td>\n",
              "      <td>-0.002325</td>\n",
              "      <td>-0.004372</td>\n",
              "      <td>-0.007700</td>\n",
              "      <td>1.000000</td>\n",
              "      <td>-0.028160</td>\n",
              "      <td>-0.003110</td>\n",
              "      <td>-0.015105</td>\n",
              "      <td>...</td>\n",
              "      <td>-0.018036</td>\n",
              "      <td>0.007099</td>\n",
              "      <td>-0.003398</td>\n",
              "      <td>-0.010518</td>\n",
              "      <td>-0.003095</td>\n",
              "      <td>0.053457</td>\n",
              "      <td>0.006383</td>\n",
              "      <td>-0.046499</td>\n",
              "      <td>0.161239</td>\n",
              "      <td>-0.004294</td>\n",
              "    </tr>\n",
              "    <tr>\n",
              "      <th>mother_alive</th>\n",
              "      <td>-0.050662</td>\n",
              "      <td>-0.011439</td>\n",
              "      <td>-0.074426</td>\n",
              "      <td>0.042276</td>\n",
              "      <td>0.005343</td>\n",
              "      <td>0.003361</td>\n",
              "      <td>-0.028160</td>\n",
              "      <td>1.000000</td>\n",
              "      <td>0.195887</td>\n",
              "      <td>0.036807</td>\n",
              "      <td>...</td>\n",
              "      <td>-0.027236</td>\n",
              "      <td>-0.001257</td>\n",
              "      <td>-0.010499</td>\n",
              "      <td>-0.026448</td>\n",
              "      <td>0.008323</td>\n",
              "      <td>-0.002098</td>\n",
              "      <td>0.035892</td>\n",
              "      <td>-0.052409</td>\n",
              "      <td>-0.045686</td>\n",
              "      <td>0.064674</td>\n",
              "    </tr>\n",
              "    <tr>\n",
              "      <th>father_alive</th>\n",
              "      <td>-0.000562</td>\n",
              "      <td>-0.034134</td>\n",
              "      <td>-0.060571</td>\n",
              "      <td>0.004041</td>\n",
              "      <td>0.043298</td>\n",
              "      <td>-0.001730</td>\n",
              "      <td>-0.003110</td>\n",
              "      <td>0.195887</td>\n",
              "      <td>1.000000</td>\n",
              "      <td>0.106177</td>\n",
              "      <td>...</td>\n",
              "      <td>-0.084227</td>\n",
              "      <td>0.024658</td>\n",
              "      <td>-0.002169</td>\n",
              "      <td>-0.019001</td>\n",
              "      <td>0.015945</td>\n",
              "      <td>-0.007359</td>\n",
              "      <td>0.022213</td>\n",
              "      <td>-0.033060</td>\n",
              "      <td>-0.049150</td>\n",
              "      <td>0.047011</td>\n",
              "    </tr>\n",
              "    <tr>\n",
              "      <th>no_of_siblings</th>\n",
              "      <td>0.078034</td>\n",
              "      <td>-0.017324</td>\n",
              "      <td>0.119672</td>\n",
              "      <td>-0.053944</td>\n",
              "      <td>-0.003966</td>\n",
              "      <td>-0.041949</td>\n",
              "      <td>-0.015105</td>\n",
              "      <td>0.036807</td>\n",
              "      <td>0.106177</td>\n",
              "      <td>1.000000</td>\n",
              "      <td>...</td>\n",
              "      <td>0.015087</td>\n",
              "      <td>-0.014168</td>\n",
              "      <td>-0.045234</td>\n",
              "      <td>-0.045034</td>\n",
              "      <td>-0.027085</td>\n",
              "      <td>0.029221</td>\n",
              "      <td>0.078408</td>\n",
              "      <td>-0.037907</td>\n",
              "      <td>-0.013849</td>\n",
              "      <td>0.040911</td>\n",
              "    </tr>\n",
              "    <tr>\n",
              "      <th>has_guardian</th>\n",
              "      <td>-0.072611</td>\n",
              "      <td>0.021782</td>\n",
              "      <td>-0.186598</td>\n",
              "      <td>0.076543</td>\n",
              "      <td>0.051608</td>\n",
              "      <td>-0.053054</td>\n",
              "      <td>0.018247</td>\n",
              "      <td>-0.153108</td>\n",
              "      <td>-0.153660</td>\n",
              "      <td>-0.070199</td>\n",
              "      <td>...</td>\n",
              "      <td>-0.003554</td>\n",
              "      <td>-0.003487</td>\n",
              "      <td>0.047864</td>\n",
              "      <td>0.086188</td>\n",
              "      <td>0.029018</td>\n",
              "      <td>0.015032</td>\n",
              "      <td>-0.130826</td>\n",
              "      <td>-0.023304</td>\n",
              "      <td>0.021922</td>\n",
              "      <td>0.015848</td>\n",
              "    </tr>\n",
              "    <tr>\n",
              "      <th>work_experience</th>\n",
              "      <td>-0.081066</td>\n",
              "      <td>-0.008118</td>\n",
              "      <td>0.206091</td>\n",
              "      <td>-0.078106</td>\n",
              "      <td>-0.061073</td>\n",
              "      <td>0.081383</td>\n",
              "      <td>0.047281</td>\n",
              "      <td>-0.015103</td>\n",
              "      <td>-0.030038</td>\n",
              "      <td>-0.083216</td>\n",
              "      <td>...</td>\n",
              "      <td>-0.062416</td>\n",
              "      <td>-0.013079</td>\n",
              "      <td>0.083630</td>\n",
              "      <td>-0.217172</td>\n",
              "      <td>-0.031480</td>\n",
              "      <td>-0.003399</td>\n",
              "      <td>0.174497</td>\n",
              "      <td>0.078934</td>\n",
              "      <td>0.046383</td>\n",
              "      <td>-0.090552</td>\n",
              "    </tr>\n",
              "    <tr>\n",
              "      <th>tech_experience</th>\n",
              "      <td>0.066697</td>\n",
              "      <td>-0.008039</td>\n",
              "      <td>0.049565</td>\n",
              "      <td>0.011866</td>\n",
              "      <td>-0.074841</td>\n",
              "      <td>0.148196</td>\n",
              "      <td>0.059161</td>\n",
              "      <td>0.002717</td>\n",
              "      <td>-0.032946</td>\n",
              "      <td>-0.004957</td>\n",
              "      <td>...</td>\n",
              "      <td>-0.067371</td>\n",
              "      <td>-0.001527</td>\n",
              "      <td>0.096426</td>\n",
              "      <td>-0.113398</td>\n",
              "      <td>0.013434</td>\n",
              "      <td>-0.037304</td>\n",
              "      <td>0.056342</td>\n",
              "      <td>0.050719</td>\n",
              "      <td>-0.018061</td>\n",
              "      <td>-0.043554</td>\n",
              "    </tr>\n",
              "    <tr>\n",
              "      <th>have_source_of_income</th>\n",
              "      <td>0.059806</td>\n",
              "      <td>-0.025515</td>\n",
              "      <td>0.217148</td>\n",
              "      <td>-0.122356</td>\n",
              "      <td>-0.034536</td>\n",
              "      <td>0.035174</td>\n",
              "      <td>0.023337</td>\n",
              "      <td>-0.045029</td>\n",
              "      <td>-0.050412</td>\n",
              "      <td>0.063793</td>\n",
              "      <td>...</td>\n",
              "      <td>-0.033864</td>\n",
              "      <td>-0.050630</td>\n",
              "      <td>-0.026930</td>\n",
              "      <td>-0.092802</td>\n",
              "      <td>0.025111</td>\n",
              "      <td>-0.043851</td>\n",
              "      <td>0.124092</td>\n",
              "      <td>0.063780</td>\n",
              "      <td>0.023664</td>\n",
              "      <td>-0.068945</td>\n",
              "    </tr>\n",
              "    <tr>\n",
              "      <th>own_dependants</th>\n",
              "      <td>-0.003008</td>\n",
              "      <td>0.006568</td>\n",
              "      <td>0.293549</td>\n",
              "      <td>-0.229978</td>\n",
              "      <td>-0.047363</td>\n",
              "      <td>0.009193</td>\n",
              "      <td>0.009581</td>\n",
              "      <td>-0.036494</td>\n",
              "      <td>-0.077541</td>\n",
              "      <td>0.077354</td>\n",
              "      <td>...</td>\n",
              "      <td>0.018122</td>\n",
              "      <td>0.018810</td>\n",
              "      <td>-0.006816</td>\n",
              "      <td>-0.109998</td>\n",
              "      <td>0.037886</td>\n",
              "      <td>0.015288</td>\n",
              "      <td>0.118989</td>\n",
              "      <td>-0.001548</td>\n",
              "      <td>0.002296</td>\n",
              "      <td>0.000796</td>\n",
              "    </tr>\n",
              "    <tr>\n",
              "      <th>guardian_dependants</th>\n",
              "      <td>-0.064297</td>\n",
              "      <td>0.008793</td>\n",
              "      <td>-0.110627</td>\n",
              "      <td>0.077657</td>\n",
              "      <td>0.009831</td>\n",
              "      <td>0.028709</td>\n",
              "      <td>-0.003309</td>\n",
              "      <td>0.059039</td>\n",
              "      <td>0.159512</td>\n",
              "      <td>0.242103</td>\n",
              "      <td>...</td>\n",
              "      <td>-0.012672</td>\n",
              "      <td>0.035426</td>\n",
              "      <td>-0.058690</td>\n",
              "      <td>0.060351</td>\n",
              "      <td>0.004031</td>\n",
              "      <td>0.003738</td>\n",
              "      <td>-0.022924</td>\n",
              "      <td>0.032335</td>\n",
              "      <td>0.026835</td>\n",
              "      <td>-0.039489</td>\n",
              "    </tr>\n",
              "    <tr>\n",
              "      <th>rent_house</th>\n",
              "      <td>-0.036403</td>\n",
              "      <td>-0.089932</td>\n",
              "      <td>-0.033952</td>\n",
              "      <td>0.063079</td>\n",
              "      <td>-0.021341</td>\n",
              "      <td>0.004812</td>\n",
              "      <td>-0.001305</td>\n",
              "      <td>0.043984</td>\n",
              "      <td>0.076104</td>\n",
              "      <td>0.027758</td>\n",
              "      <td>...</td>\n",
              "      <td>-0.283429</td>\n",
              "      <td>0.280254</td>\n",
              "      <td>0.007818</td>\n",
              "      <td>-0.105242</td>\n",
              "      <td>-0.015402</td>\n",
              "      <td>0.009576</td>\n",
              "      <td>0.106726</td>\n",
              "      <td>-0.003522</td>\n",
              "      <td>-0.017020</td>\n",
              "      <td>0.008610</td>\n",
              "    </tr>\n",
              "    <tr>\n",
              "      <th>got_scholarship</th>\n",
              "      <td>-0.016083</td>\n",
              "      <td>-0.124278</td>\n",
              "      <td>0.172521</td>\n",
              "      <td>-0.037250</td>\n",
              "      <td>-0.065201</td>\n",
              "      <td>0.096691</td>\n",
              "      <td>0.026574</td>\n",
              "      <td>-0.001885</td>\n",
              "      <td>-0.003654</td>\n",
              "      <td>0.030014</td>\n",
              "      <td>...</td>\n",
              "      <td>-0.131091</td>\n",
              "      <td>0.103934</td>\n",
              "      <td>-0.004303</td>\n",
              "      <td>-0.341412</td>\n",
              "      <td>0.029018</td>\n",
              "      <td>-0.018566</td>\n",
              "      <td>0.370805</td>\n",
              "      <td>0.100347</td>\n",
              "      <td>-0.006718</td>\n",
              "      <td>-0.095040</td>\n",
              "    </tr>\n",
              "    <tr>\n",
              "      <th>admissions_decision</th>\n",
              "      <td>0.052997</td>\n",
              "      <td>0.082981</td>\n",
              "      <td>-0.034634</td>\n",
              "      <td>-0.011287</td>\n",
              "      <td>0.094107</td>\n",
              "      <td>-0.067267</td>\n",
              "      <td>0.038517</td>\n",
              "      <td>0.048548</td>\n",
              "      <td>0.031820</td>\n",
              "      <td>0.039127</td>\n",
              "      <td>...</td>\n",
              "      <td>0.027050</td>\n",
              "      <td>-0.048223</td>\n",
              "      <td>0.016430</td>\n",
              "      <td>-0.009850</td>\n",
              "      <td>0.010392</td>\n",
              "      <td>0.029449</td>\n",
              "      <td>-0.006016</td>\n",
              "      <td>-0.949850</td>\n",
              "      <td>-0.171599</td>\n",
              "      <td>0.971501</td>\n",
              "    </tr>\n",
              "    <tr>\n",
              "      <th>neighborhood_Court</th>\n",
              "      <td>0.000067</td>\n",
              "      <td>-0.038854</td>\n",
              "      <td>-0.030279</td>\n",
              "      <td>0.016909</td>\n",
              "      <td>0.005863</td>\n",
              "      <td>0.013239</td>\n",
              "      <td>0.012278</td>\n",
              "      <td>0.033901</td>\n",
              "      <td>0.031117</td>\n",
              "      <td>-0.025858</td>\n",
              "      <td>...</td>\n",
              "      <td>-0.149395</td>\n",
              "      <td>-0.170730</td>\n",
              "      <td>0.084987</td>\n",
              "      <td>-0.030895</td>\n",
              "      <td>-0.004850</td>\n",
              "      <td>-0.013744</td>\n",
              "      <td>-0.026333</td>\n",
              "      <td>0.048566</td>\n",
              "      <td>-0.024407</td>\n",
              "      <td>-0.039531</td>\n",
              "    </tr>\n",
              "    <tr>\n",
              "      <th>neighborhood_Estate</th>\n",
              "      <td>0.025749</td>\n",
              "      <td>-0.093242</td>\n",
              "      <td>0.128217</td>\n",
              "      <td>-0.090699</td>\n",
              "      <td>0.021322</td>\n",
              "      <td>0.045131</td>\n",
              "      <td>0.006192</td>\n",
              "      <td>0.016017</td>\n",
              "      <td>0.051561</td>\n",
              "      <td>0.012021</td>\n",
              "      <td>...</td>\n",
              "      <td>-0.381585</td>\n",
              "      <td>-0.436078</td>\n",
              "      <td>-0.008512</td>\n",
              "      <td>-0.140988</td>\n",
              "      <td>-0.012388</td>\n",
              "      <td>0.004220</td>\n",
              "      <td>0.157555</td>\n",
              "      <td>-0.047262</td>\n",
              "      <td>-0.017646</td>\n",
              "      <td>0.051123</td>\n",
              "    </tr>\n",
              "    <tr>\n",
              "      <th>neighborhood_Slum</th>\n",
              "      <td>0.044849</td>\n",
              "      <td>0.217863</td>\n",
              "      <td>-0.067690</td>\n",
              "      <td>0.032542</td>\n",
              "      <td>0.002721</td>\n",
              "      <td>-0.055676</td>\n",
              "      <td>-0.018036</td>\n",
              "      <td>-0.027236</td>\n",
              "      <td>-0.084227</td>\n",
              "      <td>0.015087</td>\n",
              "      <td>...</td>\n",
              "      <td>1.000000</td>\n",
              "      <td>-0.579218</td>\n",
              "      <td>0.010980</td>\n",
              "      <td>0.199746</td>\n",
              "      <td>-0.016454</td>\n",
              "      <td>0.022685</td>\n",
              "      <td>-0.224776</td>\n",
              "      <td>-0.020385</td>\n",
              "      <td>0.005820</td>\n",
              "      <td>0.017945</td>\n",
              "    </tr>\n",
              "    <tr>\n",
              "      <th>neighborhood_Village</th>\n",
              "      <td>-0.065211</td>\n",
              "      <td>-0.115003</td>\n",
              "      <td>-0.031293</td>\n",
              "      <td>0.038793</td>\n",
              "      <td>-0.023168</td>\n",
              "      <td>0.009913</td>\n",
              "      <td>0.007099</td>\n",
              "      <td>-0.001257</td>\n",
              "      <td>0.024658</td>\n",
              "      <td>-0.014168</td>\n",
              "      <td>...</td>\n",
              "      <td>-0.579218</td>\n",
              "      <td>1.000000</td>\n",
              "      <td>-0.038250</td>\n",
              "      <td>-0.060178</td>\n",
              "      <td>0.028408</td>\n",
              "      <td>-0.019839</td>\n",
              "      <td>0.093738</td>\n",
              "      <td>0.039931</td>\n",
              "      <td>0.019413</td>\n",
              "      <td>-0.044570</td>\n",
              "    </tr>\n",
              "    <tr>\n",
              "      <th>education_level_Diploma certificate</th>\n",
              "      <td>-0.030966</td>\n",
              "      <td>0.027784</td>\n",
              "      <td>0.114603</td>\n",
              "      <td>-0.070469</td>\n",
              "      <td>0.026752</td>\n",
              "      <td>0.046903</td>\n",
              "      <td>-0.003398</td>\n",
              "      <td>-0.010499</td>\n",
              "      <td>-0.002169</td>\n",
              "      <td>-0.045234</td>\n",
              "      <td>...</td>\n",
              "      <td>0.010980</td>\n",
              "      <td>-0.038250</td>\n",
              "      <td>1.000000</td>\n",
              "      <td>-0.430492</td>\n",
              "      <td>-0.008924</td>\n",
              "      <td>-0.025288</td>\n",
              "      <td>-0.259567</td>\n",
              "      <td>-0.004432</td>\n",
              "      <td>-0.031063</td>\n",
              "      <td>0.013783</td>\n",
              "    </tr>\n",
              "    <tr>\n",
              "      <th>education_level_High school</th>\n",
              "      <td>0.066125</td>\n",
              "      <td>0.116753</td>\n",
              "      <td>-0.379980</td>\n",
              "      <td>0.110378</td>\n",
              "      <td>0.065784</td>\n",
              "      <td>-0.097472</td>\n",
              "      <td>-0.010518</td>\n",
              "      <td>-0.026448</td>\n",
              "      <td>-0.019001</td>\n",
              "      <td>-0.045034</td>\n",
              "      <td>...</td>\n",
              "      <td>0.199746</td>\n",
              "      <td>-0.060178</td>\n",
              "      <td>-0.430492</td>\n",
              "      <td>1.000000</td>\n",
              "      <td>-0.025769</td>\n",
              "      <td>-0.073023</td>\n",
              "      <td>-0.749540</td>\n",
              "      <td>-0.001118</td>\n",
              "      <td>0.038799</td>\n",
              "      <td>-0.010778</td>\n",
              "    </tr>\n",
              "    <tr>\n",
              "      <th>education_level_Masters Degree</th>\n",
              "      <td>-0.033957</td>\n",
              "      <td>-0.008712</td>\n",
              "      <td>-0.023839</td>\n",
              "      <td>0.005661</td>\n",
              "      <td>-0.006286</td>\n",
              "      <td>0.003458</td>\n",
              "      <td>-0.003095</td>\n",
              "      <td>0.008323</td>\n",
              "      <td>0.015945</td>\n",
              "      <td>-0.027085</td>\n",
              "      <td>...</td>\n",
              "      <td>-0.016454</td>\n",
              "      <td>0.028408</td>\n",
              "      <td>-0.008924</td>\n",
              "      <td>-0.025769</td>\n",
              "      <td>1.000000</td>\n",
              "      <td>-0.001514</td>\n",
              "      <td>-0.015538</td>\n",
              "      <td>-0.009953</td>\n",
              "      <td>-0.002688</td>\n",
              "      <td>0.010452</td>\n",
              "    </tr>\n",
              "    <tr>\n",
              "      <th>education_level_Primary school</th>\n",
              "      <td>0.009378</td>\n",
              "      <td>0.000119</td>\n",
              "      <td>0.009635</td>\n",
              "      <td>-0.019390</td>\n",
              "      <td>0.046844</td>\n",
              "      <td>0.009798</td>\n",
              "      <td>0.053457</td>\n",
              "      <td>-0.002098</td>\n",
              "      <td>-0.007359</td>\n",
              "      <td>0.029221</td>\n",
              "      <td>...</td>\n",
              "      <td>0.022685</td>\n",
              "      <td>-0.019839</td>\n",
              "      <td>-0.025288</td>\n",
              "      <td>-0.073023</td>\n",
              "      <td>-0.001514</td>\n",
              "      <td>1.000000</td>\n",
              "      <td>-0.044030</td>\n",
              "      <td>-0.028204</td>\n",
              "      <td>-0.007618</td>\n",
              "      <td>0.029618</td>\n",
              "    </tr>\n",
              "    <tr>\n",
              "      <th>education_level_University</th>\n",
              "      <td>-0.048141</td>\n",
              "      <td>-0.145083</td>\n",
              "      <td>0.324581</td>\n",
              "      <td>-0.064905</td>\n",
              "      <td>-0.096320</td>\n",
              "      <td>0.069048</td>\n",
              "      <td>0.006383</td>\n",
              "      <td>0.035892</td>\n",
              "      <td>0.022213</td>\n",
              "      <td>0.078408</td>\n",
              "      <td>...</td>\n",
              "      <td>-0.224776</td>\n",
              "      <td>0.093738</td>\n",
              "      <td>-0.259567</td>\n",
              "      <td>-0.749540</td>\n",
              "      <td>-0.015538</td>\n",
              "      <td>-0.044030</td>\n",
              "      <td>1.000000</td>\n",
              "      <td>0.008886</td>\n",
              "      <td>-0.017902</td>\n",
              "      <td>-0.003125</td>\n",
              "    </tr>\n",
              "    <tr>\n",
              "      <th>final_status_Active</th>\n",
              "      <td>-0.044978</td>\n",
              "      <td>-0.077705</td>\n",
              "      <td>0.033905</td>\n",
              "      <td>0.003702</td>\n",
              "      <td>-0.093904</td>\n",
              "      <td>0.064422</td>\n",
              "      <td>-0.046499</td>\n",
              "      <td>-0.052409</td>\n",
              "      <td>-0.033060</td>\n",
              "      <td>-0.037907</td>\n",
              "      <td>...</td>\n",
              "      <td>-0.020385</td>\n",
              "      <td>0.039931</td>\n",
              "      <td>-0.004432</td>\n",
              "      <td>-0.001118</td>\n",
              "      <td>-0.009953</td>\n",
              "      <td>-0.028204</td>\n",
              "      <td>0.008886</td>\n",
              "      <td>1.000000</td>\n",
              "      <td>-0.050087</td>\n",
              "      <td>-0.952263</td>\n",
              "    </tr>\n",
              "    <tr>\n",
              "      <th>final_status_Dropped</th>\n",
              "      <td>-0.020853</td>\n",
              "      <td>-0.001550</td>\n",
              "      <td>-0.016153</td>\n",
              "      <td>0.008353</td>\n",
              "      <td>-0.031633</td>\n",
              "      <td>0.017400</td>\n",
              "      <td>0.161239</td>\n",
              "      <td>-0.045686</td>\n",
              "      <td>-0.049150</td>\n",
              "      <td>-0.013849</td>\n",
              "      <td>...</td>\n",
              "      <td>0.005820</td>\n",
              "      <td>0.019413</td>\n",
              "      <td>-0.031063</td>\n",
              "      <td>0.038799</td>\n",
              "      <td>-0.002688</td>\n",
              "      <td>-0.007618</td>\n",
              "      <td>-0.017902</td>\n",
              "      <td>-0.050087</td>\n",
              "      <td>1.000000</td>\n",
              "      <td>-0.257200</td>\n",
              "    </tr>\n",
              "    <tr>\n",
              "      <th>final_status_Rejected</th>\n",
              "      <td>0.049893</td>\n",
              "      <td>0.075659</td>\n",
              "      <td>-0.027868</td>\n",
              "      <td>-0.006135</td>\n",
              "      <td>0.100528</td>\n",
              "      <td>-0.067652</td>\n",
              "      <td>-0.004294</td>\n",
              "      <td>0.064674</td>\n",
              "      <td>0.047011</td>\n",
              "      <td>0.040911</td>\n",
              "      <td>...</td>\n",
              "      <td>0.017945</td>\n",
              "      <td>-0.044570</td>\n",
              "      <td>0.013783</td>\n",
              "      <td>-0.010778</td>\n",
              "      <td>0.010452</td>\n",
              "      <td>0.029618</td>\n",
              "      <td>-0.003125</td>\n",
              "      <td>-0.952263</td>\n",
              "      <td>-0.257200</td>\n",
              "      <td>1.000000</td>\n",
              "    </tr>\n",
              "  </tbody>\n",
              "</table>\n",
              "<p>31 rows × 31 columns</p>\n",
              "</div>"
            ],
            "text/plain": [
              "                                       Gender    source       Age  \\\n",
              "Gender                               1.000000 -0.014715  0.100343   \n",
              "source                              -0.014715  1.000000 -0.110164   \n",
              "Age                                  0.100343 -0.110164  1.000000   \n",
              "marital_status                      -0.012717  0.029309 -0.382055   \n",
              "joining_university                  -0.036976  0.050801 -0.137398   \n",
              "used_computer                        0.031528 -0.032057  0.086644   \n",
              "prev_student                        -0.004816 -0.025886  0.041702   \n",
              "mother_alive                        -0.050662 -0.011439 -0.074426   \n",
              "father_alive                        -0.000562 -0.034134 -0.060571   \n",
              "no_of_siblings                       0.078034 -0.017324  0.119672   \n",
              "has_guardian                        -0.072611  0.021782 -0.186598   \n",
              "work_experience                     -0.081066 -0.008118  0.206091   \n",
              "tech_experience                      0.066697 -0.008039  0.049565   \n",
              "have_source_of_income                0.059806 -0.025515  0.217148   \n",
              "own_dependants                      -0.003008  0.006568  0.293549   \n",
              "guardian_dependants                 -0.064297  0.008793 -0.110627   \n",
              "rent_house                          -0.036403 -0.089932 -0.033952   \n",
              "got_scholarship                     -0.016083 -0.124278  0.172521   \n",
              "admissions_decision                  0.052997  0.082981 -0.034634   \n",
              "neighborhood_Court                   0.000067 -0.038854 -0.030279   \n",
              "neighborhood_Estate                  0.025749 -0.093242  0.128217   \n",
              "neighborhood_Slum                    0.044849  0.217863 -0.067690   \n",
              "neighborhood_Village                -0.065211 -0.115003 -0.031293   \n",
              "education_level_Diploma certificate -0.030966  0.027784  0.114603   \n",
              "education_level_High school          0.066125  0.116753 -0.379980   \n",
              "education_level_Masters Degree      -0.033957 -0.008712 -0.023839   \n",
              "education_level_Primary school       0.009378  0.000119  0.009635   \n",
              "education_level_University          -0.048141 -0.145083  0.324581   \n",
              "final_status_Active                 -0.044978 -0.077705  0.033905   \n",
              "final_status_Dropped                -0.020853 -0.001550 -0.016153   \n",
              "final_status_Rejected                0.049893  0.075659 -0.027868   \n",
              "\n",
              "                                     marital_status  joining_university  \\\n",
              "Gender                                    -0.012717           -0.036976   \n",
              "source                                     0.029309            0.050801   \n",
              "Age                                       -0.382055           -0.137398   \n",
              "marital_status                             1.000000            0.011867   \n",
              "joining_university                         0.011867            1.000000   \n",
              "used_computer                             -0.005059           -0.103397   \n",
              "prev_student                              -0.002325           -0.004372   \n",
              "mother_alive                               0.042276            0.005343   \n",
              "father_alive                               0.004041            0.043298   \n",
              "no_of_siblings                            -0.053944           -0.003966   \n",
              "has_guardian                               0.076543            0.051608   \n",
              "work_experience                           -0.078106           -0.061073   \n",
              "tech_experience                            0.011866           -0.074841   \n",
              "have_source_of_income                     -0.122356           -0.034536   \n",
              "own_dependants                            -0.229978           -0.047363   \n",
              "guardian_dependants                        0.077657            0.009831   \n",
              "rent_house                                 0.063079           -0.021341   \n",
              "got_scholarship                           -0.037250           -0.065201   \n",
              "admissions_decision                       -0.011287            0.094107   \n",
              "neighborhood_Court                         0.016909            0.005863   \n",
              "neighborhood_Estate                       -0.090699            0.021322   \n",
              "neighborhood_Slum                          0.032542            0.002721   \n",
              "neighborhood_Village                       0.038793           -0.023168   \n",
              "education_level_Diploma certificate       -0.070469            0.026752   \n",
              "education_level_High school                0.110378            0.065784   \n",
              "education_level_Masters Degree             0.005661           -0.006286   \n",
              "education_level_Primary school            -0.019390            0.046844   \n",
              "education_level_University                -0.064905           -0.096320   \n",
              "final_status_Active                        0.003702           -0.093904   \n",
              "final_status_Dropped                       0.008353           -0.031633   \n",
              "final_status_Rejected                     -0.006135            0.100528   \n",
              "\n",
              "                                     used_computer  prev_student  \\\n",
              "Gender                                    0.031528     -0.004816   \n",
              "source                                   -0.032057     -0.025886   \n",
              "Age                                       0.086644      0.041702   \n",
              "marital_status                           -0.005059     -0.002325   \n",
              "joining_university                       -0.103397     -0.004372   \n",
              "used_computer                             1.000000     -0.007700   \n",
              "prev_student                             -0.007700      1.000000   \n",
              "mother_alive                              0.003361     -0.028160   \n",
              "father_alive                             -0.001730     -0.003110   \n",
              "no_of_siblings                           -0.041949     -0.015105   \n",
              "has_guardian                             -0.053054      0.018247   \n",
              "work_experience                           0.081383      0.047281   \n",
              "tech_experience                           0.148196      0.059161   \n",
              "have_source_of_income                     0.035174      0.023337   \n",
              "own_dependants                            0.009193      0.009581   \n",
              "guardian_dependants                       0.028709     -0.003309   \n",
              "rent_house                                0.004812     -0.001305   \n",
              "got_scholarship                           0.096691      0.026574   \n",
              "admissions_decision                      -0.067267      0.038517   \n",
              "neighborhood_Court                        0.013239      0.012278   \n",
              "neighborhood_Estate                       0.045131      0.006192   \n",
              "neighborhood_Slum                        -0.055676     -0.018036   \n",
              "neighborhood_Village                      0.009913      0.007099   \n",
              "education_level_Diploma certificate       0.046903     -0.003398   \n",
              "education_level_High school              -0.097472     -0.010518   \n",
              "education_level_Masters Degree            0.003458     -0.003095   \n",
              "education_level_Primary school            0.009798      0.053457   \n",
              "education_level_University                0.069048      0.006383   \n",
              "final_status_Active                       0.064422     -0.046499   \n",
              "final_status_Dropped                      0.017400      0.161239   \n",
              "final_status_Rejected                    -0.067652     -0.004294   \n",
              "\n",
              "                                     mother_alive  father_alive  \\\n",
              "Gender                                  -0.050662     -0.000562   \n",
              "source                                  -0.011439     -0.034134   \n",
              "Age                                     -0.074426     -0.060571   \n",
              "marital_status                           0.042276      0.004041   \n",
              "joining_university                       0.005343      0.043298   \n",
              "used_computer                            0.003361     -0.001730   \n",
              "prev_student                            -0.028160     -0.003110   \n",
              "mother_alive                             1.000000      0.195887   \n",
              "father_alive                             0.195887      1.000000   \n",
              "no_of_siblings                           0.036807      0.106177   \n",
              "has_guardian                            -0.153108     -0.153660   \n",
              "work_experience                         -0.015103     -0.030038   \n",
              "tech_experience                          0.002717     -0.032946   \n",
              "have_source_of_income                   -0.045029     -0.050412   \n",
              "own_dependants                          -0.036494     -0.077541   \n",
              "guardian_dependants                      0.059039      0.159512   \n",
              "rent_house                               0.043984      0.076104   \n",
              "got_scholarship                         -0.001885     -0.003654   \n",
              "admissions_decision                      0.048548      0.031820   \n",
              "neighborhood_Court                       0.033901      0.031117   \n",
              "neighborhood_Estate                      0.016017      0.051561   \n",
              "neighborhood_Slum                       -0.027236     -0.084227   \n",
              "neighborhood_Village                    -0.001257      0.024658   \n",
              "education_level_Diploma certificate     -0.010499     -0.002169   \n",
              "education_level_High school             -0.026448     -0.019001   \n",
              "education_level_Masters Degree           0.008323      0.015945   \n",
              "education_level_Primary school          -0.002098     -0.007359   \n",
              "education_level_University               0.035892      0.022213   \n",
              "final_status_Active                     -0.052409     -0.033060   \n",
              "final_status_Dropped                    -0.045686     -0.049150   \n",
              "final_status_Rejected                    0.064674      0.047011   \n",
              "\n",
              "                                     no_of_siblings  ...  neighborhood_Slum  \\\n",
              "Gender                                     0.078034  ...           0.044849   \n",
              "source                                    -0.017324  ...           0.217863   \n",
              "Age                                        0.119672  ...          -0.067690   \n",
              "marital_status                            -0.053944  ...           0.032542   \n",
              "joining_university                        -0.003966  ...           0.002721   \n",
              "used_computer                             -0.041949  ...          -0.055676   \n",
              "prev_student                              -0.015105  ...          -0.018036   \n",
              "mother_alive                               0.036807  ...          -0.027236   \n",
              "father_alive                               0.106177  ...          -0.084227   \n",
              "no_of_siblings                             1.000000  ...           0.015087   \n",
              "has_guardian                              -0.070199  ...          -0.003554   \n",
              "work_experience                           -0.083216  ...          -0.062416   \n",
              "tech_experience                           -0.004957  ...          -0.067371   \n",
              "have_source_of_income                      0.063793  ...          -0.033864   \n",
              "own_dependants                             0.077354  ...           0.018122   \n",
              "guardian_dependants                        0.242103  ...          -0.012672   \n",
              "rent_house                                 0.027758  ...          -0.283429   \n",
              "got_scholarship                            0.030014  ...          -0.131091   \n",
              "admissions_decision                        0.039127  ...           0.027050   \n",
              "neighborhood_Court                        -0.025858  ...          -0.149395   \n",
              "neighborhood_Estate                        0.012021  ...          -0.381585   \n",
              "neighborhood_Slum                          0.015087  ...           1.000000   \n",
              "neighborhood_Village                      -0.014168  ...          -0.579218   \n",
              "education_level_Diploma certificate       -0.045234  ...           0.010980   \n",
              "education_level_High school               -0.045034  ...           0.199746   \n",
              "education_level_Masters Degree            -0.027085  ...          -0.016454   \n",
              "education_level_Primary school             0.029221  ...           0.022685   \n",
              "education_level_University                 0.078408  ...          -0.224776   \n",
              "final_status_Active                       -0.037907  ...          -0.020385   \n",
              "final_status_Dropped                      -0.013849  ...           0.005820   \n",
              "final_status_Rejected                      0.040911  ...           0.017945   \n",
              "\n",
              "                                     neighborhood_Village  \\\n",
              "Gender                                          -0.065211   \n",
              "source                                          -0.115003   \n",
              "Age                                             -0.031293   \n",
              "marital_status                                   0.038793   \n",
              "joining_university                              -0.023168   \n",
              "used_computer                                    0.009913   \n",
              "prev_student                                     0.007099   \n",
              "mother_alive                                    -0.001257   \n",
              "father_alive                                     0.024658   \n",
              "no_of_siblings                                  -0.014168   \n",
              "has_guardian                                    -0.003487   \n",
              "work_experience                                 -0.013079   \n",
              "tech_experience                                 -0.001527   \n",
              "have_source_of_income                           -0.050630   \n",
              "own_dependants                                   0.018810   \n",
              "guardian_dependants                              0.035426   \n",
              "rent_house                                       0.280254   \n",
              "got_scholarship                                  0.103934   \n",
              "admissions_decision                             -0.048223   \n",
              "neighborhood_Court                              -0.170730   \n",
              "neighborhood_Estate                             -0.436078   \n",
              "neighborhood_Slum                               -0.579218   \n",
              "neighborhood_Village                             1.000000   \n",
              "education_level_Diploma certificate             -0.038250   \n",
              "education_level_High school                     -0.060178   \n",
              "education_level_Masters Degree                   0.028408   \n",
              "education_level_Primary school                  -0.019839   \n",
              "education_level_University                       0.093738   \n",
              "final_status_Active                              0.039931   \n",
              "final_status_Dropped                             0.019413   \n",
              "final_status_Rejected                           -0.044570   \n",
              "\n",
              "                                     education_level_Diploma certificate  \\\n",
              "Gender                                                         -0.030966   \n",
              "source                                                          0.027784   \n",
              "Age                                                             0.114603   \n",
              "marital_status                                                 -0.070469   \n",
              "joining_university                                              0.026752   \n",
              "used_computer                                                   0.046903   \n",
              "prev_student                                                   -0.003398   \n",
              "mother_alive                                                   -0.010499   \n",
              "father_alive                                                   -0.002169   \n",
              "no_of_siblings                                                 -0.045234   \n",
              "has_guardian                                                    0.047864   \n",
              "work_experience                                                 0.083630   \n",
              "tech_experience                                                 0.096426   \n",
              "have_source_of_income                                          -0.026930   \n",
              "own_dependants                                                 -0.006816   \n",
              "guardian_dependants                                            -0.058690   \n",
              "rent_house                                                      0.007818   \n",
              "got_scholarship                                                -0.004303   \n",
              "admissions_decision                                             0.016430   \n",
              "neighborhood_Court                                              0.084987   \n",
              "neighborhood_Estate                                            -0.008512   \n",
              "neighborhood_Slum                                               0.010980   \n",
              "neighborhood_Village                                           -0.038250   \n",
              "education_level_Diploma certificate                             1.000000   \n",
              "education_level_High school                                    -0.430492   \n",
              "education_level_Masters Degree                                 -0.008924   \n",
              "education_level_Primary school                                 -0.025288   \n",
              "education_level_University                                     -0.259567   \n",
              "final_status_Active                                            -0.004432   \n",
              "final_status_Dropped                                           -0.031063   \n",
              "final_status_Rejected                                           0.013783   \n",
              "\n",
              "                                     education_level_High school  \\\n",
              "Gender                                                  0.066125   \n",
              "source                                                  0.116753   \n",
              "Age                                                    -0.379980   \n",
              "marital_status                                          0.110378   \n",
              "joining_university                                      0.065784   \n",
              "used_computer                                          -0.097472   \n",
              "prev_student                                           -0.010518   \n",
              "mother_alive                                           -0.026448   \n",
              "father_alive                                           -0.019001   \n",
              "no_of_siblings                                         -0.045034   \n",
              "has_guardian                                            0.086188   \n",
              "work_experience                                        -0.217172   \n",
              "tech_experience                                        -0.113398   \n",
              "have_source_of_income                                  -0.092802   \n",
              "own_dependants                                         -0.109998   \n",
              "guardian_dependants                                     0.060351   \n",
              "rent_house                                             -0.105242   \n",
              "got_scholarship                                        -0.341412   \n",
              "admissions_decision                                    -0.009850   \n",
              "neighborhood_Court                                     -0.030895   \n",
              "neighborhood_Estate                                    -0.140988   \n",
              "neighborhood_Slum                                       0.199746   \n",
              "neighborhood_Village                                   -0.060178   \n",
              "education_level_Diploma certificate                    -0.430492   \n",
              "education_level_High school                             1.000000   \n",
              "education_level_Masters Degree                         -0.025769   \n",
              "education_level_Primary school                         -0.073023   \n",
              "education_level_University                             -0.749540   \n",
              "final_status_Active                                    -0.001118   \n",
              "final_status_Dropped                                    0.038799   \n",
              "final_status_Rejected                                  -0.010778   \n",
              "\n",
              "                                     education_level_Masters Degree  \\\n",
              "Gender                                                    -0.033957   \n",
              "source                                                    -0.008712   \n",
              "Age                                                       -0.023839   \n",
              "marital_status                                             0.005661   \n",
              "joining_university                                        -0.006286   \n",
              "used_computer                                              0.003458   \n",
              "prev_student                                              -0.003095   \n",
              "mother_alive                                               0.008323   \n",
              "father_alive                                               0.015945   \n",
              "no_of_siblings                                            -0.027085   \n",
              "has_guardian                                               0.029018   \n",
              "work_experience                                           -0.031480   \n",
              "tech_experience                                            0.013434   \n",
              "have_source_of_income                                      0.025111   \n",
              "own_dependants                                             0.037886   \n",
              "guardian_dependants                                        0.004031   \n",
              "rent_house                                                -0.015402   \n",
              "got_scholarship                                            0.029018   \n",
              "admissions_decision                                        0.010392   \n",
              "neighborhood_Court                                        -0.004850   \n",
              "neighborhood_Estate                                       -0.012388   \n",
              "neighborhood_Slum                                         -0.016454   \n",
              "neighborhood_Village                                       0.028408   \n",
              "education_level_Diploma certificate                       -0.008924   \n",
              "education_level_High school                               -0.025769   \n",
              "education_level_Masters Degree                             1.000000   \n",
              "education_level_Primary school                            -0.001514   \n",
              "education_level_University                                -0.015538   \n",
              "final_status_Active                                       -0.009953   \n",
              "final_status_Dropped                                      -0.002688   \n",
              "final_status_Rejected                                      0.010452   \n",
              "\n",
              "                                     education_level_Primary school  \\\n",
              "Gender                                                     0.009378   \n",
              "source                                                     0.000119   \n",
              "Age                                                        0.009635   \n",
              "marital_status                                            -0.019390   \n",
              "joining_university                                         0.046844   \n",
              "used_computer                                              0.009798   \n",
              "prev_student                                               0.053457   \n",
              "mother_alive                                              -0.002098   \n",
              "father_alive                                              -0.007359   \n",
              "no_of_siblings                                             0.029221   \n",
              "has_guardian                                               0.015032   \n",
              "work_experience                                           -0.003399   \n",
              "tech_experience                                           -0.037304   \n",
              "have_source_of_income                                     -0.043851   \n",
              "own_dependants                                             0.015288   \n",
              "guardian_dependants                                        0.003738   \n",
              "rent_house                                                 0.009576   \n",
              "got_scholarship                                           -0.018566   \n",
              "admissions_decision                                        0.029449   \n",
              "neighborhood_Court                                        -0.013744   \n",
              "neighborhood_Estate                                        0.004220   \n",
              "neighborhood_Slum                                          0.022685   \n",
              "neighborhood_Village                                      -0.019839   \n",
              "education_level_Diploma certificate                       -0.025288   \n",
              "education_level_High school                               -0.073023   \n",
              "education_level_Masters Degree                            -0.001514   \n",
              "education_level_Primary school                             1.000000   \n",
              "education_level_University                                -0.044030   \n",
              "final_status_Active                                       -0.028204   \n",
              "final_status_Dropped                                      -0.007618   \n",
              "final_status_Rejected                                      0.029618   \n",
              "\n",
              "                                     education_level_University  \\\n",
              "Gender                                                -0.048141   \n",
              "source                                                -0.145083   \n",
              "Age                                                    0.324581   \n",
              "marital_status                                        -0.064905   \n",
              "joining_university                                    -0.096320   \n",
              "used_computer                                          0.069048   \n",
              "prev_student                                           0.006383   \n",
              "mother_alive                                           0.035892   \n",
              "father_alive                                           0.022213   \n",
              "no_of_siblings                                         0.078408   \n",
              "has_guardian                                          -0.130826   \n",
              "work_experience                                        0.174497   \n",
              "tech_experience                                        0.056342   \n",
              "have_source_of_income                                  0.124092   \n",
              "own_dependants                                         0.118989   \n",
              "guardian_dependants                                   -0.022924   \n",
              "rent_house                                             0.106726   \n",
              "got_scholarship                                        0.370805   \n",
              "admissions_decision                                   -0.006016   \n",
              "neighborhood_Court                                    -0.026333   \n",
              "neighborhood_Estate                                    0.157555   \n",
              "neighborhood_Slum                                     -0.224776   \n",
              "neighborhood_Village                                   0.093738   \n",
              "education_level_Diploma certificate                   -0.259567   \n",
              "education_level_High school                           -0.749540   \n",
              "education_level_Masters Degree                        -0.015538   \n",
              "education_level_Primary school                        -0.044030   \n",
              "education_level_University                             1.000000   \n",
              "final_status_Active                                    0.008886   \n",
              "final_status_Dropped                                  -0.017902   \n",
              "final_status_Rejected                                 -0.003125   \n",
              "\n",
              "                                     final_status_Active  \\\n",
              "Gender                                         -0.044978   \n",
              "source                                         -0.077705   \n",
              "Age                                             0.033905   \n",
              "marital_status                                  0.003702   \n",
              "joining_university                             -0.093904   \n",
              "used_computer                                   0.064422   \n",
              "prev_student                                   -0.046499   \n",
              "mother_alive                                   -0.052409   \n",
              "father_alive                                   -0.033060   \n",
              "no_of_siblings                                 -0.037907   \n",
              "has_guardian                                   -0.023304   \n",
              "work_experience                                 0.078934   \n",
              "tech_experience                                 0.050719   \n",
              "have_source_of_income                           0.063780   \n",
              "own_dependants                                 -0.001548   \n",
              "guardian_dependants                             0.032335   \n",
              "rent_house                                     -0.003522   \n",
              "got_scholarship                                 0.100347   \n",
              "admissions_decision                            -0.949850   \n",
              "neighborhood_Court                              0.048566   \n",
              "neighborhood_Estate                            -0.047262   \n",
              "neighborhood_Slum                              -0.020385   \n",
              "neighborhood_Village                            0.039931   \n",
              "education_level_Diploma certificate            -0.004432   \n",
              "education_level_High school                    -0.001118   \n",
              "education_level_Masters Degree                 -0.009953   \n",
              "education_level_Primary school                 -0.028204   \n",
              "education_level_University                      0.008886   \n",
              "final_status_Active                             1.000000   \n",
              "final_status_Dropped                           -0.050087   \n",
              "final_status_Rejected                          -0.952263   \n",
              "\n",
              "                                     final_status_Dropped  \\\n",
              "Gender                                          -0.020853   \n",
              "source                                          -0.001550   \n",
              "Age                                             -0.016153   \n",
              "marital_status                                   0.008353   \n",
              "joining_university                              -0.031633   \n",
              "used_computer                                    0.017400   \n",
              "prev_student                                     0.161239   \n",
              "mother_alive                                    -0.045686   \n",
              "father_alive                                    -0.049150   \n",
              "no_of_siblings                                  -0.013849   \n",
              "has_guardian                                     0.021922   \n",
              "work_experience                                  0.046383   \n",
              "tech_experience                                 -0.018061   \n",
              "have_source_of_income                            0.023664   \n",
              "own_dependants                                   0.002296   \n",
              "guardian_dependants                              0.026835   \n",
              "rent_house                                      -0.017020   \n",
              "got_scholarship                                 -0.006718   \n",
              "admissions_decision                             -0.171599   \n",
              "neighborhood_Court                              -0.024407   \n",
              "neighborhood_Estate                             -0.017646   \n",
              "neighborhood_Slum                                0.005820   \n",
              "neighborhood_Village                             0.019413   \n",
              "education_level_Diploma certificate             -0.031063   \n",
              "education_level_High school                      0.038799   \n",
              "education_level_Masters Degree                  -0.002688   \n",
              "education_level_Primary school                  -0.007618   \n",
              "education_level_University                      -0.017902   \n",
              "final_status_Active                             -0.050087   \n",
              "final_status_Dropped                             1.000000   \n",
              "final_status_Rejected                           -0.257200   \n",
              "\n",
              "                                     final_status_Rejected  \n",
              "Gender                                            0.049893  \n",
              "source                                            0.075659  \n",
              "Age                                              -0.027868  \n",
              "marital_status                                   -0.006135  \n",
              "joining_university                                0.100528  \n",
              "used_computer                                    -0.067652  \n",
              "prev_student                                     -0.004294  \n",
              "mother_alive                                      0.064674  \n",
              "father_alive                                      0.047011  \n",
              "no_of_siblings                                    0.040911  \n",
              "has_guardian                                      0.015848  \n",
              "work_experience                                  -0.090552  \n",
              "tech_experience                                  -0.043554  \n",
              "have_source_of_income                            -0.068945  \n",
              "own_dependants                                    0.000796  \n",
              "guardian_dependants                              -0.039489  \n",
              "rent_house                                        0.008610  \n",
              "got_scholarship                                  -0.095040  \n",
              "admissions_decision                               0.971501  \n",
              "neighborhood_Court                               -0.039531  \n",
              "neighborhood_Estate                               0.051123  \n",
              "neighborhood_Slum                                 0.017945  \n",
              "neighborhood_Village                             -0.044570  \n",
              "education_level_Diploma certificate               0.013783  \n",
              "education_level_High school                      -0.010778  \n",
              "education_level_Masters Degree                    0.010452  \n",
              "education_level_Primary school                    0.029618  \n",
              "education_level_University                       -0.003125  \n",
              "final_status_Active                              -0.952263  \n",
              "final_status_Dropped                             -0.257200  \n",
              "final_status_Rejected                             1.000000  \n",
              "\n",
              "[31 rows x 31 columns]"
            ]
          },
          "execution_count": 543,
          "metadata": {},
          "output_type": "execute_result"
        }
      ],
      "source": [
        "encoded_data.corr()"
      ]
    },
    {
      "cell_type": "code",
      "execution_count": null,
      "metadata": {
        "id": "Fh1mOOcCyuAr",
        "outputId": "cff93a68-8514-4d6c-a9d4-0304d8930aa6"
      },
      "outputs": [
        {
          "data": {
            "image/png": "[encoded data removed]",
            "text/plain": [
              "<Figure size 2592x2160 with 2 Axes>"
            ]
          },
          "metadata": {
            "needs_background": "light"
          },
          "output_type": "display_data"
        }
      ],
      "source": [
        "plt.figure(figsize=(36, 30))\n",
        "sns.heatmap(encoded_data.corr(), annot=True)\n",
        "plt.show()"
      ]
    },
    {
      "cell_type": "code",
      "execution_count": null,
      "metadata": {
        "id": "xyv6O9-qyuAr"
      },
      "outputs": [],
      "source": [
        "# Shuffle the dataset using\n",
        "column_names =sorted(encoded_data.columns.tolist())\n",
        "encoded_data = encoded_data.sample(frac=1).reset_index(drop=True)\n",
        "encoded_data = encoded_data.reindex(columns=column_names)\n",
        "first_column = encoded_data.pop('admissions_decision')\n"
      ]
    },
    {
      "cell_type": "code",
      "execution_count": null,
      "metadata": {
        "id": "hKOXZT4ZyuAr",
        "outputId": "9587da31-69dd-488f-8e7b-dff9ec69b3a7"
      },
      "outputs": [
        {
          "data": {
            "text/plain": [
              "(1873, 31)"
            ]
          },
          "execution_count": 546,
          "metadata": {},
          "output_type": "execute_result"
        }
      ],
      "source": [
        "encoded_data.shape"
      ]
    },
    {
      "cell_type": "code",
      "execution_count": null,
      "metadata": {
        "id": "rOXdkQKZyuAr",
        "outputId": "fe39e459-9ef6-41c3-99ac-36aaebdfdd43"
      },
      "outputs": [
        {
          "data": {
            "text/html": [
              "<div>\n",
              "<style scoped>\n",
              "    .dataframe tbody tr th:only-of-type {\n",
              "        vertical-align: middle;\n",
              "    }\n",
              "\n",
              "    .dataframe tbody tr th {\n",
              "        vertical-align: top;\n",
              "    }\n",
              "\n",
              "    .dataframe thead th {\n",
              "        text-align: right;\n",
              "    }\n",
              "</style>\n",
              "<table border=\"1\" class=\"dataframe\">\n",
              "  <thead>\n",
              "    <tr style=\"text-align: right;\">\n",
              "      <th></th>\n",
              "      <th>Age</th>\n",
              "      <th>Gender</th>\n",
              "      <th>education_level_Diploma certificate</th>\n",
              "      <th>education_level_High school</th>\n",
              "      <th>education_level_Masters Degree</th>\n",
              "      <th>education_level_Primary school</th>\n",
              "      <th>education_level_University</th>\n",
              "      <th>father_alive</th>\n",
              "      <th>final_status_Active</th>\n",
              "      <th>final_status_Dropped</th>\n",
              "      <th>...</th>\n",
              "      <th>neighborhood_Village</th>\n",
              "      <th>no_of_siblings</th>\n",
              "      <th>own_dependants</th>\n",
              "      <th>prev_student</th>\n",
              "      <th>rent_house</th>\n",
              "      <th>source</th>\n",
              "      <th>tech_experience</th>\n",
              "      <th>used_computer</th>\n",
              "      <th>work_experience</th>\n",
              "      <th>admissions_decision</th>\n",
              "    </tr>\n",
              "  </thead>\n",
              "  <tbody>\n",
              "    <tr>\n",
              "      <th>0</th>\n",
              "      <td>25</td>\n",
              "      <td>1</td>\n",
              "      <td>0</td>\n",
              "      <td>0</td>\n",
              "      <td>0</td>\n",
              "      <td>0</td>\n",
              "      <td>1</td>\n",
              "      <td>1</td>\n",
              "      <td>0</td>\n",
              "      <td>0</td>\n",
              "      <td>...</td>\n",
              "      <td>1</td>\n",
              "      <td>4</td>\n",
              "      <td>0</td>\n",
              "      <td>0</td>\n",
              "      <td>0</td>\n",
              "      <td>0</td>\n",
              "      <td>1</td>\n",
              "      <td>1</td>\n",
              "      <td>1</td>\n",
              "      <td>1</td>\n",
              "    </tr>\n",
              "    <tr>\n",
              "      <th>1</th>\n",
              "      <td>22</td>\n",
              "      <td>0</td>\n",
              "      <td>0</td>\n",
              "      <td>1</td>\n",
              "      <td>0</td>\n",
              "      <td>0</td>\n",
              "      <td>0</td>\n",
              "      <td>1</td>\n",
              "      <td>1</td>\n",
              "      <td>0</td>\n",
              "      <td>...</td>\n",
              "      <td>1</td>\n",
              "      <td>1</td>\n",
              "      <td>0</td>\n",
              "      <td>0</td>\n",
              "      <td>0</td>\n",
              "      <td>0</td>\n",
              "      <td>1</td>\n",
              "      <td>1</td>\n",
              "      <td>1</td>\n",
              "      <td>0</td>\n",
              "    </tr>\n",
              "    <tr>\n",
              "      <th>2</th>\n",
              "      <td>20</td>\n",
              "      <td>0</td>\n",
              "      <td>0</td>\n",
              "      <td>1</td>\n",
              "      <td>0</td>\n",
              "      <td>0</td>\n",
              "      <td>0</td>\n",
              "      <td>1</td>\n",
              "      <td>0</td>\n",
              "      <td>0</td>\n",
              "      <td>...</td>\n",
              "      <td>0</td>\n",
              "      <td>3</td>\n",
              "      <td>0</td>\n",
              "      <td>0</td>\n",
              "      <td>0</td>\n",
              "      <td>0</td>\n",
              "      <td>1</td>\n",
              "      <td>1</td>\n",
              "      <td>1</td>\n",
              "      <td>1</td>\n",
              "    </tr>\n",
              "    <tr>\n",
              "      <th>3</th>\n",
              "      <td>20</td>\n",
              "      <td>0</td>\n",
              "      <td>0</td>\n",
              "      <td>1</td>\n",
              "      <td>0</td>\n",
              "      <td>0</td>\n",
              "      <td>0</td>\n",
              "      <td>1</td>\n",
              "      <td>0</td>\n",
              "      <td>0</td>\n",
              "      <td>...</td>\n",
              "      <td>1</td>\n",
              "      <td>4</td>\n",
              "      <td>0</td>\n",
              "      <td>0</td>\n",
              "      <td>0</td>\n",
              "      <td>0</td>\n",
              "      <td>0</td>\n",
              "      <td>1</td>\n",
              "      <td>0</td>\n",
              "      <td>1</td>\n",
              "    </tr>\n",
              "    <tr>\n",
              "      <th>4</th>\n",
              "      <td>21</td>\n",
              "      <td>1</td>\n",
              "      <td>1</td>\n",
              "      <td>0</td>\n",
              "      <td>0</td>\n",
              "      <td>0</td>\n",
              "      <td>0</td>\n",
              "      <td>1</td>\n",
              "      <td>0</td>\n",
              "      <td>0</td>\n",
              "      <td>...</td>\n",
              "      <td>1</td>\n",
              "      <td>3</td>\n",
              "      <td>0</td>\n",
              "      <td>0</td>\n",
              "      <td>0</td>\n",
              "      <td>1</td>\n",
              "      <td>1</td>\n",
              "      <td>1</td>\n",
              "      <td>1</td>\n",
              "      <td>1</td>\n",
              "    </tr>\n",
              "  </tbody>\n",
              "</table>\n",
              "<p>5 rows × 32 columns</p>\n",
              "</div>"
            ],
            "text/plain": [
              "   Age  Gender  education_level_Diploma certificate  \\\n",
              "0   25       1                                    0   \n",
              "1   22       0                                    0   \n",
              "2   20       0                                    0   \n",
              "3   20       0                                    0   \n",
              "4   21       1                                    1   \n",
              "\n",
              "   education_level_High school  education_level_Masters Degree  \\\n",
              "0                            0                               0   \n",
              "1                            1                               0   \n",
              "2                            1                               0   \n",
              "3                            1                               0   \n",
              "4                            0                               0   \n",
              "\n",
              "   education_level_Primary school  education_level_University  father_alive  \\\n",
              "0                               0                           1             1   \n",
              "1                               0                           0             1   \n",
              "2                               0                           0             1   \n",
              "3                               0                           0             1   \n",
              "4                               0                           0             1   \n",
              "\n",
              "   final_status_Active  final_status_Dropped  ...  neighborhood_Village  \\\n",
              "0                    0                     0  ...                     1   \n",
              "1                    1                     0  ...                     1   \n",
              "2                    0                     0  ...                     0   \n",
              "3                    0                     0  ...                     1   \n",
              "4                    0                     0  ...                     1   \n",
              "\n",
              "   no_of_siblings  own_dependants  prev_student  rent_house  source  \\\n",
              "0               4               0             0           0       0   \n",
              "1               1               0             0           0       0   \n",
              "2               3               0             0           0       0   \n",
              "3               4               0             0           0       0   \n",
              "4               3               0             0           0       1   \n",
              "\n",
              "  tech_experience  used_computer  work_experience  admissions_decision  \n",
              "0               1              1                1                    1  \n",
              "1               1              1                1                    0  \n",
              "2               1              1                1                    1  \n",
              "3               0              1                0                    1  \n",
              "4               1              1                1                    1  \n",
              "\n",
              "[5 rows x 32 columns]"
            ]
          },
          "execution_count": 547,
          "metadata": {},
          "output_type": "execute_result"
        }
      ],
      "source": [
        "encoded_data.insert(len(column_names)-1, 'admissions_decision', first_column)\n",
        "\n",
        "encoded_data.head()"
      ]
    },
    {
      "cell_type": "code",
      "source": [
        ""
      ],
      "metadata": {
        "id": "aulq5Dt5S0Yj"
      },
      "execution_count": null,
      "outputs": []
    },
    {
      "cell_type": "code",
      "execution_count": null,
      "metadata": {
        "id": "Zbh7PjKlyuAs"
      },
      "outputs": [],
      "source": [
        "encoded_data.to_csv(\"processed_applicants_data.csv\", index=False)"
      ]
    },
    {
      "cell_type": "markdown",
      "metadata": {
        "id": "CtfESZgsyuAs"
      },
      "source": [
        "## split test and train data"
      ]
    },
    {
      "cell_type": "code",
      "execution_count": null,
      "metadata": {
        "id": "TvETNw4kyuAs",
        "outputId": "ed19234f-1bc7-4798-aeda-910dd5d080de"
      },
      "outputs": [
        {
          "name": "stdout",
          "output_type": "stream",
          "text": [
            " capstone.ipynb\t\t\t      'data sets'\t\t       samples\n",
            "'Capstone User Flow diagram (1).png'   doc.py\t\t\t       sas.js\n",
            " code\t\t\t\t       processed_applicants_data.csv\n"
          ]
        }
      ],
      "source": [
        "!ls"
      ]
    },
    {
      "cell_type": "code",
      "source": [
        "from google.colab import drive\n",
        "drive.mount('/content/drive')"
      ],
      "metadata": {
        "colab": {
          "base_uri": "https://localhost:8080/"
        },
        "id": "VkZAbUGCCyoK",
        "outputId": "8c15d124-67c8-45d1-8ee8-68285eeb2164"
      },
      "execution_count": null,
      "outputs": [
        {
          "output_type": "stream",
          "name": "stdout",
          "text": [
            "Mounted at /content/drive\n"
          ]
        }
      ]
    },
    {
      "cell_type": "code",
      "source": [
        "import pandas as pd"
      ],
      "metadata": {
        "id": "eEDLcfiCDOXG"
      },
      "execution_count": null,
      "outputs": []
    },
    {
      "cell_type": "code",
      "execution_count": null,
      "metadata": {
        "id": "5uniYnkxyuAs",
        "outputId": "5cea4faa-f129-434f-a996-257fa3f9fcbc",
        "colab": {
          "base_uri": "https://localhost:8080/",
          "height": 317
        }
      },
      "outputs": [
        {
          "output_type": "execute_result",
          "data": {
            "text/plain": [
              "   Age  Gender  education_level_Diploma certificate  \\\n",
              "0   25       1                                    0   \n",
              "1   22       0                                    0   \n",
              "2   20       0                                    0   \n",
              "3   20       0                                    0   \n",
              "4   21       1                                    1   \n",
              "\n",
              "   education_level_High school  education_level_Masters Degree  \\\n",
              "0                            0                               0   \n",
              "1                            1                               0   \n",
              "2                            1                               0   \n",
              "3                            1                               0   \n",
              "4                            0                               0   \n",
              "\n",
              "   education_level_Primary school  education_level_University  father_alive  \\\n",
              "0                               0                           1             1   \n",
              "1                               0                           0             1   \n",
              "2                               0                           0             1   \n",
              "3                               0                           0             1   \n",
              "4                               0                           0             1   \n",
              "\n",
              "   final_status_Active  final_status_Dropped  ...  neighborhood_Village  \\\n",
              "0                    0                     0  ...                     1   \n",
              "1                    1                     0  ...                     1   \n",
              "2                    0                     0  ...                     0   \n",
              "3                    0                     0  ...                     1   \n",
              "4                    0                     0  ...                     1   \n",
              "\n",
              "   no_of_siblings  own_dependants  prev_student  rent_house  source  \\\n",
              "0               4               0             0           0       0   \n",
              "1               1               0             0           0       0   \n",
              "2               3               0             0           0       0   \n",
              "3               4               0             0           0       0   \n",
              "4               3               0             0           0       1   \n",
              "\n",
              "  tech_experience  used_computer  work_experience  admissions_decision  \n",
              "0               1              1                1                    1  \n",
              "1               1              1                1                    0  \n",
              "2               1              1                1                    1  \n",
              "3               0              1                0                    1  \n",
              "4               1              1                1                    1  \n",
              "\n",
              "[5 rows x 32 columns]"
            ],
            "text/html": [
              "\n",
              "  <div id=\"df-0dd76aac-6663-4ee1-8ae2-f9b0b6c008c2\">\n",
              "    <div class=\"colab-df-container\">\n",
              "      <div>\n",
              "<style scoped>\n",
              "    .dataframe tbody tr th:only-of-type {\n",
              "        vertical-align: middle;\n",
              "    }\n",
              "\n",
              "    .dataframe tbody tr th {\n",
              "        vertical-align: top;\n",
              "    }\n",
              "\n",
              "    .dataframe thead th {\n",
              "        text-align: right;\n",
              "    }\n",
              "</style>\n",
              "<table border=\"1\" class=\"dataframe\">\n",
              "  <thead>\n",
              "    <tr style=\"text-align: right;\">\n",
              "      <th></th>\n",
              "      <th>Age</th>\n",
              "      <th>Gender</th>\n",
              "      <th>education_level_Diploma certificate</th>\n",
              "      <th>education_level_High school</th>\n",
              "      <th>education_level_Masters Degree</th>\n",
              "      <th>education_level_Primary school</th>\n",
              "      <th>education_level_University</th>\n",
              "      <th>father_alive</th>\n",
              "      <th>final_status_Active</th>\n",
              "      <th>final_status_Dropped</th>\n",
              "      <th>...</th>\n",
              "      <th>neighborhood_Village</th>\n",
              "      <th>no_of_siblings</th>\n",
              "      <th>own_dependants</th>\n",
              "      <th>prev_student</th>\n",
              "      <th>rent_house</th>\n",
              "      <th>source</th>\n",
              "      <th>tech_experience</th>\n",
              "      <th>used_computer</th>\n",
              "      <th>work_experience</th>\n",
              "      <th>admissions_decision</th>\n",
              "    </tr>\n",
              "  </thead>\n",
              "  <tbody>\n",
              "    <tr>\n",
              "      <th>0</th>\n",
              "      <td>25</td>\n",
              "      <td>1</td>\n",
              "      <td>0</td>\n",
              "      <td>0</td>\n",
              "      <td>0</td>\n",
              "      <td>0</td>\n",
              "      <td>1</td>\n",
              "      <td>1</td>\n",
              "      <td>0</td>\n",
              "      <td>0</td>\n",
              "      <td>...</td>\n",
              "      <td>1</td>\n",
              "      <td>4</td>\n",
              "      <td>0</td>\n",
              "      <td>0</td>\n",
              "      <td>0</td>\n",
              "      <td>0</td>\n",
              "      <td>1</td>\n",
              "      <td>1</td>\n",
              "      <td>1</td>\n",
              "      <td>1</td>\n",
              "    </tr>\n",
              "    <tr>\n",
              "      <th>1</th>\n",
              "      <td>22</td>\n",
              "      <td>0</td>\n",
              "      <td>0</td>\n",
              "      <td>1</td>\n",
              "      <td>0</td>\n",
              "      <td>0</td>\n",
              "      <td>0</td>\n",
              "      <td>1</td>\n",
              "      <td>1</td>\n",
              "      <td>0</td>\n",
              "      <td>...</td>\n",
              "      <td>1</td>\n",
              "      <td>1</td>\n",
              "      <td>0</td>\n",
              "      <td>0</td>\n",
              "      <td>0</td>\n",
              "      <td>0</td>\n",
              "      <td>1</td>\n",
              "      <td>1</td>\n",
              "      <td>1</td>\n",
              "      <td>0</td>\n",
              "    </tr>\n",
              "    <tr>\n",
              "      <th>2</th>\n",
              "      <td>20</td>\n",
              "      <td>0</td>\n",
              "      <td>0</td>\n",
              "      <td>1</td>\n",
              "      <td>0</td>\n",
              "      <td>0</td>\n",
              "      <td>0</td>\n",
              "      <td>1</td>\n",
              "      <td>0</td>\n",
              "      <td>0</td>\n",
              "      <td>...</td>\n",
              "      <td>0</td>\n",
              "      <td>3</td>\n",
              "      <td>0</td>\n",
              "      <td>0</td>\n",
              "      <td>0</td>\n",
              "      <td>0</td>\n",
              "      <td>1</td>\n",
              "      <td>1</td>\n",
              "      <td>1</td>\n",
              "      <td>1</td>\n",
              "    </tr>\n",
              "    <tr>\n",
              "      <th>3</th>\n",
              "      <td>20</td>\n",
              "      <td>0</td>\n",
              "      <td>0</td>\n",
              "      <td>1</td>\n",
              "      <td>0</td>\n",
              "      <td>0</td>\n",
              "      <td>0</td>\n",
              "      <td>1</td>\n",
              "      <td>0</td>\n",
              "      <td>0</td>\n",
              "      <td>...</td>\n",
              "      <td>1</td>\n",
              "      <td>4</td>\n",
              "      <td>0</td>\n",
              "      <td>0</td>\n",
              "      <td>0</td>\n",
              "      <td>0</td>\n",
              "      <td>0</td>\n",
              "      <td>1</td>\n",
              "      <td>0</td>\n",
              "      <td>1</td>\n",
              "    </tr>\n",
              "    <tr>\n",
              "      <th>4</th>\n",
              "      <td>21</td>\n",
              "      <td>1</td>\n",
              "      <td>1</td>\n",
              "      <td>0</td>\n",
              "      <td>0</td>\n",
              "      <td>0</td>\n",
              "      <td>0</td>\n",
              "      <td>1</td>\n",
              "      <td>0</td>\n",
              "      <td>0</td>\n",
              "      <td>...</td>\n",
              "      <td>1</td>\n",
              "      <td>3</td>\n",
              "      <td>0</td>\n",
              "      <td>0</td>\n",
              "      <td>0</td>\n",
              "      <td>1</td>\n",
              "      <td>1</td>\n",
              "      <td>1</td>\n",
              "      <td>1</td>\n",
              "      <td>1</td>\n",
              "    </tr>\n",
              "  </tbody>\n",
              "</table>\n",
              "<p>5 rows × 32 columns</p>\n",
              "</div>\n",
              "      <button class=\"colab-df-convert\" onclick=\"convertToInteractive('df-0dd76aac-6663-4ee1-8ae2-f9b0b6c008c2')\"\n",
              "              title=\"Convert this dataframe to an interactive table.\"\n",
              "              style=\"display:none;\">\n",
              "        \n",
              "  <svg xmlns=\"http://www.w3.org/2000/svg\" height=\"24px\"viewBox=\"0 0 24 24\"\n",
              "       width=\"24px\">\n",
              "    <path d=\"M0 0h24v24H0V0z\" fill=\"none\"/>\n",
              "    <path d=\"M18.56 5.44l.94 2.06.94-2.06 2.06-.94-2.06-.94-.94-2.06-.94 2.06-2.06.94zm-11 1L8.5 8.5l.94-2.06 2.06-.94-2.06-.94L8.5 2.5l-.94 2.06-2.06.94zm10 10l.94 2.06.94-2.06 2.06-.94-2.06-.94-.94-2.06-.94 2.06-2.06.94z\"/><path d=\"M17.41 7.96l-1.37-1.37c-.4-.4-.92-.59-1.43-.59-.52 0-1.04.2-1.43.59L10.3 9.45l-7.72 7.72c-.78.78-.78 2.05 0 2.83L4 21.41c.39.39.9.59 1.41.59.51 0 1.02-.2 1.41-.59l7.78-7.78 2.81-2.81c.8-.78.8-2.07 0-2.86zM5.41 20L4 18.59l7.72-7.72 1.47 1.35L5.41 20z\"/>\n",
              "  </svg>\n",
              "      </button>\n",
              "      \n",
              "  <style>\n",
              "    .colab-df-container {\n",
              "      display:flex;\n",
              "      flex-wrap:wrap;\n",
              "      gap: 12px;\n",
              "    }\n",
              "\n",
              "    .colab-df-convert {\n",
              "      background-color: #E8F0FE;\n",
              "      border: none;\n",
              "      border-radius: 50%;\n",
              "      cursor: pointer;\n",
              "      display: none;\n",
              "      fill: #1967D2;\n",
              "      height: 32px;\n",
              "      padding: 0 0 0 0;\n",
              "      width: 32px;\n",
              "    }\n",
              "\n",
              "    .colab-df-convert:hover {\n",
              "      background-color: #E2EBFA;\n",
              "      box-shadow: 0px 1px 2px rgba(60, 64, 67, 0.3), 0px 1px 3px 1px rgba(60, 64, 67, 0.15);\n",
              "      fill: #174EA6;\n",
              "    }\n",
              "\n",
              "    [theme=dark] .colab-df-convert {\n",
              "      background-color: #3B4455;\n",
              "      fill: #D2E3FC;\n",
              "    }\n",
              "\n",
              "    [theme=dark] .colab-df-convert:hover {\n",
              "      background-color: #434B5C;\n",
              "      box-shadow: 0px 1px 3px 1px rgba(0, 0, 0, 0.15);\n",
              "      filter: drop-shadow(0px 1px 2px rgba(0, 0, 0, 0.3));\n",
              "      fill: #FFFFFF;\n",
              "    }\n",
              "  </style>\n",
              "\n",
              "      <script>\n",
              "        const buttonEl =\n",
              "          document.querySelector('#df-0dd76aac-6663-4ee1-8ae2-f9b0b6c008c2 button.colab-df-convert');\n",
              "        buttonEl.style.display =\n",
              "          google.colab.kernel.accessAllowed ? 'block' : 'none';\n",
              "\n",
              "        async function convertToInteractive(key) {\n",
              "          const element = document.querySelector('#df-0dd76aac-6663-4ee1-8ae2-f9b0b6c008c2');\n",
              "          const dataTable =\n",
              "            await google.colab.kernel.invokeFunction('convertToInteractive',\n",
              "                                                     [key], {});\n",
              "          if (!dataTable) return;\n",
              "\n",
              "          const docLinkHtml = 'Like what you see? Visit the ' +\n",
              "            '<a target=\"_blank\" href=https://colab.research.google.com/notebooks/data_table.ipynb>data table notebook</a>'\n",
              "            + ' to learn more about interactive tables.';\n",
              "          element.innerHTML = '';\n",
              "          dataTable['output_type'] = 'display_data';\n",
              "          await google.colab.output.renderOutput(dataTable, element);\n",
              "          const docLink = document.createElement('div');\n",
              "          docLink.innerHTML = docLinkHtml;\n",
              "          element.appendChild(docLink);\n",
              "        }\n",
              "      </script>\n",
              "    </div>\n",
              "  </div>\n",
              "  "
            ]
          },
          "metadata": {},
          "execution_count": 3
        }
      ],
      "source": [
        "applicants_data_df = pd.read_csv(\"/content/drive/MyDrive/Colab Notebooks/Data Mining/summative/processed_applicants_data.csv\")\n",
        "applicants_data_df.head(5)"
      ]
    },
    {
      "cell_type": "code",
      "execution_count": null,
      "metadata": {
        "id": "77yB_8JwyuAs",
        "outputId": "bc0de971-df5e-4b89-8e80-71c2e36189b9",
        "colab": {
          "base_uri": "https://localhost:8080/"
        }
      },
      "outputs": [
        {
          "output_type": "execute_result",
          "data": {
            "text/plain": [
              "(1873, 32)"
            ]
          },
          "metadata": {},
          "execution_count": 4
        }
      ],
      "source": [
        "applicants_data_df.shape"
      ]
    },
    {
      "cell_type": "code",
      "source": [
        "arr = applicants_data_df.values.tolist()\n",
        "out = {}\n",
        "x =0\n",
        "for i in applicants_data_df.columns.tolist():\n",
        "  out[i] = arr[1][x]\n",
        "  x +=1\n",
        "out"
      ],
      "metadata": {
        "colab": {
          "base_uri": "https://localhost:8080/"
        },
        "id": "KHhGh2LpTuFC",
        "outputId": "a7b043ec-1854-4f85-fda1-2bd68d32cc71"
      },
      "execution_count": null,
      "outputs": [
        {
          "output_type": "execute_result",
          "data": {
            "text/plain": [
              "{'Age': 22,\n",
              " 'Gender': 0,\n",
              " 'admissions_decision': 0,\n",
              " 'education_level_Diploma certificate': 0,\n",
              " 'education_level_High school': 1,\n",
              " 'education_level_Masters Degree': 0,\n",
              " 'education_level_Primary school': 0,\n",
              " 'education_level_University': 0,\n",
              " 'father_alive': 1,\n",
              " 'final_status_Active': 1,\n",
              " 'final_status_Dropped': 0,\n",
              " 'final_status_Rejected': 0,\n",
              " 'got_scholarship': 0,\n",
              " 'guardian_dependants': 4,\n",
              " 'has_guardian': 1,\n",
              " 'have_source_of_income': 0,\n",
              " 'joining_university': 0,\n",
              " 'location': 'Nairobi',\n",
              " 'marital_status': 1,\n",
              " 'mother_alive': 1,\n",
              " 'neighborhood_Court': 0,\n",
              " 'neighborhood_Estate': 0,\n",
              " 'neighborhood_Slum': 0,\n",
              " 'neighborhood_Village': 1,\n",
              " 'no_of_siblings': 1,\n",
              " 'own_dependants': 0,\n",
              " 'prev_student': 0,\n",
              " 'rent_house': 0,\n",
              " 'source': 0,\n",
              " 'tech_experience': 1,\n",
              " 'used_computer': 1,\n",
              " 'work_experience': 1}"
            ]
          },
          "metadata": {},
          "execution_count": 8
        }
      ]
    },
    {
      "cell_type": "code",
      "execution_count": null,
      "metadata": {
        "id": "tM5X0woDyuAt"
      },
      "outputs": [],
      "source": [
        "# drop columns that we dont want to be part of the features because applicants did not give us said column data\n",
        "applicants_df = applicants_data_df.drop([\"final_status_Active\",\"final_status_Dropped\",\"final_status_Rejected\", \"location\" ], axis=1)"
      ]
    },
    {
      "cell_type": "code",
      "execution_count": null,
      "metadata": {
        "id": "3wKFxXcxyuAt"
      },
      "outputs": [],
      "source": [
        "from sklearn.model_selection import train_test_split\n",
        "X = applicants_df.drop(\"admissions_decision\", axis=1)\n",
        "Y = applicants_df[\"admissions_decision\"]\n",
        "x_train, x_test, y_train, y_test = train_test_split(X, Y, test_size=0.2)\n"
      ]
    },
    {
      "cell_type": "code",
      "execution_count": null,
      "metadata": {
        "id": "J2AT-JLGyuAt",
        "outputId": "20eee852-94b5-47df-a2fb-103982888f61",
        "colab": {
          "base_uri": "https://localhost:8080/"
        }
      },
      "outputs": [
        {
          "output_type": "execute_result",
          "data": {
            "text/plain": [
              "((1498, 27), (1498,))"
            ]
          },
          "metadata": {},
          "execution_count": 9
        }
      ],
      "source": [
        "x_train.shape, y_train.shape"
      ]
    },
    {
      "cell_type": "code",
      "execution_count": null,
      "metadata": {
        "id": "OU6sKCcKyuAt",
        "outputId": "dc406bd7-ddaa-4b0c-d86f-5cc9c6750bd0"
      },
      "outputs": [
        {
          "data": {
            "text/plain": [
              "((375, 27), (375,))"
            ]
          },
          "execution_count": 555,
          "metadata": {},
          "output_type": "execute_result"
        }
      ],
      "source": [
        "x_test.shape, y_test.shape"
      ]
    },
    {
      "cell_type": "markdown",
      "metadata": {
        "id": "R4eV3dx5yuAu"
      },
      "source": [
        "#Binary Classification Logistic regression"
      ]
    },
    {
      "cell_type": "markdown",
      "source": [
        "Training with the logistic regression model"
      ],
      "metadata": {
        "id": "Y61NA7Eu5D_o"
      }
    },
    {
      "cell_type": "code",
      "execution_count": null,
      "metadata": {
        "id": "j2yhhQ9DyuAu"
      },
      "outputs": [],
      "source": [
        "from sklearn.linear_model import LogisticRegression\n",
        "logistic_model = LogisticRegression(penalty='l2', C=1.0, solver='liblinear').fit(x_train, y_train)"
      ]
    },
    {
      "cell_type": "code",
      "execution_count": null,
      "metadata": {
        "id": "K4yFMlRzyuAu"
      },
      "outputs": [],
      "source": [
        "y_pred = logistic_model.predict(x_test)"
      ]
    },
    {
      "cell_type": "code",
      "execution_count": null,
      "metadata": {
        "id": "CIkvOO1jyuAu"
      },
      "outputs": [],
      "source": [
        "pred_results =pd.DataFrame({\"y_test\": y_test, \"y_pred\": y_pred})"
      ]
    },
    {
      "cell_type": "code",
      "execution_count": null,
      "metadata": {
        "id": "KeFEktlfyuAu",
        "outputId": "5407ec1d-8722-4421-9704-d17d2e75e2b8"
      },
      "outputs": [
        {
          "data": {
            "text/html": [
              "<div>\n",
              "<style scoped>\n",
              "    .dataframe tbody tr th:only-of-type {\n",
              "        vertical-align: middle;\n",
              "    }\n",
              "\n",
              "    .dataframe tbody tr th {\n",
              "        vertical-align: top;\n",
              "    }\n",
              "\n",
              "    .dataframe thead th {\n",
              "        text-align: right;\n",
              "    }\n",
              "</style>\n",
              "<table border=\"1\" class=\"dataframe\">\n",
              "  <thead>\n",
              "    <tr style=\"text-align: right;\">\n",
              "      <th></th>\n",
              "      <th>y_test</th>\n",
              "      <th>y_pred</th>\n",
              "    </tr>\n",
              "  </thead>\n",
              "  <tbody>\n",
              "    <tr>\n",
              "      <th>778</th>\n",
              "      <td>1</td>\n",
              "      <td>1</td>\n",
              "    </tr>\n",
              "    <tr>\n",
              "      <th>994</th>\n",
              "      <td>1</td>\n",
              "      <td>1</td>\n",
              "    </tr>\n",
              "    <tr>\n",
              "      <th>1639</th>\n",
              "      <td>1</td>\n",
              "      <td>1</td>\n",
              "    </tr>\n",
              "    <tr>\n",
              "      <th>185</th>\n",
              "      <td>1</td>\n",
              "      <td>1</td>\n",
              "    </tr>\n",
              "    <tr>\n",
              "      <th>1521</th>\n",
              "      <td>1</td>\n",
              "      <td>1</td>\n",
              "    </tr>\n",
              "  </tbody>\n",
              "</table>\n",
              "</div>"
            ],
            "text/plain": [
              "      y_test  y_pred\n",
              "778        1       1\n",
              "994        1       1\n",
              "1639       1       1\n",
              "185        1       1\n",
              "1521       1       1"
            ]
          },
          "execution_count": 559,
          "metadata": {},
          "output_type": "execute_result"
        }
      ],
      "source": [
        "pred_results.head(5)"
      ]
    },
    {
      "cell_type": "code",
      "execution_count": null,
      "metadata": {
        "id": "Bk5aDKbFyuAv"
      },
      "outputs": [],
      "source": [
        "from sklearn.metrics import accuracy_score, precision_score, recall_score"
      ]
    },
    {
      "cell_type": "code",
      "execution_count": null,
      "metadata": {
        "id": "t06n-DTtyuAv"
      },
      "outputs": [],
      "source": [
        "acc = accuracy_score(y_test, y_pred)\n",
        "prec = precision_score(y_test, y_pred)\n",
        "recall = recall_score(y_test, y_pred)"
      ]
    },
    {
      "cell_type": "markdown",
      "source": [
        "Evaluating the model based on its Accuracy, precission and recall"
      ],
      "metadata": {
        "id": "_SvA0jK45Key"
      }
    },
    {
      "cell_type": "code",
      "execution_count": null,
      "metadata": {
        "id": "F4PkAY0HyuAv",
        "outputId": "1a76e8d1-9411-47f0-cbd6-86b8797043e0"
      },
      "outputs": [
        {
          "name": "stdout",
          "output_type": "stream",
          "text": [
            "accuracy_score :  0.8213333333333334\n",
            "precision_score :  0.8213333333333334\n",
            "recall_score :  1.0\n"
          ]
        }
      ],
      "source": [
        "print(\"accuracy_score : \", acc) # how many of the predicted applicants value did the model predict correct\n",
        "print(\"precision_score : \", prec) # how many of the applicants that the model thought admitted actualy were admitted\n",
        "print(\"recall_score : \", recall) # how many of the actual applicants did the model correctly predict"
      ]
    },
    {
      "cell_type": "markdown",
      "metadata": {
        "id": "PiVGNuQ8yuAv"
      },
      "source": [
        "### Multiple models"
      ]
    },
    {
      "cell_type": "code",
      "execution_count": null,
      "metadata": {
        "id": "4ubBT7A7yuAv"
      },
      "outputs": [],
      "source": [
        "# imports"
      ]
    },
    {
      "cell_type": "code",
      "execution_count": null,
      "metadata": {
        "id": "OIyO407_yuAv"
      },
      "outputs": [],
      "source": [
        "result_dict = {}"
      ]
    },
    {
      "cell_type": "code",
      "execution_count": null,
      "metadata": {
        "id": "K8CsvXf8yuAw"
      },
      "outputs": [],
      "source": [
        "def summarize_classification( y_test, y_pred):\n",
        "    acc = accuracy_score(y_test, y_pred, normalize=True)\n",
        "    num_acc = accuracy_score(y_test, y_pred, normalize=False)\n",
        "    prec = precision_score(y_test, y_pred)\n",
        "    recall = recall_score(y_test, y_pred)\n",
        "    return {\n",
        "        'accuracy': acc,\n",
        "        'precision': prec,\n",
        "        'recall': recall,\n",
        "        'accuracy_count': num_acc\n",
        "    }"
      ]
    },
    {
      "cell_type": "code",
      "execution_count": null,
      "metadata": {
        "id": "IuJj15yNyuAw"
      },
      "outputs": [],
      "source": [
        "def build_model(classifier_fn, name_of_y_col, name_of_x_cols, dataset, test_frac=0.2):\n",
        "    X = dataset[name_of_x_cols]\n",
        "    Y = dataset[name_of_y_col]\n",
        "    x_train, x_test, y_train, y_test = train_test_split(X, Y, test_size=test_frac)\n",
        "\n",
        "    model= classifier_fn(x_train, y_train)\n",
        "\n",
        "    y_pred = model.predict(x_test)\n",
        "\n",
        "    y_pred_train = model.predict(x_train)\n",
        "\n",
        "    train_summary = summarize_classification( y_train,y_pred_train )\n",
        "    test_summary = summarize_classification( y_test, y_pred )\n",
        "\n",
        "    pred_results = pd.DataFrame( {\n",
        "        'y_test': y_test,\n",
        "        'y_pred': y_pred\n",
        "    })\n",
        "\n",
        "    model_crosstab = pd.crosstab( pred_results.y_pred, pred_results.y_test)\n",
        "\n",
        "    return {\n",
        "        'Training': train_summary,\n",
        "        'Test': test_summary,\n",
        "        'Confusion matrix': model_crosstab\n",
        "    }"
      ]
    },
    {
      "cell_type": "code",
      "execution_count": null,
      "metadata": {
        "id": "B6kkm1sWyuAw"
      },
      "outputs": [],
      "source": [
        "def compare_results():\n",
        "    for key in result_dict:\n",
        "        print('Classification Model: ', key)\n",
        "        print()\n",
        "        print(\"Training data\")\n",
        "        for score in result_dict[key]['Training']:\n",
        "            print(score, result_dict[key]['Training'][score])\n",
        "        print()\n",
        "        print(\"Test data\")\n",
        "        for score in result_dict[key]['Test']:\n",
        "            print(score, result_dict[key]['Test'][score]) \n",
        "        print()"
      ]
    },
    {
      "cell_type": "markdown",
      "source": [
        "## Creating models to compare against each other"
      ],
      "metadata": {
        "id": "SkunoUvd6uFb"
      }
    },
    {
      "cell_type": "code",
      "execution_count": null,
      "metadata": {
        "id": "pxwcr40myuAw"
      },
      "outputs": [],
      "source": [
        "def logistic_fn(x_train, y_train):\n",
        "    model = LogisticRegression(solver='liblinear')\n",
        "    model.fit(x_train, y_train)\n",
        "    return model"
      ]
    },
    {
      "cell_type": "code",
      "execution_count": null,
      "metadata": {
        "id": "Wcc2tcUjyuAw"
      },
      "outputs": [],
      "source": [
        "# linearSVC\n",
        "from sklearn.svm import LinearSVC\n",
        "def Linearsvc_fn(x_train, y_train):\n",
        "    model = LinearSVC(penalty='l2', dual=False)\n",
        "    model.fit(x_train, y_train)\n",
        "\n",
        "    return model"
      ]
    },
    {
      "cell_type": "code",
      "execution_count": null,
      "metadata": {
        "id": "BEbiLOJ0yuAx"
      },
      "outputs": [],
      "source": [
        "#Naive Bayes \n",
        "from sklearn.naive_bayes import MultinomialNB\n",
        "def NaiveBayes(x_train, y_train):\n",
        "    model = MultinomialNB()\n",
        "    model.fit(x_train, y_train)\n",
        "\n",
        "    return model"
      ]
    },
    {
      "cell_type": "code",
      "execution_count": null,
      "metadata": {
        "id": "6CcMPJoUyuAx"
      },
      "outputs": [],
      "source": [
        "FEATURES = applicants_df.columns.tolist()\n",
        "FEATURES = FEATURES[:len(FEATURES)-1]"
      ]
    },
    {
      "cell_type": "markdown",
      "source": [
        "## Training the models"
      ],
      "metadata": {
        "id": "hsJ4D2Gi697X"
      }
    },
    {
      "cell_type": "code",
      "execution_count": null,
      "metadata": {
        "id": "quIzyTnZyuAx"
      },
      "outputs": [],
      "source": [
        "result_dict[\"Logistic model\"] = build_model( logistic_fn, 'admissions_decision', FEATURES,applicants_df )"
      ]
    },
    {
      "cell_type": "code",
      "execution_count": null,
      "metadata": {
        "id": "_ecxESAPyuAx"
      },
      "outputs": [],
      "source": [
        "result_dict[\"LinearSVC model\"] = build_model( Linearsvc_fn, 'admissions_decision', FEATURES,applicants_df )"
      ]
    },
    {
      "cell_type": "code",
      "execution_count": null,
      "metadata": {
        "id": "yHA6DYFJyuAx"
      },
      "outputs": [],
      "source": [
        "result_dict[\"Naive Bayes model\"] = build_model( NaiveBayes, 'admissions_decision', FEATURES,applicants_df )"
      ]
    },
    {
      "cell_type": "markdown",
      "source": [
        "## Evaluating or model built"
      ],
      "metadata": {
        "id": "EwSXS9xQ7Gfd"
      }
    },
    {
      "cell_type": "markdown",
      "source": [
        "The three models all have similar results and hence we will be proceding to optimize and hypertune parameters for the Logistic Regression Model "
      ],
      "metadata": {
        "id": "zCJAzhVL8JyG"
      }
    },
    {
      "cell_type": "code",
      "execution_count": null,
      "metadata": {
        "id": "lZclObINyuAx",
        "outputId": "25a837c2-f3b4-4ec6-d1f8-aea6a30742fa"
      },
      "outputs": [
        {
          "name": "stdout",
          "output_type": "stream",
          "text": [
            "Classification Model:  Logistic model\n",
            "\n",
            "Training data\n",
            "accuracy 0.8331108144192256\n",
            "precision 0.832999331997328\n",
            "recall 1.0\n",
            "accuracy_count 1248\n",
            "\n",
            "Test data\n",
            "accuracy 0.832\n",
            "precision 0.8315508021390374\n",
            "recall 1.0\n",
            "accuracy_count 312\n",
            "\n",
            "Classification Model:  LinearSVC model\n",
            "\n",
            "Training data\n",
            "accuracy 0.828437917222964\n",
            "precision 0.8282085561497327\n",
            "recall 1.0\n",
            "accuracy_count 1241\n",
            "\n",
            "Test data\n",
            "accuracy 0.8506666666666667\n",
            "precision 0.8506666666666667\n",
            "recall 1.0\n",
            "accuracy_count 319\n",
            "\n",
            "Classification Model:  Naive Bayes model\n",
            "\n",
            "Training data\n",
            "accuracy 0.8324432576769025\n",
            "precision 0.832999331997328\n",
            "recall 0.999198717948718\n",
            "accuracy_count 1247\n",
            "\n",
            "Test data\n",
            "accuracy 0.8266666666666667\n",
            "precision 0.8266666666666667\n",
            "recall 1.0\n",
            "accuracy_count 310\n",
            "\n"
          ]
        }
      ],
      "source": [
        "compare_results()"
      ]
    },
    {
      "cell_type": "markdown",
      "source": [
        "## Optimization of the Logistic Regression Model "
      ],
      "metadata": {
        "id": "R_upJM-Q7TKN"
      }
    },
    {
      "cell_type": "code",
      "source": [
        "from sklearn.model_selection  import StratifiedKFold, GridSearchCV\n",
        "import numpy as np\n"
      ],
      "metadata": {
        "id": "nZGKfTEJ7SUe"
      },
      "execution_count": null,
      "outputs": []
    },
    {
      "cell_type": "code",
      "source": [
        "#Hyperparameter tuning\n",
        "# define model/create instance\n",
        "lr=LogisticRegression()\n",
        "#tuning weight for minority class then weight for majority class will be 1-weight of minority class\n",
        "#Setting the range for class weights\n",
        "weights = np.linspace(0.0,0.99,500)\n",
        "#specifying all hyperparameters with possible values\n",
        "param= {'C': [0.1, 0.5, 1,10,15,20], 'penalty': ['l1', 'l2'],\"class_weight\":[{0:x ,1:1.0 -x} for x in weights]}\n",
        "# create 5 folds\n",
        "folds = StratifiedKFold(n_splits = 5, shuffle = True, random_state = 42)\n",
        "#Gridsearch for hyperparam tuning\n",
        "model= GridSearchCV(estimator= lr,param_grid=param,scoring=\"f1\",cv=folds,return_train_score=True)\n",
        "#train model to learn relationships between x and y\n",
        "model.fit(x_train,y_train)"
      ],
      "metadata": {
        "id": "GOnrFSiJ8tXe"
      },
      "execution_count": null,
      "outputs": []
    },
    {
      "cell_type": "code",
      "source": [
        "# print best hyperparameters\n",
        "print(\"Best F1 score: \", model.best_score_)\n",
        "print(\"Best hyperparameters: \", model.best_params_)"
      ],
      "metadata": {
        "id": "tlnWaVZw83ar",
        "colab": {
          "base_uri": "https://localhost:8080/"
        },
        "outputId": "6a337fd2-b98b-474b-bb36-eb00f7b446f4"
      },
      "execution_count": null,
      "outputs": [
        {
          "output_type": "stream",
          "name": "stdout",
          "text": [
            "Best F1 score:  0.9106441192358602\n",
            "Best hyperparameters:  {'C': 0.5, 'class_weight': {0: 0.6229659318637275, 1: 0.3770340681362725}, 'penalty': 'l2'}\n"
          ]
        }
      ]
    },
    {
      "cell_type": "markdown",
      "source": [
        "Build Model using optimal values of Hyperparameters\n"
      ],
      "metadata": {
        "id": "HuuqIxOn88dI"
      }
    },
    {
      "cell_type": "code",
      "source": [
        "#Building Model again with best params\n",
        "lr2=LogisticRegression(class_weight={0: 0.622, 1: 0.377},C=0.5,penalty=\"l2\", solver='liblinear')\n",
        "lr2.fit(x_train,y_train)"
      ],
      "metadata": {
        "id": "wlkLaK6889VI",
        "colab": {
          "base_uri": "https://localhost:8080/"
        },
        "outputId": "681d2205-549e-47c1-cee5-b9f5ca78989e"
      },
      "execution_count": null,
      "outputs": [
        {
          "output_type": "execute_result",
          "data": {
            "text/plain": [
              "LogisticRegression(C=0.5, class_weight={0: 0.622, 1: 0.377}, solver='liblinear')"
            ]
          },
          "metadata": {},
          "execution_count": 25
        }
      ]
    },
    {
      "cell_type": "code",
      "source": [
        "y_pred = lr2.predict(x_test)"
      ],
      "metadata": {
        "id": "bdvM6KXlH8hJ"
      },
      "execution_count": null,
      "outputs": []
    },
    {
      "cell_type": "code",
      "source": [
        "from sklearn.metrics import accuracy_score, precision_score, recall_score"
      ],
      "metadata": {
        "id": "Yl4Y6I9ZIqcT"
      },
      "execution_count": null,
      "outputs": []
    },
    {
      "cell_type": "code",
      "source": [
        "acc = accuracy_score(y_test, y_pred)\n",
        "prec = precision_score(y_test, y_pred)\n",
        "recall = recall_score(y_test, y_pred)"
      ],
      "metadata": {
        "id": "ipcAALS6IwL6"
      },
      "execution_count": null,
      "outputs": []
    },
    {
      "cell_type": "markdown",
      "source": [
        "Evaluating optimized model"
      ],
      "metadata": {
        "id": "zEPJiF8YI5oi"
      }
    },
    {
      "cell_type": "code",
      "source": [
        "print(\"accuracy_score : \", acc) # how many of the predicted applicants value did the model predict correct\n",
        "print(\"precision_score : \", prec) # how many of the applicants that the model thought admitted actualy were admitted\n",
        "print(\"recall_score : \", recall) # how many of the actual applicants did the model correctly predict"
      ],
      "metadata": {
        "colab": {
          "base_uri": "https://localhost:8080/"
        },
        "id": "5csgqLS4I1lF",
        "outputId": "b5929b6d-1193-47da-b51b-7686a97ca631"
      },
      "execution_count": null,
      "outputs": [
        {
          "output_type": "stream",
          "name": "stdout",
          "text": [
            "accuracy_score :  0.824\n",
            "precision_score :  0.8279569892473119\n",
            "recall_score :  0.9935483870967742\n"
          ]
        }
      ]
    },
    {
      "cell_type": "markdown",
      "source": [
        "## Conclusion\n",
        "\n",
        "before optimization the evaluation of the model was as follows;\n",
        "\n",
        "accuracy_score :  0.8213333333333334\n",
        "\n",
        "precision_score :  0.8213333333333334\n",
        "\n",
        "recall_score :  1.0"
      ],
      "metadata": {
        "id": "DMPuMjF5JKZI"
      }
    },
    {
      "cell_type": "markdown",
      "source": [
        "The accuracy score and precission scores of the model have improved even though not with a huge percentage"
      ],
      "metadata": {
        "id": "vh0yeYuGJdxR"
      }
    },
    {
      "cell_type": "code",
      "source": [
        ""
      ],
      "metadata": {
        "id": "r2oGk2vSJc5V"
      },
      "execution_count": null,
      "outputs": []
    },
    {
      "cell_type": "markdown",
      "source": [
        "Anvil Connector"
      ],
      "metadata": {
        "id": "nQ_Hjs0fgfaK"
      }
    },
    {
      "cell_type": "code",
      "source": [
        ""
      ],
      "metadata": {
        "id": "jRCsfv3rghGW"
      },
      "execution_count": null,
      "outputs": []
    }
  ],
  "metadata": {
    "interpreter": {
      "hash": "2146f7101d871e612949efb3e04f02e45f1caf79f7dc973bb65773b010f27383"
    },
    "kernelspec": {
      "display_name": "Python 3.9.7 ('base')",
      "language": "python",
      "name": "python3"
    },
    "language_info": {
      "codemirror_mode": {
        "name": "ipython",
        "version": 3
      },
      "file_extension": ".py",
      "mimetype": "text/x-python",
      "name": "python",
      "nbconvert_exporter": "python",
      "pygments_lexer": "ipython3",
      "version": "3.9.7"
    },
    "orig_nbformat": 4,
    "colab": {
      "name": "Data Collection and Cleaning Notebook.ipynb",
      "provenance": [],
      "collapsed_sections": [
        "lJttfzFMyuAc",
        "B5v8eok7yuAe",
        "9dUXk4doyuAi",
        "Qa6Kzx4XyuAj",
        "2BA_jdTVyuAn",
        "p7a8eGCMyuAo",
        "PiVGNuQ8yuAv",
        "SkunoUvd6uFb",
        "hsJ4D2Gi697X",
        "EwSXS9xQ7Gfd",
        "R_upJM-Q7TKN",
        "DMPuMjF5JKZI"
      ]
    }
  },
  "nbformat": 4,
  "nbformat_minor": 0
}