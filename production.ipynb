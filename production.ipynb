{
  "cells": [
    {
      "cell_type": "code",
      "metadata": {
        "tags": [],
        "cell_id": "36014786-097b-40e5-b81a-6fbd817a1eae",
        "deepnote_to_be_reexecuted": false,
        "source_hash": "9b82ee11",
        "execution_start": 1649093907422,
        "execution_millis": 3,
        "deepnote_cell_type": "code",
        "deepnote_cell_height": 81,
        "id": "Wyfv15vBiRmE"
      },
      "source": [
        "import pandas as pd"
      ],
      "execution_count": null,
      "outputs": []
    },
    {
      "cell_type": "code",
      "source": [
        "from google.colab import drive\n",
        "drive.mount('/content/drive')"
      ],
      "metadata": {
        "colab": {
          "base_uri": "https://localhost:8080/"
        },
        "id": "uAvWtB3uibUF",
        "outputId": "04ac1cac-483c-44bb-cf3f-7c0bb26be35f"
      },
      "execution_count": null,
      "outputs": [
        {
          "output_type": "stream",
          "name": "stdout",
          "text": [
            "Mounted at /content/drive\n"
          ]
        }
      ]
    },
    {
      "cell_type": "code",
      "metadata": {
        "cell_id": "246f13d509b042f5aa971616a866999a",
        "tags": [],
        "deepnote_to_be_reexecuted": false,
        "source_hash": "6875a784",
        "execution_start": 1649093907430,
        "execution_millis": 118,
        "deepnote_cell_type": "code",
        "deepnote_cell_height": 428,
        "colab": {
          "base_uri": "https://localhost:8080/",
          "height": 316
        },
        "id": "JzJygtn0iRmJ",
        "outputId": "b67d8d53-d8da-4cce-ecd5-1f52786c2138"
      },
      "source": [
        "applicants_data_df = pd.read_csv(\"/content/drive/MyDrive/Colab Notebooks/Data Mining/summative/processed_applicants_data.csv\")\n",
        "applicants_data_df.head(5)"
      ],
      "execution_count": null,
      "outputs": [
        {
          "output_type": "execute_result",
          "data": {
            "text/plain": [
              "   Age  Gender  education_level_Diploma certificate  \\\n",
              "0   25       1                                    0   \n",
              "1   22       0                                    0   \n",
              "2   20       0                                    0   \n",
              "3   20       0                                    0   \n",
              "4   21       1                                    1   \n",
              "\n",
              "   education_level_High school  education_level_Masters Degree  \\\n",
              "0                            0                               0   \n",
              "1                            1                               0   \n",
              "2                            1                               0   \n",
              "3                            1                               0   \n",
              "4                            0                               0   \n",
              "\n",
              "   education_level_Primary school  education_level_University  father_alive  \\\n",
              "0                               0                           1             1   \n",
              "1                               0                           0             1   \n",
              "2                               0                           0             1   \n",
              "3                               0                           0             1   \n",
              "4                               0                           0             1   \n",
              "\n",
              "   final_status_Active  final_status_Dropped  ...  neighborhood_Village  \\\n",
              "0                    0                     0  ...                     1   \n",
              "1                    1                     0  ...                     1   \n",
              "2                    0                     0  ...                     0   \n",
              "3                    0                     0  ...                     1   \n",
              "4                    0                     0  ...                     1   \n",
              "\n",
              "   no_of_siblings  own_dependants  prev_student  rent_house  source  \\\n",
              "0               4               0             0           0       0   \n",
              "1               1               0             0           0       0   \n",
              "2               3               0             0           0       0   \n",
              "3               4               0             0           0       0   \n",
              "4               3               0             0           0       1   \n",
              "\n",
              "  tech_experience  used_computer  work_experience  admissions_decision  \n",
              "0               1              1                1                    1  \n",
              "1               1              1                1                    0  \n",
              "2               1              1                1                    1  \n",
              "3               0              1                0                    1  \n",
              "4               1              1                1                    1  \n",
              "\n",
              "[5 rows x 32 columns]"
            ],
            "text/html": [
              "\n",
              "  <div id=\"df-10ba1261-80fe-410b-8c02-c9204e666c53\">\n",
              "    <div class=\"colab-df-container\">\n",
              "      <div>\n",
              "<style scoped>\n",
              "    .dataframe tbody tr th:only-of-type {\n",
              "        vertical-align: middle;\n",
              "    }\n",
              "\n",
              "    .dataframe tbody tr th {\n",
              "        vertical-align: top;\n",
              "    }\n",
              "\n",
              "    .dataframe thead th {\n",
              "        text-align: right;\n",
              "    }\n",
              "</style>\n",
              "<table border=\"1\" class=\"dataframe\">\n",
              "  <thead>\n",
              "    <tr style=\"text-align: right;\">\n",
              "      <th></th>\n",
              "      <th>Age</th>\n",
              "      <th>Gender</th>\n",
              "      <th>education_level_Diploma certificate</th>\n",
              "      <th>education_level_High school</th>\n",
              "      <th>education_level_Masters Degree</th>\n",
              "      <th>education_level_Primary school</th>\n",
              "      <th>education_level_University</th>\n",
              "      <th>father_alive</th>\n",
              "      <th>final_status_Active</th>\n",
              "      <th>final_status_Dropped</th>\n",
              "      <th>...</th>\n",
              "      <th>neighborhood_Village</th>\n",
              "      <th>no_of_siblings</th>\n",
              "      <th>own_dependants</th>\n",
              "      <th>prev_student</th>\n",
              "      <th>rent_house</th>\n",
              "      <th>source</th>\n",
              "      <th>tech_experience</th>\n",
              "      <th>used_computer</th>\n",
              "      <th>work_experience</th>\n",
              "      <th>admissions_decision</th>\n",
              "    </tr>\n",
              "  </thead>\n",
              "  <tbody>\n",
              "    <tr>\n",
              "      <th>0</th>\n",
              "      <td>25</td>\n",
              "      <td>1</td>\n",
              "      <td>0</td>\n",
              "      <td>0</td>\n",
              "      <td>0</td>\n",
              "      <td>0</td>\n",
              "      <td>1</td>\n",
              "      <td>1</td>\n",
              "      <td>0</td>\n",
              "      <td>0</td>\n",
              "      <td>...</td>\n",
              "      <td>1</td>\n",
              "      <td>4</td>\n",
              "      <td>0</td>\n",
              "      <td>0</td>\n",
              "      <td>0</td>\n",
              "      <td>0</td>\n",
              "      <td>1</td>\n",
              "      <td>1</td>\n",
              "      <td>1</td>\n",
              "      <td>1</td>\n",
              "    </tr>\n",
              "    <tr>\n",
              "      <th>1</th>\n",
              "      <td>22</td>\n",
              "      <td>0</td>\n",
              "      <td>0</td>\n",
              "      <td>1</td>\n",
              "      <td>0</td>\n",
              "      <td>0</td>\n",
              "      <td>0</td>\n",
              "      <td>1</td>\n",
              "      <td>1</td>\n",
              "      <td>0</td>\n",
              "      <td>...</td>\n",
              "      <td>1</td>\n",
              "      <td>1</td>\n",
              "      <td>0</td>\n",
              "      <td>0</td>\n",
              "      <td>0</td>\n",
              "      <td>0</td>\n",
              "      <td>1</td>\n",
              "      <td>1</td>\n",
              "      <td>1</td>\n",
              "      <td>0</td>\n",
              "    </tr>\n",
              "    <tr>\n",
              "      <th>2</th>\n",
              "      <td>20</td>\n",
              "      <td>0</td>\n",
              "      <td>0</td>\n",
              "      <td>1</td>\n",
              "      <td>0</td>\n",
              "      <td>0</td>\n",
              "      <td>0</td>\n",
              "      <td>1</td>\n",
              "      <td>0</td>\n",
              "      <td>0</td>\n",
              "      <td>...</td>\n",
              "      <td>0</td>\n",
              "      <td>3</td>\n",
              "      <td>0</td>\n",
              "      <td>0</td>\n",
              "      <td>0</td>\n",
              "      <td>0</td>\n",
              "      <td>1</td>\n",
              "      <td>1</td>\n",
              "      <td>1</td>\n",
              "      <td>1</td>\n",
              "    </tr>\n",
              "    <tr>\n",
              "      <th>3</th>\n",
              "      <td>20</td>\n",
              "      <td>0</td>\n",
              "      <td>0</td>\n",
              "      <td>1</td>\n",
              "      <td>0</td>\n",
              "      <td>0</td>\n",
              "      <td>0</td>\n",
              "      <td>1</td>\n",
              "      <td>0</td>\n",
              "      <td>0</td>\n",
              "      <td>...</td>\n",
              "      <td>1</td>\n",
              "      <td>4</td>\n",
              "      <td>0</td>\n",
              "      <td>0</td>\n",
              "      <td>0</td>\n",
              "      <td>0</td>\n",
              "      <td>0</td>\n",
              "      <td>1</td>\n",
              "      <td>0</td>\n",
              "      <td>1</td>\n",
              "    </tr>\n",
              "    <tr>\n",
              "      <th>4</th>\n",
              "      <td>21</td>\n",
              "      <td>1</td>\n",
              "      <td>1</td>\n",
              "      <td>0</td>\n",
              "      <td>0</td>\n",
              "      <td>0</td>\n",
              "      <td>0</td>\n",
              "      <td>1</td>\n",
              "      <td>0</td>\n",
              "      <td>0</td>\n",
              "      <td>...</td>\n",
              "      <td>1</td>\n",
              "      <td>3</td>\n",
              "      <td>0</td>\n",
              "      <td>0</td>\n",
              "      <td>0</td>\n",
              "      <td>1</td>\n",
              "      <td>1</td>\n",
              "      <td>1</td>\n",
              "      <td>1</td>\n",
              "      <td>1</td>\n",
              "    </tr>\n",
              "  </tbody>\n",
              "</table>\n",
              "<p>5 rows × 32 columns</p>\n",
              "</div>\n",
              "      <button class=\"colab-df-convert\" onclick=\"convertToInteractive('df-10ba1261-80fe-410b-8c02-c9204e666c53')\"\n",
              "              title=\"Convert this dataframe to an interactive table.\"\n",
              "              style=\"display:none;\">\n",
              "        \n",
              "  <svg xmlns=\"http://www.w3.org/2000/svg\" height=\"24px\"viewBox=\"0 0 24 24\"\n",
              "       width=\"24px\">\n",
              "    <path d=\"M0 0h24v24H0V0z\" fill=\"none\"/>\n",
              "    <path d=\"M18.56 5.44l.94 2.06.94-2.06 2.06-.94-2.06-.94-.94-2.06-.94 2.06-2.06.94zm-11 1L8.5 8.5l.94-2.06 2.06-.94-2.06-.94L8.5 2.5l-.94 2.06-2.06.94zm10 10l.94 2.06.94-2.06 2.06-.94-2.06-.94-.94-2.06-.94 2.06-2.06.94z\"/><path d=\"M17.41 7.96l-1.37-1.37c-.4-.4-.92-.59-1.43-.59-.52 0-1.04.2-1.43.59L10.3 9.45l-7.72 7.72c-.78.78-.78 2.05 0 2.83L4 21.41c.39.39.9.59 1.41.59.51 0 1.02-.2 1.41-.59l7.78-7.78 2.81-2.81c.8-.78.8-2.07 0-2.86zM5.41 20L4 18.59l7.72-7.72 1.47 1.35L5.41 20z\"/>\n",
              "  </svg>\n",
              "      </button>\n",
              "      \n",
              "  <style>\n",
              "    .colab-df-container {\n",
              "      display:flex;\n",
              "      flex-wrap:wrap;\n",
              "      gap: 12px;\n",
              "    }\n",
              "\n",
              "    .colab-df-convert {\n",
              "      background-color: #E8F0FE;\n",
              "      border: none;\n",
              "      border-radius: 50%;\n",
              "      cursor: pointer;\n",
              "      display: none;\n",
              "      fill: #1967D2;\n",
              "      height: 32px;\n",
              "      padding: 0 0 0 0;\n",
              "      width: 32px;\n",
              "    }\n",
              "\n",
              "    .colab-df-convert:hover {\n",
              "      background-color: #E2EBFA;\n",
              "      box-shadow: 0px 1px 2px rgba(60, 64, 67, 0.3), 0px 1px 3px 1px rgba(60, 64, 67, 0.15);\n",
              "      fill: #174EA6;\n",
              "    }\n",
              "\n",
              "    [theme=dark] .colab-df-convert {\n",
              "      background-color: #3B4455;\n",
              "      fill: #D2E3FC;\n",
              "    }\n",
              "\n",
              "    [theme=dark] .colab-df-convert:hover {\n",
              "      background-color: #434B5C;\n",
              "      box-shadow: 0px 1px 3px 1px rgba(0, 0, 0, 0.15);\n",
              "      filter: drop-shadow(0px 1px 2px rgba(0, 0, 0, 0.3));\n",
              "      fill: #FFFFFF;\n",
              "    }\n",
              "  </style>\n",
              "\n",
              "      <script>\n",
              "        const buttonEl =\n",
              "          document.querySelector('#df-10ba1261-80fe-410b-8c02-c9204e666c53 button.colab-df-convert');\n",
              "        buttonEl.style.display =\n",
              "          google.colab.kernel.accessAllowed ? 'block' : 'none';\n",
              "\n",
              "        async function convertToInteractive(key) {\n",
              "          const element = document.querySelector('#df-10ba1261-80fe-410b-8c02-c9204e666c53');\n",
              "          const dataTable =\n",
              "            await google.colab.kernel.invokeFunction('convertToInteractive',\n",
              "                                                     [key], {});\n",
              "          if (!dataTable) return;\n",
              "\n",
              "          const docLinkHtml = 'Like what you see? Visit the ' +\n",
              "            '<a target=\"_blank\" href=https://colab.research.google.com/notebooks/data_table.ipynb>data table notebook</a>'\n",
              "            + ' to learn more about interactive tables.';\n",
              "          element.innerHTML = '';\n",
              "          dataTable['output_type'] = 'display_data';\n",
              "          await google.colab.output.renderOutput(dataTable, element);\n",
              "          const docLink = document.createElement('div');\n",
              "          docLink.innerHTML = docLinkHtml;\n",
              "          element.appendChild(docLink);\n",
              "        }\n",
              "      </script>\n",
              "    </div>\n",
              "  </div>\n",
              "  "
            ]
          },
          "metadata": {},
          "execution_count": 5
        }
      ]
    },
    {
      "cell_type": "code",
      "metadata": {
        "cell_id": "7c272d10bccf4f169b176b532ee18f42",
        "tags": [],
        "deepnote_to_be_reexecuted": false,
        "source_hash": "fa373581",
        "execution_start": 1649093907552,
        "execution_millis": 1,
        "deepnote_cell_type": "code",
        "deepnote_cell_height": 118.1875,
        "deepnote_output_heights": [
          21.1875
        ],
        "colab": {
          "base_uri": "https://localhost:8080/"
        },
        "id": "V0kf2HhxiRmK",
        "outputId": "1c7a4be4-8baa-47e1-9a80-be424e087762"
      },
      "source": [
        "applicants_data_df.columns.tolist()"
      ],
      "execution_count": null,
      "outputs": [
        {
          "output_type": "execute_result",
          "data": {
            "text/plain": [
              "['Age',\n",
              " 'Gender',\n",
              " 'education_level_Diploma certificate',\n",
              " 'education_level_High school',\n",
              " 'education_level_Masters Degree',\n",
              " 'education_level_Primary school',\n",
              " 'education_level_University',\n",
              " 'father_alive',\n",
              " 'final_status_Active',\n",
              " 'final_status_Dropped',\n",
              " 'final_status_Rejected',\n",
              " 'got_scholarship',\n",
              " 'guardian_dependants',\n",
              " 'has_guardian',\n",
              " 'have_source_of_income',\n",
              " 'joining_university',\n",
              " 'location',\n",
              " 'marital_status',\n",
              " 'mother_alive',\n",
              " 'neighborhood_Court',\n",
              " 'neighborhood_Estate',\n",
              " 'neighborhood_Slum',\n",
              " 'neighborhood_Village',\n",
              " 'no_of_siblings',\n",
              " 'own_dependants',\n",
              " 'prev_student',\n",
              " 'rent_house',\n",
              " 'source',\n",
              " 'tech_experience',\n",
              " 'used_computer',\n",
              " 'work_experience',\n",
              " 'admissions_decision']"
            ]
          },
          "metadata": {},
          "execution_count": 6
        }
      ]
    },
    {
      "cell_type": "code",
      "metadata": {
        "cell_id": "16964bf1f8294bf193bd75328e1fabc5",
        "tags": [],
        "deepnote_to_be_reexecuted": false,
        "source_hash": "37dfd719",
        "execution_start": 1649093907602,
        "execution_millis": 9,
        "deepnote_cell_type": "code",
        "deepnote_cell_height": 99,
        "id": "qvqh2JmWiRmL"
      },
      "source": [
        "# drop columns that we dont want to be part of the features because applicants did not give us said column data\n",
        "applicants_df = applicants_data_df.drop([\"final_status_Active\",\"final_status_Dropped\",\"final_status_Rejected\", \"location\" ], axis=1)"
      ],
      "execution_count": null,
      "outputs": []
    },
    {
      "cell_type": "code",
      "metadata": {
        "cell_id": "67b9c20ee25a415085e29d8d9fffee51",
        "tags": [],
        "deepnote_to_be_reexecuted": false,
        "source_hash": "e0d5d08e",
        "execution_start": 1649093907603,
        "execution_millis": 1409,
        "deepnote_cell_type": "code",
        "deepnote_cell_height": 153,
        "id": "55UZaL4EiRmM"
      },
      "source": [
        "from sklearn.model_selection import train_test_split\n",
        "X = applicants_df.drop(\"admissions_decision\", axis=1)\n",
        "Y = applicants_df[\"admissions_decision\"]\n",
        "\n"
      ],
      "execution_count": null,
      "outputs": []
    },
    {
      "cell_type": "code",
      "source": [
        "x_train, x_test, y_train, y_test = train_test_split(X, Y, test_size=0.2, stratify=Y)"
      ],
      "metadata": {
        "id": "m31O7oHG_ZPM"
      },
      "execution_count": null,
      "outputs": []
    },
    {
      "cell_type": "code",
      "metadata": {
        "cell_id": "c113a2dc4b2c49009395ca3599a2d8a9",
        "tags": [],
        "deepnote_to_be_reexecuted": false,
        "source_hash": "53d7239",
        "execution_start": 1649093909016,
        "execution_millis": 379,
        "deepnote_cell_type": "code",
        "deepnote_cell_height": 118.1875,
        "deepnote_output_heights": [
          21.1875
        ],
        "colab": {
          "base_uri": "https://localhost:8080/"
        },
        "id": "V8WlIHYGiRmM",
        "outputId": "67a90f88-1711-4fd0-8587-2820d3dc3ec3"
      },
      "source": [
        "x_train.shape, y_train.shape"
      ],
      "execution_count": null,
      "outputs": [
        {
          "output_type": "execute_result",
          "data": {
            "text/plain": [
              "((1498, 27), (1498,))"
            ]
          },
          "metadata": {},
          "execution_count": 10
        }
      ]
    },
    {
      "cell_type": "code",
      "source": [
        "y_train.value_counts()"
      ],
      "metadata": {
        "colab": {
          "base_uri": "https://localhost:8080/"
        },
        "id": "YZvhiSf_TpeV",
        "outputId": "2af8f27e-e167-4c12-a93a-78e40b347c52"
      },
      "execution_count": null,
      "outputs": [
        {
          "output_type": "execute_result",
          "data": {
            "text/plain": [
              "1    1246\n",
              "0     252\n",
              "Name: admissions_decision, dtype: int64"
            ]
          },
          "metadata": {},
          "execution_count": 11
        }
      ]
    },
    {
      "cell_type": "code",
      "source": [
        "y_test.value_counts()"
      ],
      "metadata": {
        "colab": {
          "base_uri": "https://localhost:8080/"
        },
        "id": "pPly-jd6UIyj",
        "outputId": "3b1059f1-a285-4111-a06a-b56a360d0fa3"
      },
      "execution_count": null,
      "outputs": [
        {
          "output_type": "execute_result",
          "data": {
            "text/plain": [
              "1    312\n",
              "0     63\n",
              "Name: admissions_decision, dtype: int64"
            ]
          },
          "metadata": {},
          "execution_count": 12
        }
      ]
    },
    {
      "cell_type": "code",
      "metadata": {
        "cell_id": "5e08f38f4d2a4fa9a61fd17d7498b556",
        "tags": [],
        "deepnote_to_be_reexecuted": false,
        "source_hash": "9168e48f",
        "execution_start": 1649093909031,
        "execution_millis": 1,
        "deepnote_cell_type": "code",
        "deepnote_cell_height": 118.1875,
        "deepnote_output_heights": [
          21.1875
        ],
        "colab": {
          "base_uri": "https://localhost:8080/"
        },
        "id": "wy0ztkgoiRmN",
        "outputId": "61d2cef5-bc1e-420b-bfd5-dce60fe5b9ae"
      },
      "source": [
        "x_test.shape, y_test.shape"
      ],
      "execution_count": null,
      "outputs": [
        {
          "output_type": "execute_result",
          "data": {
            "text/plain": [
              "((375, 27), (375,))"
            ]
          },
          "metadata": {},
          "execution_count": 13
        }
      ]
    },
    {
      "cell_type": "code",
      "source": [
        "from collections import Counter\n",
        "Counter(y_test.tolist())"
      ],
      "metadata": {
        "colab": {
          "base_uri": "https://localhost:8080/"
        },
        "id": "IoSLca4JApT6",
        "outputId": "5c0f0e2c-b55c-4935-c41f-84c2395892cf"
      },
      "execution_count": null,
      "outputs": [
        {
          "output_type": "execute_result",
          "data": {
            "text/plain": [
              "Counter({0: 63, 1: 312})"
            ]
          },
          "metadata": {},
          "execution_count": 35
        }
      ]
    },
    {
      "cell_type": "markdown",
      "source": [
        "## XGBoost"
      ],
      "metadata": {
        "id": "LMQcfJVzBl4s"
      }
    },
    {
      "cell_type": "code",
      "source": [
        "import xgboost as xgb"
      ],
      "metadata": {
        "id": "82_8xesUBqDb"
      },
      "execution_count": null,
      "outputs": []
    },
    {
      "cell_type": "code",
      "source": [
        "param = { \n",
        "    'max_depth': 4,\n",
        "    'eta': 0.3,\n",
        "    'objective':'multi:softmax',\n",
        "    'num_class': 2\n",
        "}\n",
        "epochs = 10"
      ],
      "metadata": {
        "id": "1U8r0j1_By1M"
      },
      "execution_count": null,
      "outputs": []
    },
    {
      "cell_type": "code",
      "source": [
        "train = xgb.DMatrix( x_train, label=y_train)\n",
        "test = xgb.DMatrix( x_test, label=y_test)"
      ],
      "metadata": {
        "id": "5VA_c6GgCqAK"
      },
      "execution_count": null,
      "outputs": []
    },
    {
      "cell_type": "code",
      "source": [
        "model = xgb.train( param, train, epochs)"
      ],
      "metadata": {
        "id": "cdsfPkwqCHCU"
      },
      "execution_count": null,
      "outputs": []
    },
    {
      "cell_type": "code",
      "source": [
        "predictions = model.predict(test)"
      ],
      "metadata": {
        "id": "n8d9c4drC_ZB"
      },
      "execution_count": null,
      "outputs": []
    },
    {
      "cell_type": "code",
      "source": [
        "predictions"
      ],
      "metadata": {
        "colab": {
          "base_uri": "https://localhost:8080/"
        },
        "id": "rK79u0roDFU_",
        "outputId": "b133915f-284c-48db-d7b6-ee5592003232"
      },
      "execution_count": null,
      "outputs": [
        {
          "output_type": "execute_result",
          "data": {
            "text/plain": [
              "array([1., 1., 1., 1., 1., 1., 1., 1., 1., 1., 1., 1., 1., 1., 1., 1., 1.,\n",
              "       1., 1., 1., 1., 1., 1., 1., 1., 1., 1., 1., 1., 1., 1., 1., 1., 1.,\n",
              "       1., 1., 1., 1., 1., 1., 1., 1., 1., 1., 1., 1., 1., 1., 1., 1., 1.,\n",
              "       1., 1., 1., 1., 1., 1., 1., 1., 1., 1., 1., 1., 1., 1., 1., 1., 1.,\n",
              "       1., 1., 1., 1., 1., 1., 1., 1., 1., 1., 1., 1., 1., 1., 1., 1., 1.,\n",
              "       1., 1., 1., 1., 1., 1., 1., 1., 1., 1., 1., 1., 1., 1., 1., 1., 1.,\n",
              "       1., 1., 1., 1., 1., 1., 1., 1., 1., 1., 1., 1., 1., 1., 1., 1., 1.,\n",
              "       1., 1., 1., 1., 1., 1., 1., 1., 1., 1., 1., 1., 1., 1., 1., 1., 1.,\n",
              "       1., 1., 1., 1., 1., 1., 1., 1., 1., 1., 1., 1., 1., 1., 1., 1., 1.,\n",
              "       1., 1., 1., 1., 1., 1., 1., 1., 1., 1., 1., 1., 1., 1., 1., 1., 1.,\n",
              "       1., 1., 1., 1., 1., 1., 1., 1., 1., 1., 1., 1., 1., 1., 1., 1., 1.,\n",
              "       1., 1., 1., 1., 1., 1., 1., 1., 1., 1., 1., 1., 1., 1., 1., 1., 1.,\n",
              "       1., 1., 1., 1., 1., 1., 1., 1., 1., 1., 1., 1., 1., 1., 1., 1., 1.,\n",
              "       1., 1., 1., 1., 0., 1., 1., 1., 1., 1., 1., 1., 0., 1., 1., 1., 1.,\n",
              "       1., 1., 1., 1., 1., 1., 1., 1., 1., 1., 1., 1., 1., 1., 1., 1., 1.,\n",
              "       1., 1., 1., 1., 1., 1., 1., 1., 1., 1., 1., 1., 1., 1., 1., 1., 1.,\n",
              "       1., 1., 1., 1., 1., 1., 1., 1., 1., 1., 1., 1., 1., 1., 1., 1., 1.,\n",
              "       1., 1., 1., 1., 1., 1., 1., 1., 1., 1., 1., 1., 1., 1., 1., 1., 1.,\n",
              "       1., 1., 1., 1., 1., 1., 1., 1., 1., 1., 1., 1., 1., 1., 1., 1., 1.,\n",
              "       1., 1., 1., 1., 1., 1., 1., 1., 1., 1., 1., 1., 1., 1., 1., 1., 1.,\n",
              "       1., 1., 1., 1., 1., 1., 1., 1., 1., 1., 1., 1., 1., 1., 1., 1., 1.,\n",
              "       1., 1., 1., 1., 1., 1., 1., 1., 1., 1., 1., 1., 1., 1., 1., 1., 1.,\n",
              "       1.], dtype=float32)"
            ]
          },
          "metadata": {},
          "execution_count": 21
        }
      ]
    },
    {
      "cell_type": "code",
      "source": [
        "from sklearn.metrics import classification_report"
      ],
      "metadata": {
        "id": "Hp86Y261DTgf"
      },
      "execution_count": null,
      "outputs": []
    },
    {
      "cell_type": "code",
      "source": [
        "print(classification_report(y_test, predictions))\n",
        "print('--------------------------------------------------------')\n",
        "print(\"\")"
      ],
      "metadata": {
        "colab": {
          "base_uri": "https://localhost:8080/"
        },
        "id": "EOpCMxgIDag1",
        "outputId": "f0146cf4-1782-401f-b580-8420d9eae31b"
      },
      "execution_count": null,
      "outputs": [
        {
          "output_type": "stream",
          "name": "stdout",
          "text": [
            "              precision    recall  f1-score   support\n",
            "\n",
            "           0       0.50      0.02      0.03        63\n",
            "           1       0.83      1.00      0.91       312\n",
            "\n",
            "    accuracy                           0.83       375\n",
            "   macro avg       0.67      0.51      0.47       375\n",
            "weighted avg       0.78      0.83      0.76       375\n",
            "\n",
            "--------------------------------------------------------\n",
            "\n"
          ]
        }
      ]
    },
    {
      "cell_type": "markdown",
      "source": [
        "## Random forest"
      ],
      "metadata": {
        "id": "aAvVTDlBC0oc"
      }
    },
    {
      "cell_type": "code",
      "source": [
        "from sklearn.model_selection import train_test_split # for splitting the data into train and test samples\n",
        "from sklearn.metrics import classification_report # for model evaluation metrics\n",
        "from sklearn import tree # for decision tree models\n",
        "from sklearn.ensemble import RandomForestClassifier, AdaBoostClassifier"
      ],
      "metadata": {
        "id": "RN53K_N7C83G"
      },
      "execution_count": null,
      "outputs": []
    },
    {
      "cell_type": "code",
      "source": [
        "\n",
        "##### Step 3\n",
        "# Set model and its parameters\n",
        "model = RandomForestClassifier(\n",
        "                              )\n",
        "AdaBoost = AdaBoostClassifier(base_estimator=model, n_estimators=400,learning_rate=1)\n",
        "# Fit the model\n",
        "clf = AdaBoost.fit(x_train, y_train)\n",
        "\n",
        "\n",
        "##### Step 4\n",
        "# Predict class labels on training data\n",
        "pred_labels_tr = clf.predict(x_train)\n",
        "# Predict class labels on a test data\n",
        "pred_labels_te = clf.predict(x_test)\n",
        "\n",
        "\n",
        "##### Step 5 - Model summary\n",
        "# Basic info about the model\n",
        "# print('*************** Model Summary ***************')\n",
        "# print('Classes: ', clf.classes_)\n",
        "# print('No. of outputs: ', clf.n_outputs_)\n",
        "# print('No. of features: ', clf.n_features_in_)\n",
        "# print('No. of Estimators: ', len(clf.estimators_))\n",
        "# print('--------------------------------------------------------')\n",
        "# print(\"\")\n",
        "\n",
        "print('*************** Evaluation on Test Data ***************')\n",
        "score_te = clf.score(x_test, y_test)\n",
        "print('Accuracy Score: ', score_te)\n",
        "# Look at classification report to evaluate the model\n",
        "print(classification_report(y_test, pred_labels_te))\n",
        "print('--------------------------------------------------------')\n",
        "print(\"\")\n",
        "\n",
        "print('*************** Evaluation on Training Data ***************')\n",
        "score_tr = clf.score(x_train, y_train)\n",
        "print('Accuracy Score: ', score_tr)\n",
        "# Look at classification report to evaluate the model\n",
        "print(classification_report(y_train, pred_labels_tr))\n",
        "print('--------------------------------------------------------')"
      ],
      "metadata": {
        "colab": {
          "base_uri": "https://localhost:8080/"
        },
        "id": "R5TPok-0C25Y",
        "outputId": "5fdca007-aac7-44dd-b893-bf8205955546"
      },
      "execution_count": null,
      "outputs": [
        {
          "output_type": "stream",
          "name": "stdout",
          "text": [
            "*************** Evaluation on Test Data ***************\n",
            "Accuracy Score:  0.8293333333333334\n",
            "              precision    recall  f1-score   support\n",
            "\n",
            "           0       0.40      0.03      0.06        63\n",
            "           1       0.84      0.99      0.91       312\n",
            "\n",
            "    accuracy                           0.83       375\n",
            "   macro avg       0.62      0.51      0.48       375\n",
            "weighted avg       0.76      0.83      0.76       375\n",
            "\n",
            "--------------------------------------------------------\n",
            "\n",
            "*************** Evaluation on Training Data ***************\n",
            "Accuracy Score:  1.0\n",
            "              precision    recall  f1-score   support\n",
            "\n",
            "           0       1.00      1.00      1.00       252\n",
            "           1       1.00      1.00      1.00      1246\n",
            "\n",
            "    accuracy                           1.00      1498\n",
            "   macro avg       1.00      1.00      1.00      1498\n",
            "weighted avg       1.00      1.00      1.00      1498\n",
            "\n",
            "--------------------------------------------------------\n"
          ]
        }
      ]
    },
    {
      "cell_type": "code",
      "source": [
        "#print(pred_labels_te)\n",
        "print(Counter(pred_labels_te))"
      ],
      "metadata": {
        "colab": {
          "base_uri": "https://localhost:8080/"
        },
        "id": "XyZuzylgThL3",
        "outputId": "9f785f80-80ec-4487-9290-575180e5e064"
      },
      "execution_count": null,
      "outputs": [
        {
          "output_type": "stream",
          "name": "stdout",
          "text": [
            "Counter({1: 370, 0: 5})\n"
          ]
        }
      ]
    },
    {
      "cell_type": "markdown",
      "source": [
        "## Logistic Model"
      ],
      "metadata": {
        "id": "gyg7S5zV2PnV"
      }
    },
    {
      "cell_type": "code",
      "metadata": {
        "cell_id": "9a5f861f893b48a29aa073d5c8d1cf3d",
        "tags": [],
        "deepnote_to_be_reexecuted": false,
        "source_hash": "665dc906",
        "execution_start": 1649093909102,
        "execution_millis": 294,
        "deepnote_cell_type": "code",
        "deepnote_cell_height": 99,
        "id": "D_SnurB1iRmO"
      },
      "source": [
        "from sklearn.linear_model import LogisticRegression\n",
        "logistic_model = LogisticRegression(penalty='l2', C=1.0, solver='liblinear').fit(x_train, y_train)"
      ],
      "execution_count": null,
      "outputs": []
    },
    {
      "cell_type": "code",
      "metadata": {
        "cell_id": "d094d7bc9dff4542832bd94fe6f43329",
        "tags": [],
        "deepnote_to_be_reexecuted": false,
        "source_hash": "8795154f",
        "execution_start": 1649093909210,
        "execution_millis": 0,
        "deepnote_cell_type": "code",
        "deepnote_cell_height": 81,
        "id": "yerpfMH8iRmP"
      },
      "source": [
        "y_pred = logistic_model.predict(x_test)"
      ],
      "execution_count": null,
      "outputs": []
    },
    {
      "cell_type": "code",
      "metadata": {
        "cell_id": "46f4ae72ae1b42f5a9cd567025e10972",
        "tags": [],
        "deepnote_to_be_reexecuted": false,
        "source_hash": "4e0ce99c",
        "execution_start": 1649093909211,
        "execution_millis": 42,
        "deepnote_cell_type": "code",
        "deepnote_cell_height": 81,
        "id": "7E-XeYfgiRmP"
      },
      "source": [
        "pred_results =pd.DataFrame({\"y_test\": y_test, \"y_pred\": y_pred})"
      ],
      "execution_count": null,
      "outputs": []
    },
    {
      "cell_type": "code",
      "metadata": {
        "cell_id": "bbbc8e07b0ba45798fdf466de4978fdf",
        "tags": [],
        "deepnote_to_be_reexecuted": false,
        "source_hash": "dba2c30f",
        "execution_start": 1649093909254,
        "execution_millis": 3957187,
        "deepnote_cell_type": "code",
        "deepnote_cell_height": 81,
        "id": "dzz7lPdhiRmQ"
      },
      "source": [
        "from sklearn.metrics import accuracy_score, precision_score, recall_score"
      ],
      "execution_count": null,
      "outputs": []
    },
    {
      "cell_type": "code",
      "metadata": {
        "cell_id": "e903ec246cb742c2b45700fd8100fb86",
        "tags": [],
        "deepnote_to_be_reexecuted": false,
        "source_hash": "e1ad6289",
        "execution_start": 1649093909255,
        "execution_millis": 44,
        "deepnote_cell_type": "code",
        "deepnote_cell_height": 117,
        "id": "iBocKUzhiRmR"
      },
      "source": [
        "acc = accuracy_score(y_test, y_pred)\n",
        "prec = precision_score(y_test, y_pred)\n",
        "recall = recall_score(y_test, y_pred)"
      ],
      "execution_count": null,
      "outputs": []
    },
    {
      "cell_type": "code",
      "metadata": {
        "cell_id": "729753f8840b4a3498b28f6feba2a395",
        "tags": [],
        "deepnote_to_be_reexecuted": false,
        "source_hash": "e615b51c",
        "execution_start": 1649093909299,
        "execution_millis": 102,
        "deepnote_cell_type": "code",
        "deepnote_cell_height": 185.5625,
        "colab": {
          "base_uri": "https://localhost:8080/"
        },
        "id": "TyvASzfJiRmR",
        "outputId": "a9c50a2b-602d-44f0-b012-4a7f9baad268"
      },
      "source": [
        "print(\"accuracy_score : \", acc) # how many of the predicted applicants value did the model predict correct\n",
        "print(\"precision_score : \", prec) # how many of the applicants that the model thought admitted actualy were admitted\n",
        "print(\"recall_score : \", recall) # how many of the actual applicants did the model correctly predict"
      ],
      "execution_count": null,
      "outputs": [
        {
          "output_type": "stream",
          "name": "stdout",
          "text": [
            "accuracy_score :  0.7946666666666666\n",
            "precision_score :  0.7941176470588235\n",
            "recall_score :  1.0\n"
          ]
        }
      ]
    },
    {
      "cell_type": "code",
      "metadata": {
        "cell_id": "aa89fd79b83b4890a86f26944c1316c2",
        "tags": [],
        "deepnote_to_be_reexecuted": false,
        "source_hash": "29c57a04",
        "execution_start": 1649093909300,
        "execution_millis": 117,
        "deepnote_cell_type": "code",
        "deepnote_cell_height": 154.1875,
        "deepnote_output_heights": [
          21.1875
        ],
        "colab": {
          "base_uri": "https://localhost:8080/"
        },
        "id": "8cq6Z9XviRmS",
        "outputId": "4ad25f19-9a7f-4729-9501-bf59b92c0e70"
      },
      "source": [
        "#Building Model again with best params\n",
        "lr2=LogisticRegression(class_weight={0: 0.622, 1: 0.377},C=0.5,penalty=\"l2\", solver='liblinear')\n",
        "lr2.fit(x_train,y_train)"
      ],
      "execution_count": null,
      "outputs": [
        {
          "output_type": "execute_result",
          "data": {
            "text/plain": [
              "LogisticRegression(C=0.5, class_weight={0: 0.622, 1: 0.377}, solver='liblinear')"
            ]
          },
          "metadata": {},
          "execution_count": 70
        }
      ]
    },
    {
      "cell_type": "code",
      "metadata": {
        "cell_id": "23e4b82590984d409b7bb2f6d2978cc2",
        "tags": [],
        "deepnote_to_be_reexecuted": false,
        "source_hash": "10d1bfb9",
        "execution_start": 1649093909373,
        "execution_millis": 6,
        "deepnote_cell_type": "code",
        "deepnote_cell_height": 81,
        "id": "UrdCHkhviRmS"
      },
      "source": [
        "y_pred = lr2.predict(x_test)"
      ],
      "execution_count": null,
      "outputs": []
    },
    {
      "cell_type": "code",
      "metadata": {
        "cell_id": "baad5e33afc04c7f8dd915c45b703f09",
        "tags": [],
        "deepnote_to_be_reexecuted": false,
        "source_hash": "e1ad6289",
        "execution_start": 1649093909387,
        "execution_millis": 37,
        "deepnote_cell_type": "code",
        "deepnote_cell_height": 117,
        "id": "fPYSUmTNiRmT"
      },
      "source": [
        "acc = accuracy_score(y_test, y_pred)\n",
        "prec = precision_score(y_test, y_pred)\n",
        "recall = recall_score(y_test, y_pred)"
      ],
      "execution_count": null,
      "outputs": []
    },
    {
      "cell_type": "code",
      "metadata": {
        "cell_id": "0f5d08a2f0454e71a157c9a1312f3f52",
        "tags": [],
        "deepnote_to_be_reexecuted": false,
        "source_hash": "e615b51c",
        "execution_start": 1649093909424,
        "execution_millis": 6,
        "deepnote_cell_type": "code",
        "deepnote_cell_height": 185.5625,
        "colab": {
          "base_uri": "https://localhost:8080/"
        },
        "id": "cJqu7PAviRmT",
        "outputId": "827ff522-e922-4ae3-eda6-cb79e58fce46"
      },
      "source": [
        "print(\"accuracy_score : \", acc) # how many of the predicted applicants value did the model predict correct\n",
        "print(\"precision_score : \", prec) # how many of the applicants that the model thought admitted actualy were admitted\n",
        "print(\"recall_score : \", recall) # how many of the actual applicants did the model correctly predict"
      ],
      "execution_count": null,
      "outputs": [
        {
          "output_type": "stream",
          "name": "stdout",
          "text": [
            "accuracy_score :  0.792\n",
            "precision_score :  0.7951482479784366\n",
            "recall_score :  0.9932659932659933\n"
          ]
        }
      ]
    },
    {
      "cell_type": "markdown",
      "source": [
        "## DecisionTreeClassifier"
      ],
      "metadata": {
        "id": "sPMem70R2V9N"
      }
    },
    {
      "cell_type": "code",
      "source": [
        "from sklearn.model_selection import train_test_split # for splitting the data into train and test samples\n",
        "from sklearn.metrics import classification_report # for model evaluation metrics\n",
        "from sklearn import tree # for decision tree models\n",
        "\n",
        "import plotly.express as px  # for data visualization\n",
        "import plotly.graph_objects as go # for data visualization\n",
        "import graphviz # for plotting decision tree graphs"
      ],
      "metadata": {
        "id": "MoDJpR0A30nI"
      },
      "execution_count": null,
      "outputs": []
    },
    {
      "cell_type": "code",
      "source": [
        "def fitting(X, y, criterion, splitter, mdepth, clweight, minleaf):\n",
        "\n",
        "    # Create training and testing samples\n",
        "    X_train, X_test, y_train, y_test = train_test_split(X, y, test_size=0.2, random_state=42)\n",
        "\n",
        "    # Fit the model\n",
        "    model = tree.DecisionTreeClassifier(criterion=criterion, \n",
        "                                        splitter=splitter, \n",
        "                                        max_depth=mdepth,\n",
        "                                        class_weight=clweight,\n",
        "                                        min_samples_leaf=minleaf, \n",
        "                                        random_state=42\n",
        "                                  )\n",
        "    clf = model.fit(X_train, y_train)\n",
        "\n",
        "    # Predict class labels on training data\n",
        "    pred_labels_tr = model.predict(X_train)\n",
        "    # Predict class labels on a test data\n",
        "    pred_labels_te = model.predict(X_test)\n",
        "\n",
        "    # Tree summary and model evaluation metrics\n",
        "    print('*************** Tree Summary ***************')\n",
        "    print('Classes: ', clf.classes_)\n",
        "    print('Tree Depth: ', clf.tree_.max_depth)\n",
        "    print('No. of leaves: ', clf.tree_.n_leaves)\n",
        "    print('No. of features: ', clf.n_features_in_)\n",
        "    print('--------------------------------------------------------')\n",
        "    print(\"\")\n",
        "    \n",
        "    print('*************** Evaluation on Test Data ***************')\n",
        "    score_te = model.score(X_test, y_test)\n",
        "    print('Accuracy Score: ', score_te)\n",
        "    # Look at classification report to evaluate the model\n",
        "    print(classification_report(y_test, pred_labels_te))\n",
        "    print('--------------------------------------------------------')\n",
        "    print(\"\")\n",
        "    \n",
        "    print('*************** Evaluation on Training Data ***************')\n",
        "    score_tr = model.score(X_train, y_train)\n",
        "    print('Accuracy Score: ', score_tr)\n",
        "    # Look at classification report to evaluate the model\n",
        "    print(classification_report(y_train, pred_labels_tr))\n",
        "    print('--------------------------------------------------------')\n",
        "    \n",
        " \n",
        "    # Return relevant data for chart plotting\n",
        "    return X_train, X_test, y_train, y_test, clf, model"
      ],
      "metadata": {
        "id": "CTsOln4p2kbV"
      },
      "execution_count": null,
      "outputs": []
    },
    {
      "cell_type": "code",
      "source": [
        "import numpy as np\n",
        "def Plot_3D(X, X_test, y_test, clf, x1, x2, mesh_size, margin):\n",
        "            \n",
        "    # Specify a size of the mesh to be used\n",
        "    mesh_size=mesh_size\n",
        "    margin=margin\n",
        "\n",
        "    # Create a mesh grid on which we will run our model\n",
        "    x_min, x_max = X.iloc[:, 0].fillna(X.mean()).min() - margin, X.iloc[:, 0].fillna(X.mean()).max() + margin\n",
        "    y_min, y_max = X.iloc[:, 1].fillna(X.mean()).min() - margin, X.iloc[:, 1].fillna(X.mean()).max() + margin\n",
        "    xrange = np.arange(x_min, x_max, mesh_size)\n",
        "    yrange = np.arange(y_min, y_max, mesh_size)\n",
        "    xx, yy = np.meshgrid(xrange, yrange)\n",
        "            \n",
        "    # Calculate predictions on grid\n",
        "    Z = clf.predict_proba(np.c_[xx.ravel(), yy.ravel()])[:, 1]\n",
        "    Z = Z.reshape(xx.shape)\n",
        "\n",
        "    # Create a 3D scatter plot with predictions\n",
        "    fig = px.scatter_3d(x=X_test[x1], y=X_test[x2], z=y_test,\n",
        "                     opacity=0.8, color_discrete_sequence=['black'])\n",
        "\n",
        "    # Set figure title and colors\n",
        "    fig.update_layout(#title_text=\"Scatter 3D Plot with CART Prediction Surface\",\n",
        "                      paper_bgcolor = 'white',\n",
        "                      scene = dict(xaxis=dict(title=x1,\n",
        "                                              backgroundcolor='white',\n",
        "                                              color='black',\n",
        "                                              gridcolor='#f0f0f0'),\n",
        "                                   yaxis=dict(title=x2,\n",
        "                                              backgroundcolor='white',\n",
        "                                              color='black',\n",
        "                                              gridcolor='#f0f0f0'\n",
        "                                              ),\n",
        "                                   zaxis=dict(title='Probability of Rain Tomorrow',\n",
        "                                              backgroundcolor='lightgrey',\n",
        "                                              color='black', \n",
        "                                              gridcolor='#f0f0f0', \n",
        "                                              )))\n",
        "    \n",
        "    # Update marker size\n",
        "    fig.update_traces(marker=dict(size=1))\n",
        "\n",
        "    # Add prediction plane\n",
        "    fig.add_traces(go.Surface(x=xrange, y=yrange, z=Z, name='CART Prediction',\n",
        "                              colorscale='Jet',\n",
        "                              reversescale=True,\n",
        "                              showscale=False, \n",
        "                              contours = {\"z\": {\"show\": True, \"start\": 0.5, \"end\": 0.9, \"size\": 0.5}}))\n",
        "    fig.show()\n",
        "    return fig"
      ],
      "metadata": {
        "id": "G5uXyUCp3CHP"
      },
      "execution_count": null,
      "outputs": []
    },
    {
      "cell_type": "code",
      "source": [
        "\n",
        "\n",
        "# Fit the model and display results\n",
        "X_train, X_test, y_train, y_test, clf,trained_model = fitting(X, Y, 'gini', 'best', \n",
        "                                                       mdepth=1, \n",
        "                                                       clweight=None,\n",
        "                                                       minleaf=1000)\n"
      ],
      "metadata": {
        "id": "HZH94myv3KI_",
        "colab": {
          "base_uri": "https://localhost:8080/"
        },
        "outputId": "a0bc02a5-cd8f-413c-8329-3fbc7238774f"
      },
      "execution_count": null,
      "outputs": [
        {
          "output_type": "stream",
          "name": "stdout",
          "text": [
            "*************** Tree Summary ***************\n",
            "Classes:  [0 1]\n",
            "Tree Depth:  0\n",
            "No. of leaves:  1\n",
            "No. of features:  27\n",
            "--------------------------------------------------------\n",
            "\n",
            "*************** Evaluation on Test Data ***************\n",
            "Accuracy Score:  0.8186666666666667\n",
            "              precision    recall  f1-score   support\n",
            "\n",
            "           0       0.00      0.00      0.00        68\n",
            "           1       0.82      1.00      0.90       307\n",
            "\n",
            "    accuracy                           0.82       375\n",
            "   macro avg       0.41      0.50      0.45       375\n",
            "weighted avg       0.67      0.82      0.74       375\n",
            "\n",
            "--------------------------------------------------------\n",
            "\n",
            "*************** Evaluation on Training Data ***************\n",
            "Accuracy Score:  0.835113484646195\n",
            "              precision    recall  f1-score   support\n",
            "\n",
            "           0       0.00      0.00      0.00       247\n",
            "           1       0.84      1.00      0.91      1251\n",
            "\n",
            "    accuracy                           0.84      1498\n",
            "   macro avg       0.42      0.50      0.46      1498\n",
            "weighted avg       0.70      0.84      0.76      1498\n",
            "\n",
            "--------------------------------------------------------\n"
          ]
        },
        {
          "output_type": "stream",
          "name": "stderr",
          "text": [
            "/usr/local/lib/python3.7/dist-packages/sklearn/metrics/_classification.py:1318: UndefinedMetricWarning: Precision and F-score are ill-defined and being set to 0.0 in labels with no predicted samples. Use `zero_division` parameter to control this behavior.\n",
            "  _warn_prf(average, modifier, msg_start, len(result))\n",
            "/usr/local/lib/python3.7/dist-packages/sklearn/metrics/_classification.py:1318: UndefinedMetricWarning: Precision and F-score are ill-defined and being set to 0.0 in labels with no predicted samples. Use `zero_division` parameter to control this behavior.\n",
            "  _warn_prf(average, modifier, msg_start, len(result))\n",
            "/usr/local/lib/python3.7/dist-packages/sklearn/metrics/_classification.py:1318: UndefinedMetricWarning: Precision and F-score are ill-defined and being set to 0.0 in labels with no predicted samples. Use `zero_division` parameter to control this behavior.\n",
            "  _warn_prf(average, modifier, msg_start, len(result))\n",
            "/usr/local/lib/python3.7/dist-packages/sklearn/metrics/_classification.py:1318: UndefinedMetricWarning: Precision and F-score are ill-defined and being set to 0.0 in labels with no predicted samples. Use `zero_division` parameter to control this behavior.\n",
            "  _warn_prf(average, modifier, msg_start, len(result))\n",
            "/usr/local/lib/python3.7/dist-packages/sklearn/metrics/_classification.py:1318: UndefinedMetricWarning: Precision and F-score are ill-defined and being set to 0.0 in labels with no predicted samples. Use `zero_division` parameter to control this behavior.\n",
            "  _warn_prf(average, modifier, msg_start, len(result))\n",
            "/usr/local/lib/python3.7/dist-packages/sklearn/metrics/_classification.py:1318: UndefinedMetricWarning: Precision and F-score are ill-defined and being set to 0.0 in labels with no predicted samples. Use `zero_division` parameter to control this behavior.\n",
            "  _warn_prf(average, modifier, msg_start, len(result))\n"
          ]
        }
      ]
    },
    {
      "cell_type": "code",
      "source": [
        "graph"
      ],
      "metadata": {
        "colab": {
          "base_uri": "https://localhost:8080/"
        },
        "id": "pK_4WhgB_HDX",
        "outputId": "b7496f7c-6fc5-405c-ac2b-ab0eabe28d39"
      },
      "execution_count": null,
      "outputs": [
        {
          "output_type": "execute_result",
          "data": {
            "text/plain": [
              "<graphviz.files.Source at 0x7f670a917950>"
            ],
            "image/svg+xml": "<?xml version=\"1.0\" encoding=\"UTF-8\" standalone=\"no\"?>\n<!DOCTYPE svg PUBLIC \"-//W3C//DTD SVG 1.1//EN\"\n \"http://www.w3.org/Graphics/SVG/1.1/DTD/svg11.dtd\">\n<!-- Generated by graphviz version 2.40.1 (20161225.0304)\n -->\n<!-- Title: Tree Pages: 1 -->\n<svg width=\"148pt\" height=\"76pt\"\n viewBox=\"0.00 0.00 148.00 76.00\" xmlns=\"http://www.w3.org/2000/svg\" xmlns:xlink=\"http://www.w3.org/1999/xlink\">\n<g id=\"graph0\" class=\"graph\" transform=\"scale(1 1) rotate(0) translate(4 72)\">\n<title>Tree</title>\n<polygon fill=\"#ffffff\" stroke=\"transparent\" points=\"-4,4 -4,-72 144,-72 144,4 -4,4\"/>\n<!-- 0 -->\n<g id=\"node1\" class=\"node\">\n<title>0</title>\n<path fill=\"#63b2ea\" stroke=\"#000000\" d=\"M128,-68C128,-68 12,-68 12,-68 6,-68 0,-62 0,-56 0,-56 0,-12 0,-12 0,-6 6,0 12,0 12,0 128,0 128,0 134,0 140,-6 140,-12 140,-12 140,-56 140,-56 140,-62 134,-68 128,-68\"/>\n<text text-anchor=\"middle\" x=\"70\" y=\"-52.8\" font-family=\"Helvetica,sans-Serif\" font-size=\"14.00\" fill=\"#000000\">gini = 0.288</text>\n<text text-anchor=\"middle\" x=\"70\" y=\"-37.8\" font-family=\"Helvetica,sans-Serif\" font-size=\"14.00\" fill=\"#000000\">samples = 1498</text>\n<text text-anchor=\"middle\" x=\"70\" y=\"-22.8\" font-family=\"Helvetica,sans-Serif\" font-size=\"14.00\" fill=\"#000000\">value = [261, 1237]</text>\n<text text-anchor=\"middle\" x=\"70\" y=\"-7.8\" font-family=\"Helvetica,sans-Serif\" font-size=\"14.00\" fill=\"#000000\">class = 1</text>\n</g>\n</g>\n</svg>\n"
          },
          "metadata": {},
          "execution_count": 148
        }
      ]
    },
    {
      "cell_type": "markdown",
      "source": [
        "##  "
      ],
      "metadata": {
        "id": "8Xd7YntD2Zkr"
      }
    },
    {
      "cell_type": "code",
      "source": [
        "X_train, X_test, y_train, y_test, clf, trained_model= fitting(X, Y, 'gini', 'best', \n",
        "                                                       mdepth=3, \n",
        "                                                       clweight=None, \n",
        "                                                       minleaf=1000)\n",
        "\n"
      ],
      "metadata": {
        "id": "HIDMFowZ4EwI",
        "colab": {
          "base_uri": "https://localhost:8080/"
        },
        "outputId": "d2a7a023-0460-4494-b948-5f024325ec30"
      },
      "execution_count": null,
      "outputs": [
        {
          "output_type": "stream",
          "name": "stdout",
          "text": [
            "*************** Tree Summary ***************\n",
            "Classes:  [0 1]\n",
            "Tree Depth:  0\n",
            "No. of leaves:  1\n",
            "No. of features:  27\n",
            "--------------------------------------------------------\n",
            "\n",
            "*************** Evaluation on Test Data ***************\n",
            "Accuracy Score:  0.8186666666666667\n",
            "              precision    recall  f1-score   support\n",
            "\n",
            "           0       0.00      0.00      0.00        68\n",
            "           1       0.82      1.00      0.90       307\n",
            "\n",
            "    accuracy                           0.82       375\n",
            "   macro avg       0.41      0.50      0.45       375\n",
            "weighted avg       0.67      0.82      0.74       375\n",
            "\n",
            "--------------------------------------------------------\n",
            "\n",
            "*************** Evaluation on Training Data ***************\n",
            "Accuracy Score:  0.835113484646195\n",
            "              precision    recall  f1-score   support\n",
            "\n",
            "           0       0.00      0.00      0.00       247\n",
            "           1       0.84      1.00      0.91      1251\n",
            "\n",
            "    accuracy                           0.84      1498\n",
            "   macro avg       0.42      0.50      0.46      1498\n",
            "weighted avg       0.70      0.84      0.76      1498\n",
            "\n",
            "--------------------------------------------------------\n"
          ]
        },
        {
          "output_type": "stream",
          "name": "stderr",
          "text": [
            "/usr/local/lib/python3.7/dist-packages/sklearn/metrics/_classification.py:1318: UndefinedMetricWarning: Precision and F-score are ill-defined and being set to 0.0 in labels with no predicted samples. Use `zero_division` parameter to control this behavior.\n",
            "  _warn_prf(average, modifier, msg_start, len(result))\n",
            "/usr/local/lib/python3.7/dist-packages/sklearn/metrics/_classification.py:1318: UndefinedMetricWarning: Precision and F-score are ill-defined and being set to 0.0 in labels with no predicted samples. Use `zero_division` parameter to control this behavior.\n",
            "  _warn_prf(average, modifier, msg_start, len(result))\n",
            "/usr/local/lib/python3.7/dist-packages/sklearn/metrics/_classification.py:1318: UndefinedMetricWarning: Precision and F-score are ill-defined and being set to 0.0 in labels with no predicted samples. Use `zero_division` parameter to control this behavior.\n",
            "  _warn_prf(average, modifier, msg_start, len(result))\n",
            "/usr/local/lib/python3.7/dist-packages/sklearn/metrics/_classification.py:1318: UndefinedMetricWarning: Precision and F-score are ill-defined and being set to 0.0 in labels with no predicted samples. Use `zero_division` parameter to control this behavior.\n",
            "  _warn_prf(average, modifier, msg_start, len(result))\n",
            "/usr/local/lib/python3.7/dist-packages/sklearn/metrics/_classification.py:1318: UndefinedMetricWarning: Precision and F-score are ill-defined and being set to 0.0 in labels with no predicted samples. Use `zero_division` parameter to control this behavior.\n",
            "  _warn_prf(average, modifier, msg_start, len(result))\n",
            "/usr/local/lib/python3.7/dist-packages/sklearn/metrics/_classification.py:1318: UndefinedMetricWarning: Precision and F-score are ill-defined and being set to 0.0 in labels with no predicted samples. Use `zero_division` parameter to control this behavior.\n",
            "  _warn_prf(average, modifier, msg_start, len(result))\n"
          ]
        }
      ]
    },
    {
      "cell_type": "code",
      "source": [
        ""
      ],
      "metadata": {
        "id": "WQr9OjDl4Q_A"
      },
      "execution_count": null,
      "outputs": []
    },
    {
      "cell_type": "code",
      "metadata": {
        "cell_id": "dce32478ba2d48908cb4e57ba5cf0056",
        "tags": [],
        "deepnote_to_be_reexecuted": false,
        "source_hash": "fbb35bb5",
        "execution_start": 1649093909429,
        "execution_millis": 19,
        "deepnote_cell_type": "code",
        "deepnote_cell_height": 665.25,
        "colab": {
          "base_uri": "https://localhost:8080/"
        },
        "id": "59MG5UR6iRmT",
        "outputId": "6ad3353f-b6bc-4b71-c9c9-5184c9fc0a15"
      },
      "source": [
        "print(len(x_test.columns.tolist()))\n",
        "for i in x_test.columns.tolist():\n",
        "    print(i)"
      ],
      "execution_count": null,
      "outputs": [
        {
          "output_type": "stream",
          "name": "stdout",
          "text": [
            "27\n",
            "Age\n",
            "Gender\n",
            "education_level_Diploma certificate\n",
            "education_level_High school\n",
            "education_level_Masters Degree\n",
            "education_level_Primary school\n",
            "education_level_University\n",
            "father_alive\n",
            "got_scholarship\n",
            "guardian_dependants\n",
            "has_guardian\n",
            "have_source_of_income\n",
            "joining_university\n",
            "marital_status\n",
            "mother_alive\n",
            "neighborhood_Court\n",
            "neighborhood_Estate\n",
            "neighborhood_Slum\n",
            "neighborhood_Village\n",
            "no_of_siblings\n",
            "own_dependants\n",
            "prev_student\n",
            "rent_house\n",
            "source\n",
            "tech_experience\n",
            "used_computer\n",
            "work_experience\n"
          ]
        }
      ]
    },
    {
      "cell_type": "code",
      "metadata": {
        "cell_id": "a5c0bfafeac2453bad85a07f8ee73428",
        "tags": [],
        "deepnote_to_be_reexecuted": false,
        "source_hash": "f72fdb37",
        "execution_start": 1649093909462,
        "execution_millis": 1,
        "deepnote_cell_type": "code",
        "deepnote_cell_height": 225,
        "id": "T7LPDrXgiRmU"
      },
      "source": [
        "def applicant_source(source):\n",
        "    # student souce can either be partner or non partner\n",
        "    # so this function will work on making souce column to either be parner or non partner\n",
        "    none_partner = [\"university\", \"Whatsapp\", \"Moringa\", \"friend\", \"mentor\", \"student\",\"LinkedIn\" ]\n",
        "    source = str(source)\n",
        "    for i in none_partner:\n",
        "        if i in source or i.lower() in source:\n",
        "            return 0 #for none partner\n",
        "    return 1 # for parther "
      ],
      "execution_count": null,
      "outputs": []
    },
    {
      "cell_type": "code",
      "metadata": {
        "cell_id": "f4ab3841b10a40d5bc34b6c87456d89a",
        "tags": [],
        "deepnote_to_be_reexecuted": false,
        "source_hash": "656b57ca",
        "execution_start": 1649093909507,
        "execution_millis": 0,
        "deepnote_cell_type": "code",
        "deepnote_cell_height": 459,
        "id": "gihMV-zOiRmU"
      },
      "source": [
        "def one_hot_encode_edu(education): # -> returns a list \n",
        "    \"\"\"\n",
        "    education_level_Diploma certificate\n",
        "    education_level_High school\n",
        "    education_level_Masters Degree\n",
        "    education_level_Primary school\n",
        "    education_level_University\n",
        "    \"\"\"\n",
        "    a, b, c, d, e = 0, 0,0,0,0\n",
        "\n",
        "    if \"diploma\" in education.lower():\n",
        "        a = 1\n",
        "    elif \"high\" in  education.lower():\n",
        "        b = 1\n",
        "    elif \"masters\" in  education.lower():\n",
        "        c = 1\n",
        "    elif \"primary\" in  education.lower():\n",
        "        d = 1\n",
        "    else:\n",
        "        e = 1\n",
        "    return [ a, b, c, d, e]\n"
      ],
      "execution_count": null,
      "outputs": []
    },
    {
      "cell_type": "code",
      "metadata": {
        "cell_id": "373b8bbdc5b04d3e9931b2f3518c9cf6",
        "tags": [],
        "deepnote_to_be_reexecuted": false,
        "source_hash": "5422f052",
        "execution_start": 1649093909508,
        "execution_millis": 0,
        "deepnote_cell_type": "code",
        "deepnote_cell_height": 423,
        "id": "vD8ONecDiRmV"
      },
      "source": [
        "def one_hot_encode_neigh(neighbourhood):\n",
        "    \"\"\"\n",
        "    neighborhood_Court\n",
        "    neighborhood_Estate\n",
        "    neighborhood_Slum\n",
        "    neighborhood_Village\n",
        "    \"\"\"\n",
        "    a, b, c, d = 0, 0, 0, 0\n",
        "    \n",
        "    if \"court\" in neighbourhood.lower():\n",
        "        a = 1\n",
        "    elif \"estate\" in  neighbourhood.lower():\n",
        "        b = 1\n",
        "    elif \"slum\" in  neighbourhood.lower():\n",
        "        c = 1\n",
        "    else:\n",
        "        d = 1\n",
        "    return [ a, b, c, d]\n",
        "\n"
      ],
      "execution_count": null,
      "outputs": []
    },
    {
      "cell_type": "code",
      "metadata": {
        "cell_id": "d5f23c36418e4c09b4dee49fda07d045",
        "tags": [],
        "deepnote_to_be_reexecuted": false,
        "source_hash": "6088129b",
        "execution_start": 1649093909508,
        "execution_millis": 1,
        "deepnote_cell_type": "code",
        "deepnote_cell_height": 153,
        "id": "YdS_liIHiRmV"
      },
      "source": [
        "def _yes_no(text):\n",
        "    if text.lower() == \"yes\":\n",
        "        return 1 \n",
        "    else: \n",
        "        return 0 "
      ],
      "execution_count": null,
      "outputs": []
    },
    {
      "cell_type": "code",
      "metadata": {
        "cell_id": "52d7ce1b3f3642989b233e776a183f70",
        "tags": [],
        "deepnote_to_be_reexecuted": false,
        "source_hash": "988c2a41",
        "execution_start": 1649093909510,
        "execution_millis": 1,
        "deepnote_cell_type": "code",
        "deepnote_cell_height": 243,
        "id": "Vi_uctjqiRmW"
      },
      "source": [
        "dictionary = {'no': 0, 'none': 0, 'nan': 0, 'non': 0, 'nill': 0, 'n/a': 0, 'no one': 0, 'not applicable': 0, 'i have no guardians': 0, \"i don't know\": 1, 'only me': 1, '2 children': 2, '3 people': 3, 'three people': 3, '5 people': 5, '6 people': 6, '7 people': 7, '8 people': 8, '10 or more': 10, '10 people': 10, 'one': 1, 'two': 2, 'three': 3, 'four': 4, 'five': 5, 'six': 6, 'seven': 7, 'eight': 8, 'nine': 9, 'ten': 10, '0': 0, '1': 1, '2': 2, '3': 3, '4': 4, '5': 5, '6': 6, '7': 7, '8': 8, '9': 9, '10': 10, '12': 10}\n",
        "def convert_dependants_and_siblings_to_int(text):\n",
        "    if type(text) == int:\n",
        "        return text if text <10 else 10\n",
        "    value = str(text).strip().replace('.',\"\").lower()\n",
        "    if  value in dictionary:\n",
        "        return dictionary[value]\n",
        "    else:\n",
        "        return 0\n"
      ],
      "execution_count": null,
      "outputs": []
    },
    {
      "cell_type": "code",
      "metadata": {
        "cell_id": "f422b1e22f4f42f3a356142f1f1bf84f",
        "tags": [],
        "deepnote_to_be_reexecuted": false,
        "source_hash": "e36e6c2",
        "execution_start": 1649093909514,
        "execution_millis": 13,
        "deepnote_cell_type": "code",
        "deepnote_cell_height": 1413,
        "id": "fZJ5MQY9iRmX"
      },
      "source": [
        "def _clean_csv(arr):\n",
        "    out = []\n",
        "\n",
        "    # Age\n",
        "    age = int(arr[0])\n",
        "    out.append(age)\n",
        "\n",
        "    #Gender Female = 0, Male = 1 \n",
        "    gender = arr[1]\n",
        "    if gender.strip().lower() == 'male': out.append(1)\n",
        "    else: out.append( 0)\n",
        "\n",
        "    # Education level \n",
        "    col_encode = one_hot_encode_edu(arr[2])\n",
        "    out.extend(col_encode)\n",
        "\n",
        "    # Father alive \n",
        "    out.append ( _yes_no( arr[3]))\n",
        "\n",
        "    # prev schoolarship beneficiary \n",
        "    out.append ( _yes_no( arr[4]))\n",
        "\n",
        "    # dependants on guardian \n",
        "    dependants = convert_dependants_and_siblings_to_int( arr[5])\n",
        "    out.append( dependants)\n",
        "\n",
        "    # has guardian \n",
        "    out.append ( _yes_no( arr[6]))\n",
        "\n",
        "    # has income source \n",
        "    out.append ( _yes_no( arr[7]))\n",
        "    \n",
        "    # plans to join another university \n",
        "    out.append ( _yes_no( arr[8]))\n",
        "\n",
        "\n",
        "    # is in a domestic partnership  \n",
        "    out.append ( _yes_no( arr[9]))\n",
        "\n",
        "    # Mother alive   \n",
        "    out.append ( _yes_no( arr[10]))\n",
        "\n",
        "    # neighbourhood\n",
        "    col_encode2 = one_hot_encode_neigh(arr[11])\n",
        "    out.extend(col_encode2)\n",
        "    \n",
        "    # siblings of applicant \n",
        "    siblings = convert_dependants_and_siblings_to_int( arr[12])\n",
        "    out.append( siblings)\n",
        "\n",
        "     # dependants on applicant \n",
        "    dependants2 = convert_dependants_and_siblings_to_int( arr[13])\n",
        "    out.append( dependants2)\n",
        "\n",
        "    # Is previously a student   \n",
        "    out.append ( _yes_no( arr[14]))\n",
        "\n",
        "    # rents house \n",
        "    out.append ( _yes_no( arr[15]))\n",
        "\n",
        "    # applicant source \n",
        "    souce = applicant_source( arr[16])\n",
        "    out.append(souce)\n",
        "\n",
        "    # Has tech experience \n",
        "    out.append ( _yes_no( arr[17]))\n",
        "\n",
        "    # Used a computer \n",
        "    out.append ( _yes_no( arr[18]))\n",
        "\n",
        "    # has work experience \n",
        "    out.append ( _yes_no( arr[19]))\n",
        "\n",
        "    \n",
        "    return out"
      ],
      "execution_count": null,
      "outputs": []
    },
    {
      "cell_type": "code",
      "source": [
        "def helper(index):\n",
        "  obj = {\n",
        "      1:\"age\", 2:\"gender\", 3:\"education_level\", 4:\"father_alive\", 5:\"prev_scholarship\", 6:\"num_dependants\", 7:\"has_guardian\",  8:\"has_income\", 9:\"another_university\",\n",
        "            10:\"marital_status\",  11:\"mother_alive\", 12:\"neighborhood\", 13:\"no_siblings\",  14:\"dependants\", 15:\"prev_student\", 16:\"rent\",17:\"source\", 18:\"tech_experience\",  19:\"used_comp\", 20: \"work_experience\"\n",
        "  }\n",
        "  return obj[index]"
      ],
      "metadata": {
        "id": "CQ6lyjOc_ZPh"
      },
      "execution_count": null,
      "outputs": []
    },
    {
      "cell_type": "code",
      "metadata": {
        "cell_id": "ba32fe6d9cd148edac66a730e9081f9a",
        "tags": [],
        "deepnote_to_be_reexecuted": false,
        "source_hash": "6450903c",
        "execution_start": 1649093909535,
        "execution_millis": 6,
        "deepnote_cell_type": "code",
        "deepnote_cell_height": 495,
        "id": "lc6JeGaTiRmX"
      },
      "source": [
        "\n",
        "def clean_csv(csv): \n",
        "    datas = pd.read_csv(csv)\n",
        "    print(1)\n",
        "    arr = datas.values.tolist()\n",
        "    print(2)\n",
        "    out = []\n",
        "    for applicant in arr:\n",
        "        output_temp = {}\n",
        "        reasons = []\n",
        "        email = applicant[0]\n",
        "        print(\"Here\", email)\n",
        "\n",
        "        data = applicant[1:]\n",
        "        temp = [_clean_csv(data)]\n",
        "        print(temp)\n",
        "        res = pd.DataFrame(temp, columns = x_test.columns.tolist())\n",
        "        temp_reason = []\n",
        "        result = clf.predict(res)\n",
        "        if result[0] == 0: # means reject\n",
        "          temp_reason = []\n",
        "          for index, item in enumerate(temp):\n",
        "            temp_ = temp\n",
        "            if temp_[index] == 1: temp_[index] = 0\n",
        "            elif temp_[index] == 0: temp_[index] = 1\n",
        "            res = pd.DataFrame(temp_, columns = x_test.columns.tolist())\n",
        "            result_ = clf.predict(res)\n",
        "            if result_[0] == 1: # means accepted falsely\n",
        "             reasons.append( helper(index))\n",
        "\n",
        "\n",
        "        output_temp['email'] = email\n",
        "        if result[0] == 1:\n",
        "            output_temp['recommendation'] = \"Admit - Under Scholarship\"\n",
        "            output_temp['reason'] =\"\"     \n",
        "        else:\n",
        "           output_temp['recommendation'] = \"Reject -  Under Scholarship\"\n",
        "        output_temp['reason'] = reasons\n",
        "        out.append(output_temp)\n",
        "    return out "
      ],
      "execution_count": null,
      "outputs": []
    },
    {
      "cell_type": "code",
      "metadata": {
        "cell_id": "494bf49e9a3649ea90649cb0bcc2db9b",
        "tags": [],
        "deepnote_to_be_reexecuted": false,
        "source_hash": "ebe1bfb6",
        "execution_start": 1649093909543,
        "execution_millis": 42,
        "deepnote_cell_type": "code",
        "deepnote_cell_height": 316.875,
        "deepnote_output_heights": [
          null,
          136.3125
        ],
        "id": "xlx6sNQ4iRmY"
      },
      "source": [
        "# clean_csv(\"dummy_data-20220402-123926.csv\")"
      ],
      "execution_count": null,
      "outputs": []
    },
    {
      "cell_type": "code",
      "metadata": {
        "cell_id": "156892ff7ff749cdb3d3fabb3682b516",
        "tags": [],
        "deepnote_to_be_reexecuted": false,
        "source_hash": "23013d94",
        "execution_start": 1649093909584,
        "execution_millis": 7907,
        "deepnote_cell_type": "code",
        "deepnote_cell_height": 501.5625,
        "colab": {
          "base_uri": "https://localhost:8080/",
          "height": 265
        },
        "id": "bBzenQYHiRmZ",
        "outputId": "1d17f861-6fda-42a6-e872-75fa5ced6d60"
      },
      "source": [
        "!pip install anvil-uplink"
      ],
      "execution_count": null,
      "outputs": [
        {
          "output_type": "stream",
          "name": "stdout",
          "text": [
            "Requirement already satisfied: anvil-uplink in /usr/local/lib/python3.7/dist-packages (0.3.42)\n",
            "Requirement already satisfied: future in /usr/local/lib/python3.7/dist-packages (from anvil-uplink) (0.16.0)\n",
            "Requirement already satisfied: ws4py in /usr/local/lib/python3.7/dist-packages (from anvil-uplink) (0.5.1)\n",
            "Collecting argparse\n",
            "  Using cached argparse-1.4.0-py2.py3-none-any.whl (23 kB)\n",
            "Requirement already satisfied: six in /usr/local/lib/python3.7/dist-packages (from anvil-uplink) (1.15.0)\n",
            "Installing collected packages: argparse\n",
            "Successfully installed argparse-1.4.0\n"
          ]
        },
        {
          "output_type": "display_data",
          "data": {
            "application/vnd.colab-display-data+json": {
              "pip_warning": {
                "packages": [
                  "argparse"
                ]
              }
            }
          },
          "metadata": {}
        }
      ]
    },
    {
      "cell_type": "code",
      "source": [
        "import string \n",
        "\n",
        "def is_csv(infile):\n",
        "    try:\n",
        "        with open(infile, newline='') as csvfile:\n",
        "            start = csvfile.read(4096)\n",
        "\n",
        "            # isprintable does not allow newlines, printable does not allow umlauts...\n",
        "            if not all([c in string.printable or c.isprintable() for c in start]):\n",
        "                return False\n",
        "            dialect = csv.Sniffer().sniff(start)\n",
        "            return True\n",
        "    except csv.Error:\n",
        "        # Could not get a csv dialect -> probably not a csv.\n",
        "        return False"
      ],
      "metadata": {
        "id": "OhJUViSXEIn1"
      },
      "execution_count": null,
      "outputs": []
    },
    {
      "cell_type": "code",
      "metadata": {
        "cell_id": "04955f700d94411ea1287fdc61242854",
        "tags": [],
        "deepnote_to_be_reexecuted": false,
        "source_hash": "9dfa65ef",
        "execution_start": 1649093917547,
        "execution_millis": 40,
        "deepnote_cell_type": "code",
        "deepnote_cell_height": 225,
        "id": "Gy_tlVutiRmZ"
      },
      "source": [
        "# -> takes in a csv file and returns an array of len 27\n",
        "import anvil.media\n",
        "import pathlib\n",
        "import csv\n",
        "\n",
        "@anvil.server.callable\n",
        "def load_data_colab(csv_file):\n",
        "\n",
        "  with anvil.media.TempFile(csv_file) as filename:\n",
        "    if is_csv(filename):\n",
        "      try:\n",
        "        return clean_csv(filename)\n",
        "\n",
        "      except AttributeError: # check if its correct csv file\n",
        "        return \"AttributeError\"\n",
        "    else:\n",
        "      return \"Wrong File Uploaded\"\n",
        "\n",
        "\n"
      ],
      "execution_count": null,
      "outputs": []
    },
    {
      "cell_type": "code",
      "source": [
        "is_csv(\"/content/drive/MyDrive/Colab Notebooks/Data Mining/summative/processed_applicants_data.csv\")"
      ],
      "metadata": {
        "colab": {
          "base_uri": "https://localhost:8080/"
        },
        "id": "Uq4gm4lQEt8t",
        "outputId": "fe6efff7-7bf2-47b0-8187-9f03dbe2bb99"
      },
      "execution_count": null,
      "outputs": [
        {
          "output_type": "execute_result",
          "data": {
            "text/plain": [
              "True"
            ]
          },
          "metadata": {},
          "execution_count": 86
        }
      ]
    },
    {
      "cell_type": "code",
      "metadata": {
        "cell_id": "f64991d597b748428f4c72955562a7b2",
        "tags": [],
        "deepnote_to_be_reexecuted": false,
        "source_hash": "23013d94",
        "execution_start": 1649093917587,
        "execution_millis": 3580,
        "deepnote_cell_type": "code",
        "deepnote_cell_height": 271.3125,
        "colab": {
          "base_uri": "https://localhost:8080/",
          "height": 265
        },
        "id": "zyxjwbgOiRma",
        "outputId": "bd1f71b1-a82e-40b5-dcea-b99307ab6488"
      },
      "source": [
        "!pip install anvil-uplink"
      ],
      "execution_count": null,
      "outputs": [
        {
          "output_type": "stream",
          "name": "stdout",
          "text": [
            "Requirement already satisfied: anvil-uplink in /usr/local/lib/python3.7/dist-packages (0.3.42)\n",
            "Requirement already satisfied: ws4py in /usr/local/lib/python3.7/dist-packages (from anvil-uplink) (0.5.1)\n",
            "Requirement already satisfied: six in /usr/local/lib/python3.7/dist-packages (from anvil-uplink) (1.15.0)\n",
            "Collecting argparse\n",
            "  Using cached argparse-1.4.0-py2.py3-none-any.whl (23 kB)\n",
            "Requirement already satisfied: future in /usr/local/lib/python3.7/dist-packages (from anvil-uplink) (0.16.0)\n",
            "Installing collected packages: argparse\n",
            "Successfully installed argparse-1.4.0\n"
          ]
        },
        {
          "output_type": "display_data",
          "data": {
            "application/vnd.colab-display-data+json": {
              "pip_warning": {
                "packages": [
                  "argparse"
                ]
              }
            }
          },
          "metadata": {}
        }
      ]
    },
    {
      "cell_type": "code",
      "metadata": {
        "cell_id": "00c6404220e2412aada6bc7e6b1f59f2",
        "tags": [],
        "deepnote_to_be_reexecuted": false,
        "source_hash": "67f5c043",
        "execution_start": 1649093921173,
        "execution_millis": 9,
        "deepnote_cell_type": "code",
        "deepnote_cell_height": 99,
        "id": "NkfKc4oMiRma"
      },
      "source": [
        "import anvil.server\n"
      ],
      "execution_count": null,
      "outputs": []
    },
    {
      "cell_type": "code",
      "metadata": {
        "cell_id": "3adf6d0572a94b66bd4487e81e236c23",
        "tags": [],
        "deepnote_to_be_reexecuted": false,
        "source_hash": "706171b4",
        "execution_start": 1649093921182,
        "execution_millis": 382,
        "deepnote_cell_type": "code",
        "deepnote_cell_height": 167.5625,
        "id": "oku85RdjiRma"
      },
      "source": [
        "anvil.server.connect(\"7TICLXZPOE6AXCRFRBSY76JA-JPG3HHS3PATSMBZT\")\n"
      ],
      "execution_count": null,
      "outputs": []
    },
    {
      "cell_type": "code",
      "metadata": {
        "cell_id": "6aba698fa71f4e8eafe646f5cade18b5",
        "tags": [],
        "deepnote_to_be_reexecuted": false,
        "source_hash": "5f90e13a",
        "execution_start": 1649093921566,
        "execution_millis": 3,
        "deepnote_cell_type": "code",
        "deepnote_cell_height": 111.1875,
        "id": "MpE1G0UsiRma",
        "colab": {
          "base_uri": "https://localhost:8080/"
        },
        "outputId": "d1a5a308-95d7-4681-a711-0562c2741b75"
      },
      "source": [
        "print(\"hehe\")"
      ],
      "execution_count": null,
      "outputs": [
        {
          "output_type": "stream",
          "name": "stdout",
          "text": [
            "hehe\n"
          ]
        }
      ]
    },
    {
      "cell_type": "code",
      "metadata": {
        "cell_id": "0916f0ef3b8244aab84d786d0ba078c5",
        "tags": [],
        "deepnote_to_be_reexecuted": false,
        "source_hash": "b623e53d",
        "execution_start": 1649093921571,
        "execution_millis": 0,
        "deepnote_cell_type": "code",
        "deepnote_cell_height": 81,
        "id": "bNEZBU3hiRmb"
      },
      "source": [
        ""
      ],
      "execution_count": null,
      "outputs": []
    },
    {
      "cell_type": "code",
      "source": [
        ""
      ],
      "metadata": {
        "id": "5Zj2XJUF5Qa_"
      },
      "execution_count": null,
      "outputs": []
    },
    {
      "cell_type": "code",
      "source": [
        "data.to_dict('records')"
      ],
      "metadata": {
        "id": "1ovV7Jl9LHLq"
      },
      "execution_count": null,
      "outputs": []
    },
    {
      "cell_type": "code",
      "source": [
        ""
      ],
      "metadata": {
        "id": "MGRM_Ee5LLeJ"
      },
      "execution_count": null,
      "outputs": []
    }
  ],
  "nbformat": 4,
  "nbformat_minor": 0,
  "metadata": {
    "orig_nbformat": 2,
    "deepnote": {
      "is_reactive": false
    },
    "deepnote_notebook_id": "dc73c85e-9628-4314-b3a2-7234b2e9560a",
    "deepnote_execution_queue": [],
    "colab": {
      "name": "production.ipynb",
      "provenance": []
    },
    "language_info": {
      "name": "python"
    },
    "kernelspec": {
      "name": "python3",
      "display_name": "Python 3"
    }
  }
}